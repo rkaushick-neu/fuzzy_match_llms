{
 "cells": [
  {
   "cell_type": "markdown",
   "id": "bfa9e9b4",
   "metadata": {},
   "source": [
    "# Fuzzy Matching Transaction Descriptors to Merchants\n",
    "\n",
    "Submitted by: Rishabh Kaushick <br>\n",
    "Date: April 20, 2025"
   ]
  },
  {
   "cell_type": "markdown",
   "id": "a9dec59d",
   "metadata": {},
   "source": [
    "# 1. Environment Setup"
   ]
  },
  {
   "cell_type": "code",
   "execution_count": 1,
   "id": "72061ce1",
   "metadata": {},
   "outputs": [
    {
     "name": "stdout",
     "output_type": "stream",
     "text": [
      "Note: you may need to restart the kernel to use updated packages.\n",
      "Note: you may need to restart the kernel to use updated packages.\n"
     ]
    }
   ],
   "source": [
    "# downloading libraries\n",
    "%pip install --quiet openai\n",
    "%pip install --quiet google-generativeai"
   ]
  },
  {
   "cell_type": "code",
   "execution_count": 72,
   "id": "45afafd9",
   "metadata": {},
   "outputs": [
    {
     "name": "stdout",
     "output_type": "stream",
     "text": [
      "Note: you may need to restart the kernel to use updated packages.\n"
     ]
    }
   ],
   "source": [
    "%pip install --quiet scikit-learn"
   ]
  },
  {
   "cell_type": "code",
   "execution_count": 133,
   "id": "b07c6022",
   "metadata": {},
   "outputs": [
    {
     "name": "stdout",
     "output_type": "stream",
     "text": [
      "Note: you may need to restart the kernel to use updated packages.\n"
     ]
    }
   ],
   "source": [
    "%pip install --quiet xgboost"
   ]
  },
  {
   "cell_type": "code",
   "execution_count": 182,
   "id": "728e3495",
   "metadata": {},
   "outputs": [
    {
     "name": "stdout",
     "output_type": "stream",
     "text": [
      "Note: you may need to restart the kernel to use updated packages.\n"
     ]
    }
   ],
   "source": [
    "%pip install --quiet ollama"
   ]
  },
  {
   "cell_type": "code",
   "execution_count": 187,
   "id": "be6746f3",
   "metadata": {},
   "outputs": [],
   "source": [
    "%reset"
   ]
  },
  {
   "cell_type": "markdown",
   "id": "f3cd1448",
   "metadata": {},
   "source": [
    "## Importing Libraries"
   ]
  },
  {
   "cell_type": "code",
   "execution_count": 194,
   "id": "57c660a2",
   "metadata": {},
   "outputs": [],
   "source": [
    "# importing required libraries\n",
    "\n",
    "import os\n",
    "import random\n",
    "import time\n",
    "from typing import List\n",
    "\n",
    "# data manipulation\n",
    "import pandas as pd\n",
    "import numpy as np\n",
    "import matplotlib.pyplot as plt\n",
    "import seaborn as sns\n",
    "from scipy.sparse import hstack\n",
    "\n",
    "# llm apis\n",
    "from openai import OpenAI\n",
    "import google.generativeai as genai\n",
    "\n",
    "# deep learning/ ml libraries\n",
    "import torch\n",
    "import torch.nn as nn\n",
    "import torch.optim as optim\n",
    "import torch.nn.functional as F\n",
    "import torchvision.models as models\n",
    "from torch.utils.data import Dataset, DataLoader\n",
    "import torchvision.transforms as transforms\n",
    "from tqdm import tqdm\n",
    "from sklearn.model_selection import train_test_split, GridSearchCV\n",
    "from sklearn.feature_extraction.text import TfidfVectorizer\n",
    "from sklearn.metrics import classification_report, confusion_matrix\n",
    "from xgboost import XGBClassifier\n",
    "import ollama\n",
    "import joblib"
   ]
  },
  {
   "cell_type": "markdown",
   "id": "b9bae387",
   "metadata": {},
   "source": [
    "## Setting up GPU"
   ]
  },
  {
   "cell_type": "code",
   "execution_count": 76,
   "id": "0c9de03b",
   "metadata": {},
   "outputs": [
    {
     "name": "stdout",
     "output_type": "stream",
     "text": [
      "PyTorch version: 2.6.0\n",
      "Is CUDA available: False\n",
      "CUDA is not available. Running on CPU.\n"
     ]
    }
   ],
   "source": [
    "print(f\"PyTorch version: {torch.__version__}\")\n",
    "print(f\"Is CUDA available: {torch.cuda.is_available()}\")\n",
    " \n",
    "if torch.cuda.is_available():\n",
    "    print(f\"CUDA version: {torch.version.cuda}\")\n",
    "    print(f\"cuDNN version: {torch.backends.cudnn.version()}\")\n",
    "    print(f\"cuDNN enabled: {torch.backends.cudnn.enabled}\")\n",
    "    print(f\"GPU Count: {torch.cuda.device_count()}\")\n",
    "    \n",
    "    for i in range(torch.cuda.device_count()):\n",
    "        print(f\"GPU {i}: {torch.cuda.get_device_name(i)}\")\n",
    "        print(f\"Memory Allocated: {torch.cuda.memory_allocated(i) / 1024**2:.2f} MB\")\n",
    "        print(f\"Memory Reserved: {torch.cuda.memory_reserved(i) / 1024**2:.2f} MB\")\n",
    " \n",
    "else:\n",
    "    print(\"CUDA is not available. Running on CPU.\")"
   ]
  },
  {
   "cell_type": "markdown",
   "id": "1395bafc",
   "metadata": {},
   "source": [
    "# 2. Dataset Preparation and Exploration"
   ]
  },
  {
   "cell_type": "code",
   "execution_count": 5,
   "id": "5bbc5531",
   "metadata": {},
   "outputs": [],
   "source": [
    "NUM_MATCH = 2500\n",
    "NUM_MISMATCH = 2500\n",
    "\n",
    "MERCHANT_EXAMPLES = [\n",
    "    \"Walmart Ottawa Store 001\",\n",
    "    \"McDonald's Vancouver Store 234\",\n",
    "    \"Amazon Canada Marketplace\",\n",
    "    \"Uber Ride Los Angeles\",\n",
    "    \"Tim Hortons Toronto Store 450\"\n",
    "]"
   ]
  },
  {
   "cell_type": "markdown",
   "id": "7ccaf6da",
   "metadata": {},
   "source": [
    "## LLMs to Generate Synthetic Data"
   ]
  },
  {
   "cell_type": "code",
   "execution_count": null,
   "id": "d642bbbd",
   "metadata": {},
   "outputs": [],
   "source": [
    "LLMS = [\"ChatGPT-4o\", \"Gemini 1.5 Pro\"]"
   ]
  },
  {
   "cell_type": "markdown",
   "id": "4dc9f8a7",
   "metadata": {},
   "source": [
    "### Generating Merchant Names"
   ]
  },
  {
   "cell_type": "markdown",
   "id": "a1454948",
   "metadata": {},
   "source": [
    "### OpenAI ChatGPT-4o Generated Data"
   ]
  },
  {
   "cell_type": "code",
   "execution_count": 11,
   "id": "3a254dff",
   "metadata": {},
   "outputs": [],
   "source": [
    "openai_client = OpenAI(api_key=os.getenv(\"OPENAI_API_KEY\"))"
   ]
  },
  {
   "cell_type": "code",
   "execution_count": 13,
   "id": "1edf9f73",
   "metadata": {},
   "outputs": [],
   "source": [
    "def generate_merchant_names_openai(num_merchants: int = 500) -> List[str]:\n",
    "    prompt = f\"\"\"\n",
    "                Generate {num_merchants} realistic merchant or store names that could appear in financial transaction records.\n",
    "                Include a mix of:\n",
    "                - Retail stores\n",
    "                - Grocery stores\n",
    "                - Fast food chains\n",
    "                - Gas stations\n",
    "                - Online marketplaces\n",
    "                - Ride-sharing companies\n",
    "                - Entertainment venues\n",
    "                - Restaurants and cafes\n",
    "                - Banks and financial institutions\n",
    "\n",
    "                The names should sound real and diverse, and primarily based in North America. Output one name per line without numbering or bullets.\n",
    "                Here are some examples of the merchants: \n",
    "                {MERCHANT_EXAMPLES}\n",
    "                \"\"\"\n",
    "    response = openai_client.responses.create(\n",
    "        model=\"gpt-4o\",\n",
    "        input=[{\"role\": \"user\", \"content\": prompt}],\n",
    "        temperature=0.85,\n",
    "        max_output_tokens=2000\n",
    "    )\n",
    "    merchant_text = response.output_text\n",
    "    merchant_list = merchant_text.strip().split('\\n')\n",
    "    merchant_list = [m.strip() for m in merchant_list if m.strip()]\n",
    "    return merchant_list[:num_merchants]\n"
   ]
  },
  {
   "cell_type": "code",
   "execution_count": null,
   "id": "816c7f1b",
   "metadata": {},
   "outputs": [
    {
     "name": "stdout",
     "output_type": "stream",
     "text": [
      "Generating merchant names...\n",
      "Generated 311 merchant names.\n",
      "LLM generated merchants saved to CSV.\n"
     ]
    }
   ],
   "source": [
    "print(\"Generating merchant names...\")\n",
    "LLM_MERCHANTS = generate_merchant_names_openai(num_merchants=500)\n",
    "print(f\"Generated {len(LLM_MERCHANTS)} merchant names.\")\n",
    "\n",
    "# save the LLM generated merchants in Pandas & CSV:\n",
    "merchant_df = pd.DataFrame(LLM_MERCHANTS, columns=[\"LLM Generated Merchant\"])\n",
    "merchant_df.to_csv(\"./data/llm_generated_merchants.csv\", index=False)\n",
    "print(\"LLM generated merchants saved to CSV.\")"
   ]
  },
  {
   "cell_type": "code",
   "execution_count": 16,
   "id": "6598157d",
   "metadata": {},
   "outputs": [
    {
     "name": "stdout",
     "output_type": "stream",
     "text": [
      "Sample of LLM generated merchants:\n",
      "             LLM Generated Merchant\n",
      "290          IHOP Canada Restaurant\n",
      "9          Netflix Subscription USA\n",
      "57           PayPal Online Services\n",
      "60   Chipotle Mexican Grill Toronto\n",
      "25         AMC Theatres Los Angeles\n",
      "63      ExxonMobil Station New York\n",
      "92    Papa John's Chicago Store 678\n",
      "184          Etsy Craft Marketplace\n",
      "244          Amazon Canada Services\n",
      "46     Pizza Hut New York Store 789\n"
     ]
    }
   ],
   "source": [
    "# let's review the merchants that ChatGPT generated\n",
    "print(\"Sample of LLM generated merchants:\")\n",
    "print(merchant_df.sample(10, random_state=42))"
   ]
  },
  {
   "cell_type": "markdown",
   "id": "51ceea0b",
   "metadata": {},
   "source": [
    "These look like good messy merchant descriptors. Thanks ChatGPT!"
   ]
  },
  {
   "cell_type": "markdown",
   "id": "4a06a875",
   "metadata": {},
   "source": [
    "Let us add an extra column which has details of the model which generated the data. In case we want to use other LLMs to generate this data in the future, this information will be useful to know."
   ]
  },
  {
   "cell_type": "code",
   "execution_count": 18,
   "id": "52849f75",
   "metadata": {},
   "outputs": [],
   "source": [
    "# adding another column called \"LLM\" which holds the value 'ChatGPT-4o'\n",
    "merchant_df[\"LLM\"] = \"ChatGPT-4o\""
   ]
  },
  {
   "cell_type": "code",
   "execution_count": 20,
   "id": "7bb52774",
   "metadata": {},
   "outputs": [
    {
     "data": {
      "text/html": [
       "<div>\n",
       "<style scoped>\n",
       "    .dataframe tbody tr th:only-of-type {\n",
       "        vertical-align: middle;\n",
       "    }\n",
       "\n",
       "    .dataframe tbody tr th {\n",
       "        vertical-align: top;\n",
       "    }\n",
       "\n",
       "    .dataframe thead th {\n",
       "        text-align: right;\n",
       "    }\n",
       "</style>\n",
       "<table border=\"1\" class=\"dataframe\">\n",
       "  <thead>\n",
       "    <tr style=\"text-align: right;\">\n",
       "      <th></th>\n",
       "      <th>LLM Generated Merchant</th>\n",
       "      <th>LLM</th>\n",
       "    </tr>\n",
       "  </thead>\n",
       "  <tbody>\n",
       "    <tr>\n",
       "      <th>0</th>\n",
       "      <td>Walmart Chicago Store 102</td>\n",
       "      <td>ChatGPT-4o</td>\n",
       "    </tr>\n",
       "    <tr>\n",
       "      <th>1</th>\n",
       "      <td>Target Atlanta Supercenter</td>\n",
       "      <td>ChatGPT-4o</td>\n",
       "    </tr>\n",
       "    <tr>\n",
       "      <th>2</th>\n",
       "      <td>Starbucks New York Store 678</td>\n",
       "      <td>ChatGPT-4o</td>\n",
       "    </tr>\n",
       "    <tr>\n",
       "      <th>3</th>\n",
       "      <td>Costco Wholesale Seattle</td>\n",
       "      <td>ChatGPT-4o</td>\n",
       "    </tr>\n",
       "    <tr>\n",
       "      <th>4</th>\n",
       "      <td>Shell Gas Station Houston</td>\n",
       "      <td>ChatGPT-4o</td>\n",
       "    </tr>\n",
       "  </tbody>\n",
       "</table>\n",
       "</div>"
      ],
      "text/plain": [
       "         LLM Generated Merchant         LLM\n",
       "0     Walmart Chicago Store 102  ChatGPT-4o\n",
       "1    Target Atlanta Supercenter  ChatGPT-4o\n",
       "2  Starbucks New York Store 678  ChatGPT-4o\n",
       "3      Costco Wholesale Seattle  ChatGPT-4o\n",
       "4     Shell Gas Station Houston  ChatGPT-4o"
      ]
     },
     "execution_count": 20,
     "metadata": {},
     "output_type": "execute_result"
    }
   ],
   "source": [
    "merchant_df.head()"
   ]
  },
  {
   "cell_type": "code",
   "execution_count": 21,
   "id": "180c6673",
   "metadata": {},
   "outputs": [],
   "source": [
    "# Looks good. Let's save it again\n",
    "merchant_df.to_csv(\"./data/llm_generated_merchants.csv\", index=False)"
   ]
  },
  {
   "cell_type": "markdown",
   "id": "fef4ebb2",
   "metadata": {},
   "source": [
    "##### Loading The Pre-Generated Merchant Names"
   ]
  },
  {
   "cell_type": "code",
   "execution_count": 22,
   "id": "ffe0d56c",
   "metadata": {},
   "outputs": [
    {
     "name": "stdout",
     "output_type": "stream",
     "text": [
      "Loaded 311 merchants from CSV.\n"
     ]
    }
   ],
   "source": [
    "# load the merchants from CSV\n",
    "merchant_df = pd.read_csv(\"./data/llm_generated_merchants.csv\")\n",
    "print(f\"Loaded {len(merchant_df)} merchants from CSV.\")"
   ]
  },
  {
   "cell_type": "markdown",
   "id": "e5d2c325",
   "metadata": {},
   "source": [
    "### Method to Generate Merchant Messy Descriptors (Match)\n",
    "\n",
    "Next, we must let's use the messy merchants again through LLMs to ask them to create 5 messy descriptors for each merchant."
   ]
  },
  {
   "cell_type": "code",
   "execution_count": 51,
   "id": "88278373",
   "metadata": {},
   "outputs": [],
   "source": [
    "def generate_messy_descriptors_openai(merchant_names: List[str]) -> str:\n",
    "    prompt = f\"\"\"You are helping generate synthetic messy merchant descriptors for training a machine learning model.\n",
    "                For each merchant name below, generate 5 messy descriptors that could realistically appear in transaction data.\n",
    "\n",
    "                The messy descriptors should:\n",
    "                - Use abbreviations, typos, and truncations.\n",
    "                - Randomly include store numbers, city names, or country codes.\n",
    "                - Add random symbols like *, -, #, etc.\n",
    "                - Vary the word order sometimes.\n",
    "                - Maintain overall meaning.\n",
    "\n",
    "                Output format:\n",
    "                - Start each merchant block with 'Merchant: <Merchant Name>'\n",
    "                - List 5 messy descriptors (one per line, no bullets)\n",
    "\n",
    "                Merchants:\n",
    "                {chr(10).join(merchant_names)}\n",
    "                \"\"\"\n",
    "    response = openai_client.responses.create(\n",
    "        model=\"gpt-4.1\",\n",
    "        input=[{\"role\": \"user\", \"content\": prompt}],\n",
    "        temperature=0.85,\n",
    "        max_output_tokens=4000,\n",
    "    )\n",
    "    messy_text = response.output_text\n",
    "    return messy_text"
   ]
  },
  {
   "cell_type": "markdown",
   "id": "b82bacd2",
   "metadata": {},
   "source": [
    "Let's test the above method to see how ChatGPT generates the data."
   ]
  },
  {
   "cell_type": "code",
   "execution_count": 29,
   "id": "0f696c16",
   "metadata": {},
   "outputs": [],
   "source": [
    "chatgpt_messy_descriptors_starbucks = generate_messy_descriptors_openai(merchant_names=['Starbucks New York Store 678'])"
   ]
  },
  {
   "cell_type": "code",
   "execution_count": 30,
   "id": "1cba8b05",
   "metadata": {},
   "outputs": [
    {
     "data": {
      "text/plain": [
       "'Merchant: Starbucks New York Store 678  \\nStrbcks NY 678#  \\nSbucks Store 678* NY  \\nStarbux NewYrk 678#  \\nStarbucks678 NY  \\nSt*rBk NY678 Store  \\n\\n'"
      ]
     },
     "execution_count": 30,
     "metadata": {},
     "output_type": "execute_result"
    }
   ],
   "source": [
    "chatgpt_messy_descriptors_starbucks"
   ]
  },
  {
   "cell_type": "markdown",
   "id": "398531ab",
   "metadata": {},
   "source": [
    "Let's write another method to parse the ChatGPT generated data."
   ]
  },
  {
   "cell_type": "code",
   "execution_count": 31,
   "id": "a9222168",
   "metadata": {},
   "outputs": [],
   "source": [
    "# Parses the batched output from OpenAI or Gemini.\n",
    "def parse_batch_output(text: str) -> dict:\n",
    "    # Returns a dictionary: {merchant_name: [list of messy descriptors]}\n",
    "    results = {}\n",
    "    current_merchant = None\n",
    "    lines = text.splitlines()\n",
    "\n",
    "    for line in lines:\n",
    "        line = line.strip()\n",
    "        if not line:\n",
    "            continue\n",
    "        if line.startswith(\"Merchant:\"):\n",
    "            current_merchant = line.replace(\"Merchant:\", \"\").strip()\n",
    "            results[current_merchant] = []\n",
    "        elif current_merchant:\n",
    "            results[current_merchant].append(line)\n",
    "\n",
    "    # Optional: Keep only 5 descriptors per merchant\n",
    "    # for merchant in results:\n",
    "    #     results[merchant] = results[merchant][:5]\n",
    "    return results"
   ]
  },
  {
   "cell_type": "code",
   "execution_count": 32,
   "id": "452bae04",
   "metadata": {},
   "outputs": [
    {
     "name": "stdout",
     "output_type": "stream",
     "text": [
      "Parsed messy descriptors for Starbucks:\n",
      "{'Starbucks New York Store 678': ['Strbcks NY 678#', 'Sbucks Store 678* NY', 'Starbux NewYrk 678#', 'Starbucks678 NY', 'St*rBk NY678 Store']}\n"
     ]
    }
   ],
   "source": [
    "starbucks_messy_descriptors = parse_batch_output(chatgpt_messy_descriptors_starbucks)\n",
    "print(\"Parsed messy descriptors for Starbucks:\")\n",
    "print(starbucks_messy_descriptors)"
   ]
  },
  {
   "cell_type": "markdown",
   "id": "75cafa35",
   "metadata": {},
   "source": [
    "This looks great. Let's do the same with Gemini."
   ]
  },
  {
   "cell_type": "markdown",
   "id": "ee9ae278",
   "metadata": {},
   "source": [
    "### Google Gemini Generated Data"
   ]
  },
  {
   "cell_type": "code",
   "execution_count": 33,
   "id": "c23a28ed",
   "metadata": {},
   "outputs": [],
   "source": [
    "genai.configure(api_key=os.getenv(\"GEMINI_API_KEY\"))\n",
    "gemini_model = genai.GenerativeModel(\"gemini-1.5-pro\")"
   ]
  },
  {
   "cell_type": "code",
   "execution_count": 34,
   "id": "49ecfcd3",
   "metadata": {},
   "outputs": [],
   "source": [
    "def generate_messy_descriptors_gemini(merchant_names: List[str]) -> str:\n",
    "    prompt = f\"\"\"\n",
    "                You are helping generate synthetic messy merchant descriptors for training a machine learning model.\n",
    "\n",
    "                For each merchant name below, generate 5 messy descriptors that could realistically appear in transaction data. \n",
    "\n",
    "                The messy descriptors should:\n",
    "                - Use abbreviations, typos, and truncations.\n",
    "                - Randomly include store numbers, city names, or country codes.\n",
    "                - Add random symbols like *, -, #, etc.\n",
    "                - Vary the word order sometimes.\n",
    "                - Maintain overall meaning.\n",
    "\n",
    "                Output format:\n",
    "                - Start each merchant block with 'Merchant: <Merchant Name>'\n",
    "                - List 5 messy descriptors (one per line, no bullets)\n",
    "\n",
    "                Merchants:\n",
    "                {chr(10).join(merchant_names)}\n",
    "                \"\"\"\n",
    "    response = gemini_model.generate_content(\n",
    "        prompt,\n",
    "        generation_config={\n",
    "            \"temperature\": 0.85,\n",
    "            \"top_p\": 1.0,\n",
    "            \"max_output_tokens\": 4000,\n",
    "        },\n",
    "    )\n",
    "    messy_text = response.text\n",
    "    return messy_text"
   ]
  },
  {
   "cell_type": "code",
   "execution_count": null,
   "id": "f5ed7128",
   "metadata": {},
   "outputs": [],
   "source": [
    "# def generate_messy_descriptors_batch_gemini(merchant_names: List[str]) -> dict:\n",
    "#     prompt = f\"\"\"\n",
    "# You are helping generate synthetic messy merchant descriptors for training a machine learning model.\n",
    "\n",
    "# For each merchant name below, generate 5 messy descriptors that could realistically appear in transaction data.\n",
    "\n",
    "# The messy descriptors should:\n",
    "# - Use abbreviations, typos, and truncations\n",
    "# - Randomly include store numbers, city names, or country codes\n",
    "# - Add random symbols like *, -, #, etc.\n",
    "# - Vary word order sometimes\n",
    "# - Maintain overall meaning\n",
    "\n",
    "# Output format:\n",
    "# - Start each merchant block with 'Merchant: <Merchant Name>'\n",
    "# - List 5 messy descriptors (one per line, no bullets)\n",
    "\n",
    "# Merchants:\n",
    "# {chr(10).join(merchant_names)}\n",
    "# \"\"\"\n",
    "#     response = gemini_model.generate_content(\n",
    "#         prompt,\n",
    "#         generation_config={\n",
    "#             \"temperature\": 0.85,\n",
    "#             \"top_p\": 1.0,\n",
    "#             \"max_output_tokens\": 4000,\n",
    "#         },\n",
    "#     )\n",
    "#     messy_text = response.text\n",
    "#     return parse_batch_output(messy_text)\n"
   ]
  },
  {
   "cell_type": "markdown",
   "id": "3a0c7a28",
   "metadata": {},
   "source": [
    "Again testing it before running it on 2500 rows of data."
   ]
  },
  {
   "cell_type": "code",
   "execution_count": 35,
   "id": "f156e1db",
   "metadata": {},
   "outputs": [],
   "source": [
    "gemini_messy_descriptors_starbucks = generate_messy_descriptors_openai(merchant_names=['Starbucks New York Store 678'])"
   ]
  },
  {
   "cell_type": "code",
   "execution_count": 36,
   "id": "d665225f",
   "metadata": {},
   "outputs": [
    {
     "data": {
      "text/plain": [
       "'Merchant: Starbucks New York Store 678  \\nStarbcks NY #678  \\nStor 678*Starbucks-NY  \\nStarbux N.Y. 678  \\nNY678*Starbucks  \\nStore 678 New York Starbcks  '"
      ]
     },
     "execution_count": 36,
     "metadata": {},
     "output_type": "execute_result"
    }
   ],
   "source": [
    "gemini_messy_descriptors_starbucks"
   ]
  },
  {
   "cell_type": "code",
   "execution_count": 37,
   "id": "54e985bf",
   "metadata": {},
   "outputs": [
    {
     "name": "stdout",
     "output_type": "stream",
     "text": [
      "Parsed messy descriptors for Starbucks (Gemini):\n",
      "{'Starbucks New York Store 678': ['Starbcks NY #678', 'Stor 678*Starbucks-NY', 'Starbux N.Y. 678', 'NY678*Starbucks', 'Store 678 New York Starbcks']}\n"
     ]
    }
   ],
   "source": [
    "gemini_messy_descriptors_starbucks = parse_batch_output(gemini_messy_descriptors_starbucks)\n",
    "print(\"Parsed messy descriptors for Starbucks (Gemini):\")\n",
    "print(gemini_messy_descriptors_starbucks)"
   ]
  },
  {
   "cell_type": "markdown",
   "id": "e812d759",
   "metadata": {},
   "source": [
    "The helper method looks good. We also successfully tested both the ChatGPT API & Gemini API. Now we can generate around 2,500 rows of data each from ChatGPT & Gemini."
   ]
  },
  {
   "cell_type": "markdown",
   "id": "7d22d7c1",
   "metadata": {},
   "source": [
    "### Method to Generate Merchant Messy Descriptors (Mismatch)\n",
    "Apart from the 'Match', we also need to write some logic for the 'Mismatch'. Here, we can randomly take the merchant list and "
   ]
  },
  {
   "cell_type": "code",
   "execution_count": 49,
   "id": "6ff71f4f",
   "metadata": {},
   "outputs": [],
   "source": [
    "def random_mismatch_merchant(exclude: str, merchant_list: List[str]) -> str:\n",
    "    other_merchants = [m for m in merchant_list if m != exclude]\n",
    "    return random.choice(other_merchants)"
   ]
  },
  {
   "cell_type": "markdown",
   "id": "0ff225a7",
   "metadata": {},
   "source": [
    "The above code will randomly pick another merchant. This is good to begin with but we can try to get better mismatches. Let's try to do this using LLMs."
   ]
  },
  {
   "cell_type": "code",
   "execution_count": null,
   "id": "711057c2",
   "metadata": {},
   "outputs": [],
   "source": [
    "# using the latest chatgpt-4.1 model\n",
    "LLMS = [\"ChatGPT-4.1\", \"Gemini 1.5 Pro\"]\n",
    "\n",
    "def generate_hard_mismatches_openai(merchant_names: List[str]) -> str:\n",
    "    prompt = f\"\"\"\n",
    "You are helping generate synthetic confusing merchant descriptors for training a machine learning model.\n",
    "\n",
    "Given a list of real merchant names, generate 5 messy descriptors for each merchant that look very similar but actually belong to a different merchant entity.\n",
    "\n",
    "Rules:\n",
    "- Descriptors should be close in text to the original merchant.\n",
    "- But they should represent a different merchant (e.g., competing brand, different branch, slightly wrong store number, different location).\n",
    "- Introduce small changes like brand tweaks, number changes, or different location names.\n",
    "\n",
    "Example: \n",
    "'AMZNMKTP#123-CAN' does not belong to 'Amazing Mart Canada'\n",
    "'STRBCKS#001-TOR' does not belong to 'Star Books Toronto'\n",
    "\n",
    "Output format:\n",
    "- Output one block per merchant starting with 'Merchant: <Merchant Name>'\n",
    "- Then list 5 messy descriptors (one per line, no numbering, no bullets).\n",
    "\n",
    "Merchants:\n",
    "{chr(10).join(merchant_names)}\n",
    "\"\"\"\n",
    "    response = openai_client.responses.create(\n",
    "        model=\"gpt-4.1\",\n",
    "        input=[{\"role\": \"user\", \"content\": prompt}],\n",
    "        temperature=0.85,\n",
    "        max_output_tokens=4000,\n",
    "    )\n",
    "    messy_text = response.output_text\n",
    "    return messy_text\n"
   ]
  },
  {
   "cell_type": "markdown",
   "id": "b3997c0d",
   "metadata": {},
   "source": [
    "Testing that this works with two different merchants"
   ]
  },
  {
   "cell_type": "code",
   "execution_count": 42,
   "id": "90729742",
   "metadata": {},
   "outputs": [],
   "source": [
    "test_mismatch_descriptors_chatgpt = generate_hard_mismatches_openai(merchant_names=['Starbucks New York Store 678', 'PayPal Transfer'])"
   ]
  },
  {
   "cell_type": "code",
   "execution_count": 43,
   "id": "3da14611",
   "metadata": {},
   "outputs": [
    {
     "data": {
      "text/plain": [
       "'Merchant: Starbucks New York Store 678  \\nStarbuckz New York Store 687  \\nStarbucks NYC Store 678  \\nStarbucks New York Store 768  \\nStarbucks Brooklyn Store 678  \\nStarbucks New York Store 679  \\n\\nMerchant: PayPal Transfer  \\nPayPol Transfer  \\nPayPal Transfers  \\nPayPal Tranfer  \\nPayPal TXFR  \\nPayPal Xfer'"
      ]
     },
     "execution_count": 43,
     "metadata": {},
     "output_type": "execute_result"
    }
   ],
   "source": [
    "test_mismatch_descriptors_chatgpt"
   ]
  },
  {
   "cell_type": "code",
   "execution_count": 44,
   "id": "5c52c4a6",
   "metadata": {},
   "outputs": [
    {
     "data": {
      "text/plain": [
       "{'Starbucks New York Store 678': ['Starbuckz New York Store 687',\n",
       "  'Starbucks NYC Store 678',\n",
       "  'Starbucks New York Store 768',\n",
       "  'Starbucks Brooklyn Store 678',\n",
       "  'Starbucks New York Store 679'],\n",
       " 'PayPal Transfer': ['PayPol Transfer',\n",
       "  'PayPal Transfers',\n",
       "  'PayPal Tranfer',\n",
       "  'PayPal TXFR',\n",
       "  'PayPal Xfer']}"
      ]
     },
     "execution_count": 44,
     "metadata": {},
     "output_type": "execute_result"
    }
   ],
   "source": [
    "test_mismatch_descriptors_chatgpt_dict = parse_batch_output(test_mismatch_descriptors_chatgpt)\n",
    "test_mismatch_descriptors_chatgpt_dict"
   ]
  },
  {
   "cell_type": "markdown",
   "id": "23a879d9",
   "metadata": {},
   "source": [
    "The above has created mismatched messy discriptors, but it isn't looking like real-world transactions. Therefore, I have decided to not use LLMs for mismatched transactions. Rather I will use the already generated transactions and induce some issues in them."
   ]
  },
  {
   "cell_type": "code",
   "execution_count": 46,
   "id": "a96bd498",
   "metadata": {},
   "outputs": [],
   "source": [
    "def introduce_typo(word):\n",
    "    \"\"\"Introduce a random character replacement typo in a word.\"\"\"\n",
    "    if len(word) < 3:\n",
    "        return word\n",
    "    idx = random.randint(1, len(word) - 2)\n",
    "    typo_char = random.choice('abcdefghijklmnopqrstuvwxyz')\n",
    "    return word[:idx] + typo_char + word[idx+1:]\n",
    "\n",
    "def randomly_drop_letter(word):\n",
    "    \"\"\"Randomly drop one letter from the word.\"\"\"\n",
    "    if len(word) <= 3:\n",
    "        return word\n",
    "    idx = random.randint(0, len(word) - 1)\n",
    "    return word[:idx] + word[idx+1:]\n",
    "\n",
    "def truncate_word(word):\n",
    "    \"\"\"Truncate the word randomly.\"\"\"\n",
    "    if len(word) < 4:\n",
    "        return word\n",
    "    return word[:random.randint(2, len(word)-1)]\n",
    "\n",
    "def shuffle_words(words):\n",
    "    \"\"\"Shuffle word order slightly.\"\"\"\n",
    "    random.shuffle(words)\n",
    "    return words\n",
    "\n",
    "def add_random_symbol(word):\n",
    "    \"\"\"Add random symbols like #, *, - into the word.\"\"\"\n",
    "    symbols = ['#', '*', '-', '.']\n",
    "    idx = random.randint(0, len(word))\n",
    "    symbol = random.choice(symbols)\n",
    "    return word[:idx] + symbol + word[idx:]\n",
    "\n",
    "def create_hard_mismatch_with_typos(merchant_name: str) -> str:\n",
    "    \"\"\"Create a hard mismatch messy descriptor from a merchant name.\"\"\"\n",
    "    words = merchant_name.split()\n",
    "\n",
    "    transformation = random.choice(['typo', 'drop', 'truncate', 'shuffle', 'symbol'])\n",
    "\n",
    "    if transformation == 'typo':\n",
    "        idx = random.randint(0, len(words)-1)\n",
    "        words[idx] = introduce_typo(words[idx])\n",
    "\n",
    "    elif transformation == 'drop':\n",
    "        idx = random.randint(0, len(words)-1)\n",
    "        words[idx] = randomly_drop_letter(words[idx])\n",
    "\n",
    "    elif transformation == 'truncate':\n",
    "        idx = random.randint(0, len(words)-1)\n",
    "        words[idx] = truncate_word(words[idx])\n",
    "\n",
    "    elif transformation == 'shuffle':\n",
    "        words = shuffle_words(words)\n",
    "\n",
    "    elif transformation == 'symbol':\n",
    "        idx = random.randint(0, len(words)-1)\n",
    "        words[idx] = add_random_symbol(words[idx])\n",
    "\n",
    "    # Sometimes apply two transformations randomly\n",
    "    if random.random() < 0.3:\n",
    "        return create_hard_mismatch_with_typos(' '.join(words))\n",
    "\n",
    "    return ' '.join(words)\n"
   ]
  },
  {
   "cell_type": "markdown",
   "id": "9a4f703d",
   "metadata": {},
   "source": [
    "Let's test the above method for mismatched merchant descriptors:"
   ]
  },
  {
   "cell_type": "code",
   "execution_count": 53,
   "id": "481390fd",
   "metadata": {},
   "outputs": [
    {
     "name": "stdout",
     "output_type": "stream",
     "text": [
      "AMZN MKTP*CAN23\n",
      "AM*ZN MKTP*CAN123\n",
      "MKTP*CAN123 AMZN\n",
      "-AM MzTP*CAN123\n",
      "AMZN KTP*CAN123\n"
     ]
    }
   ],
   "source": [
    "messy_descriptor_match = \"AMZN MKTP*CAN123\"\n",
    "for _ in range(5):\n",
    "    print(create_hard_mismatch_with_typos(messy_descriptor_match))"
   ]
  },
  {
   "cell_type": "markdown",
   "id": "c7217cdd",
   "metadata": {},
   "source": [
    "The hard-mismatches along with the easy mismatches (random_mismatch_merchant method) should be good enough for now to generate the mismatch data. "
   ]
  },
  {
   "cell_type": "markdown",
   "id": "0735a37e",
   "metadata": {},
   "source": [
    "### Generating Match & Mismatch Data"
   ]
  },
  {
   "cell_type": "code",
   "execution_count": null,
   "id": "c33de6b6",
   "metadata": {},
   "outputs": [],
   "source": [
    "# all_data = []\n",
    "\n",
    "# for llm in LLMS:\n",
    "#     print(f\"Generating data for {llm}...\")\n",
    "\n",
    "#     # reset matches_created for each llm\n",
    "#     matches_created = 0\n",
    "#     while matches_created < NUM_MATCH:\n",
    "#         # Randomly select a merchant from the list and generate messy descriptors for it\n",
    "#         merchant = random.choice(LLM_MERCHANTS)\n",
    "#         try:\n",
    "#             if llm == \"ChatGPT\":\n",
    "#                 messy_list = generate_messy_descriptors_openai(merchant)\n",
    "#             elif llm == \"Gemini\":\n",
    "#                 messy_list = generate_messy_descriptors_gemini(merchant)\n",
    "#             else:\n",
    "#                 raise ValueError(\"Unknown LLM\")\n",
    "\n",
    "#             for messy in messy_list:\n",
    "#                 all_data.append({\n",
    "#                     \"Messy Descriptor\": messy,\n",
    "#                     \"Merchant Name\": merchant,\n",
    "#                     \"Label\": \"MATCH\",\n",
    "#                     \"Generated By\": llm\n",
    "#                 })\n",
    "#                 matches_created += 1\n",
    "#                 if matches_created >= NUM_MATCH:\n",
    "#                     break\n",
    "\n",
    "#         except Exception as e:\n",
    "#             print(f\"Error during MATCH generation: {e}\")\n",
    "#             time.sleep(2)\n",
    "\n",
    "#     # MISMATCH examples\n",
    "#     mismatches_created = 0\n",
    "#     while mismatches_created < NUM_MISMATCH:\n",
    "#         merchant = random.choice(LLM_MERCHANTS)\n",
    "#         mismatch_merchant = random_mismatch_merchant(merchant, LLM_MERCHANTS)\n",
    "\n",
    "#         try:\n",
    "#             if llm == \"ChatGPT\":\n",
    "#                 messy_list = generate_messy_descriptors_openai(mismatch_merchant)\n",
    "#             elif llm == \"Gemini\":\n",
    "#                 messy_list = generate_messy_descriptors_gemini(mismatch_merchant)\n",
    "#             else:\n",
    "#                 raise ValueError(\"Unknown LLM\")\n",
    "\n",
    "#             for messy in messy_list:\n",
    "#                 all_data.append({\n",
    "#                     \"Messy Descriptor\": messy,\n",
    "#                     \"Merchant Name\": merchant,  # Important: NOT matching\n",
    "#                     \"Label\": \"MISMATCH\",\n",
    "#                     \"Generated By\": llm\n",
    "#                 })\n",
    "#                 mismatches_created += 1\n",
    "#                 if mismatches_created >= NUM_MISMATCH:\n",
    "#                     break\n",
    "\n",
    "#         except Exception as e:\n",
    "#             print(f\"Error during MISMATCH generation: {e}\")\n",
    "#             time.sleep(2)"
   ]
  },
  {
   "cell_type": "code",
   "execution_count": 52,
   "id": "7fdfc70f",
   "metadata": {},
   "outputs": [
    {
     "data": {
      "text/plain": [
       "['ChatGPT-4.1', 'Gemini 1.5 Pro']"
      ]
     },
     "execution_count": 52,
     "metadata": {},
     "output_type": "execute_result"
    }
   ],
   "source": [
    "LLMS"
   ]
  },
  {
   "cell_type": "code",
   "execution_count": null,
   "id": "ac5c18ae",
   "metadata": {},
   "outputs": [],
   "source": [
    "# all_data = []\n",
    "# batch_size = 10\n",
    "# NUM_MATCH = 2500\n",
    "# NUM_MISMATCH = 2500\n",
    "# HARD_MISMATCH_PROBABILITY = 0.5  # 50% chance to use hard mismatch\n",
    "\n",
    "\n",
    "# # Main Loop for MISMATCH Generation\n",
    "\n",
    "# for llm in LLMS:\n",
    "#     print(f\"Generating data for {llm}...\")\n",
    "#     matches_created = 0\n",
    "#     # MATCH examples\n",
    "#     while matches_created < NUM_MATCH:\n",
    "#         # merchant = random.choice(LLM_MERCHANTS)\n",
    "#         messy_batch = random.\n",
    "#         try:\n",
    "#             if llm == \"ChatGPT-4.1\":\n",
    "#                 messy_list = generate_messy_descriptors_openai([merchant])\n",
    "#             elif llm == \"Gemini 1.5 Pro\":\n",
    "#                 messy_list = generate_messy_descriptors_gemini([merchant])\n",
    "#             else:\n",
    "#                 raise ValueError(\"Unknown LLM\")\n",
    "\n",
    "#             for messy in messy_list.get(merchant, []):\n",
    "#                 all_data.append({\n",
    "#                     \"Messy Descriptor\": messy,\n",
    "#                     \"Merchant Name\": merchant,\n",
    "#                     \"Label\": \"MATCH\",\n",
    "#                     \"Generated By\": llm\n",
    "#                 })\n",
    "#                 matches_created += 1\n",
    "#                 if matches_created >= NUM_MATCH:\n",
    "#                     break\n",
    "\n",
    "#         except Exception as e:\n",
    "#             print(f\"Error during MATCH generation: {e}\")\n",
    "#             time.sleep(2)\n",
    "\n",
    "#     # MISMATCH examples\n",
    "#     mismatches_created = 0\n",
    "#     while mismatches_created < NUM_MISMATCH:\n",
    "#         merchant = random.choice(LLM_MERCHANTS)\n",
    "\n",
    "#         try:\n",
    "#             if random.random() < HARD_MISMATCH_PROBABILITY:\n",
    "#                 # Generate HARD mismatch using typo, shuffle, etc.\n",
    "#                 messy_descriptor = create_hard_mismatch_with_typos(merchant)\n",
    "#             else:\n",
    "#                 # Easy mismatch: pick a random messy descriptor from another merchant\n",
    "#                 mismatch_merchant = random_mismatch_merchant(merchant, LLM_MERCHANTS)\n",
    "\n",
    "#                 if llm == \"ChatGPT\":\n",
    "#                     messy_list = generate_messy_descriptors_openai([mismatch_merchant])\n",
    "#                 elif llm == \"Gemini\":\n",
    "#                     messy_list = generate_messy_descriptors_gemini([mismatch_merchant])\n",
    "#                 else:\n",
    "#                     raise ValueError(\"Unknown LLM\")\n",
    "\n",
    "#                 # Randomly pick one messy descriptor from list\n",
    "#                 messy_descriptor = random.choice(messy_list.get(mismatch_merchant, [\"UNKNOWN\"]))\n",
    "\n",
    "#             all_data.append({\n",
    "#                 \"Messy Descriptor\": messy_descriptor,\n",
    "#                 \"Merchant Name\": merchant,\n",
    "#                 \"Label\": \"MISMATCH\",\n",
    "#                 \"Generated By\": llm\n",
    "#             })\n",
    "#             mismatches_created += 1\n",
    "\n",
    "#         except Exception as e:\n",
    "#             print(f\"Error during MISMATCH generation: {e}\")\n",
    "#             time.sleep(2)\n"
   ]
  },
  {
   "cell_type": "code",
   "execution_count": 68,
   "id": "2c68887b",
   "metadata": {},
   "outputs": [
    {
     "name": "stdout",
     "output_type": "stream",
     "text": [
      "Generating data for ChatGPT-4.1...\n",
      "Generated 2500 MATCH examples for ChatGPT-4.1...\n",
      "Generated 2500 MISMATCH examples for ChatGPT-4.1...\n",
      "Generating data for Gemini 1.5 Pro...\n",
      "Error during MATCH generation: 429 You exceeded your current quota, please check your plan and billing details. For more information on this error, head to: https://ai.google.dev/gemini-api/docs/rate-limits. [violations {\n",
      "}\n",
      ", links {\n",
      "  description: \"Learn more about Gemini API quotas\"\n",
      "  url: \"https://ai.google.dev/gemini-api/docs/rate-limits\"\n",
      "}\n",
      ", retry_delay {\n",
      "  seconds: 55\n",
      "}\n",
      "]\n",
      "Error during MATCH generation: 429 You exceeded your current quota, please check your plan and billing details. For more information on this error, head to: https://ai.google.dev/gemini-api/docs/rate-limits. [violations {\n",
      "}\n",
      ", links {\n",
      "  description: \"Learn more about Gemini API quotas\"\n",
      "  url: \"https://ai.google.dev/gemini-api/docs/rate-limits\"\n",
      "}\n",
      ", retry_delay {\n",
      "  seconds: 53\n",
      "}\n",
      "]\n",
      "Error during MATCH generation: 429 You exceeded your current quota, please check your plan and billing details. For more information on this error, head to: https://ai.google.dev/gemini-api/docs/rate-limits. [violations {\n",
      "}\n",
      ", links {\n",
      "  description: \"Learn more about Gemini API quotas\"\n",
      "  url: \"https://ai.google.dev/gemini-api/docs/rate-limits\"\n",
      "}\n",
      ", retry_delay {\n",
      "  seconds: 51\n",
      "}\n",
      "]\n",
      "Error during MATCH generation: 429 You exceeded your current quota, please check your plan and billing details. For more information on this error, head to: https://ai.google.dev/gemini-api/docs/rate-limits. [violations {\n",
      "}\n",
      ", links {\n",
      "  description: \"Learn more about Gemini API quotas\"\n",
      "  url: \"https://ai.google.dev/gemini-api/docs/rate-limits\"\n",
      "}\n",
      ", retry_delay {\n",
      "  seconds: 48\n",
      "}\n",
      "]\n",
      "Error during MATCH generation: 429 You exceeded your current quota, please check your plan and billing details. For more information on this error, head to: https://ai.google.dev/gemini-api/docs/rate-limits. [violations {\n",
      "}\n",
      ", links {\n",
      "  description: \"Learn more about Gemini API quotas\"\n",
      "  url: \"https://ai.google.dev/gemini-api/docs/rate-limits\"\n",
      "}\n",
      ", retry_delay {\n",
      "  seconds: 46\n",
      "}\n",
      "]\n",
      "Error during MATCH generation: 429 You exceeded your current quota, please check your plan and billing details. For more information on this error, head to: https://ai.google.dev/gemini-api/docs/rate-limits. [violations {\n",
      "}\n",
      ", links {\n",
      "  description: \"Learn more about Gemini API quotas\"\n",
      "  url: \"https://ai.google.dev/gemini-api/docs/rate-limits\"\n",
      "}\n",
      ", retry_delay {\n",
      "  seconds: 44\n",
      "}\n",
      "]\n",
      "Error during MATCH generation: 429 You exceeded your current quota, please check your plan and billing details. For more information on this error, head to: https://ai.google.dev/gemini-api/docs/rate-limits. [violations {\n",
      "}\n",
      ", links {\n",
      "  description: \"Learn more about Gemini API quotas\"\n",
      "  url: \"https://ai.google.dev/gemini-api/docs/rate-limits\"\n",
      "}\n",
      ", retry_delay {\n",
      "  seconds: 42\n",
      "}\n",
      "]\n",
      "Error during MATCH generation: 429 You exceeded your current quota, please check your plan and billing details. For more information on this error, head to: https://ai.google.dev/gemini-api/docs/rate-limits. [violations {\n",
      "}\n",
      ", links {\n",
      "  description: \"Learn more about Gemini API quotas\"\n",
      "  url: \"https://ai.google.dev/gemini-api/docs/rate-limits\"\n",
      "}\n",
      ", retry_delay {\n",
      "  seconds: 40\n",
      "}\n",
      "]\n",
      "Error during MATCH generation: 429 You exceeded your current quota, please check your plan and billing details. For more information on this error, head to: https://ai.google.dev/gemini-api/docs/rate-limits. [violations {\n",
      "}\n",
      ", links {\n",
      "  description: \"Learn more about Gemini API quotas\"\n",
      "  url: \"https://ai.google.dev/gemini-api/docs/rate-limits\"\n",
      "}\n",
      ", retry_delay {\n",
      "  seconds: 38\n",
      "}\n",
      "]\n",
      "Error during MATCH generation: 429 You exceeded your current quota, please check your plan and billing details. For more information on this error, head to: https://ai.google.dev/gemini-api/docs/rate-limits. [violations {\n",
      "}\n",
      ", links {\n",
      "  description: \"Learn more about Gemini API quotas\"\n",
      "  url: \"https://ai.google.dev/gemini-api/docs/rate-limits\"\n",
      "}\n",
      ", retry_delay {\n",
      "  seconds: 36\n",
      "}\n",
      "]\n",
      "Error during MATCH generation: 429 You exceeded your current quota, please check your plan and billing details. For more information on this error, head to: https://ai.google.dev/gemini-api/docs/rate-limits. [violations {\n",
      "}\n",
      ", links {\n",
      "  description: \"Learn more about Gemini API quotas\"\n",
      "  url: \"https://ai.google.dev/gemini-api/docs/rate-limits\"\n",
      "}\n",
      ", retry_delay {\n",
      "  seconds: 34\n",
      "}\n",
      "]\n",
      "Error during MATCH generation: 429 You exceeded your current quota, please check your plan and billing details. For more information on this error, head to: https://ai.google.dev/gemini-api/docs/rate-limits. [violations {\n",
      "}\n",
      ", links {\n",
      "  description: \"Learn more about Gemini API quotas\"\n",
      "  url: \"https://ai.google.dev/gemini-api/docs/rate-limits\"\n",
      "}\n",
      ", retry_delay {\n",
      "  seconds: 31\n",
      "}\n",
      "]\n",
      "Error during MATCH generation: 429 You exceeded your current quota, please check your plan and billing details. For more information on this error, head to: https://ai.google.dev/gemini-api/docs/rate-limits. [violations {\n",
      "}\n",
      ", links {\n",
      "  description: \"Learn more about Gemini API quotas\"\n",
      "  url: \"https://ai.google.dev/gemini-api/docs/rate-limits\"\n",
      "}\n",
      ", retry_delay {\n",
      "  seconds: 29\n",
      "}\n",
      "]\n",
      "Error during MATCH generation: 429 You exceeded your current quota, please check your plan and billing details. For more information on this error, head to: https://ai.google.dev/gemini-api/docs/rate-limits. [violations {\n",
      "}\n",
      ", links {\n",
      "  description: \"Learn more about Gemini API quotas\"\n",
      "  url: \"https://ai.google.dev/gemini-api/docs/rate-limits\"\n",
      "}\n",
      ", retry_delay {\n",
      "  seconds: 27\n",
      "}\n",
      "]\n",
      "Error during MATCH generation: 429 You exceeded your current quota, please check your plan and billing details. For more information on this error, head to: https://ai.google.dev/gemini-api/docs/rate-limits. [violations {\n",
      "}\n",
      ", links {\n",
      "  description: \"Learn more about Gemini API quotas\"\n",
      "  url: \"https://ai.google.dev/gemini-api/docs/rate-limits\"\n",
      "}\n",
      ", retry_delay {\n",
      "  seconds: 25\n",
      "}\n",
      "]\n",
      "Error during MATCH generation: 429 You exceeded your current quota, please check your plan and billing details. For more information on this error, head to: https://ai.google.dev/gemini-api/docs/rate-limits. [violations {\n",
      "}\n",
      ", links {\n",
      "  description: \"Learn more about Gemini API quotas\"\n",
      "  url: \"https://ai.google.dev/gemini-api/docs/rate-limits\"\n",
      "}\n",
      ", retry_delay {\n",
      "  seconds: 23\n",
      "}\n",
      "]\n",
      "Error during MATCH generation: 429 You exceeded your current quota, please check your plan and billing details. For more information on this error, head to: https://ai.google.dev/gemini-api/docs/rate-limits. [violations {\n",
      "}\n",
      ", links {\n",
      "  description: \"Learn more about Gemini API quotas\"\n",
      "  url: \"https://ai.google.dev/gemini-api/docs/rate-limits\"\n",
      "}\n",
      ", retry_delay {\n",
      "  seconds: 21\n",
      "}\n",
      "]\n",
      "Error during MATCH generation: 429 You exceeded your current quota, please check your plan and billing details. For more information on this error, head to: https://ai.google.dev/gemini-api/docs/rate-limits. [violations {\n",
      "}\n",
      ", links {\n",
      "  description: \"Learn more about Gemini API quotas\"\n",
      "  url: \"https://ai.google.dev/gemini-api/docs/rate-limits\"\n",
      "}\n",
      ", retry_delay {\n",
      "  seconds: 19\n",
      "}\n",
      "]\n",
      "Error during MATCH generation: 429 You exceeded your current quota, please check your plan and billing details. For more information on this error, head to: https://ai.google.dev/gemini-api/docs/rate-limits. [violations {\n",
      "}\n",
      ", links {\n",
      "  description: \"Learn more about Gemini API quotas\"\n",
      "  url: \"https://ai.google.dev/gemini-api/docs/rate-limits\"\n",
      "}\n",
      ", retry_delay {\n",
      "  seconds: 53\n",
      "}\n",
      "]\n",
      "Error during MATCH generation: 429 You exceeded your current quota, please check your plan and billing details. For more information on this error, head to: https://ai.google.dev/gemini-api/docs/rate-limits. [violations {\n",
      "}\n",
      ", links {\n",
      "  description: \"Learn more about Gemini API quotas\"\n",
      "  url: \"https://ai.google.dev/gemini-api/docs/rate-limits\"\n",
      "}\n",
      ", retry_delay {\n",
      "  seconds: 51\n",
      "}\n",
      "]\n",
      "Error during MATCH generation: 429 You exceeded your current quota, please check your plan and billing details. For more information on this error, head to: https://ai.google.dev/gemini-api/docs/rate-limits. [violations {\n",
      "}\n",
      ", links {\n",
      "  description: \"Learn more about Gemini API quotas\"\n",
      "  url: \"https://ai.google.dev/gemini-api/docs/rate-limits\"\n",
      "}\n",
      ", retry_delay {\n",
      "  seconds: 48\n",
      "}\n",
      "]\n",
      "Error during MATCH generation: 429 You exceeded your current quota, please check your plan and billing details. For more information on this error, head to: https://ai.google.dev/gemini-api/docs/rate-limits. [violations {\n",
      "}\n",
      ", links {\n",
      "  description: \"Learn more about Gemini API quotas\"\n",
      "  url: \"https://ai.google.dev/gemini-api/docs/rate-limits\"\n",
      "}\n",
      ", retry_delay {\n",
      "  seconds: 46\n",
      "}\n",
      "]\n",
      "Error during MATCH generation: 429 You exceeded your current quota, please check your plan and billing details. For more information on this error, head to: https://ai.google.dev/gemini-api/docs/rate-limits. [violations {\n",
      "}\n",
      ", links {\n",
      "  description: \"Learn more about Gemini API quotas\"\n",
      "  url: \"https://ai.google.dev/gemini-api/docs/rate-limits\"\n",
      "}\n",
      ", retry_delay {\n",
      "  seconds: 44\n",
      "}\n",
      "]\n",
      "Error during MATCH generation: 429 You exceeded your current quota, please check your plan and billing details. For more information on this error, head to: https://ai.google.dev/gemini-api/docs/rate-limits. [violations {\n",
      "}\n",
      ", links {\n",
      "  description: \"Learn more about Gemini API quotas\"\n",
      "  url: \"https://ai.google.dev/gemini-api/docs/rate-limits\"\n",
      "}\n",
      ", retry_delay {\n",
      "  seconds: 42\n",
      "}\n",
      "]\n",
      "Error during MATCH generation: 429 You exceeded your current quota, please check your plan and billing details. For more information on this error, head to: https://ai.google.dev/gemini-api/docs/rate-limits. [violations {\n",
      "}\n",
      ", links {\n",
      "  description: \"Learn more about Gemini API quotas\"\n",
      "  url: \"https://ai.google.dev/gemini-api/docs/rate-limits\"\n",
      "}\n",
      ", retry_delay {\n",
      "  seconds: 40\n",
      "}\n",
      "]\n",
      "Error during MATCH generation: 429 You exceeded your current quota, please check your plan and billing details. For more information on this error, head to: https://ai.google.dev/gemini-api/docs/rate-limits. [violations {\n",
      "}\n",
      ", links {\n",
      "  description: \"Learn more about Gemini API quotas\"\n",
      "  url: \"https://ai.google.dev/gemini-api/docs/rate-limits\"\n",
      "}\n",
      ", retry_delay {\n",
      "  seconds: 38\n",
      "}\n",
      "]\n",
      "Error during MATCH generation: 429 You exceeded your current quota, please check your plan and billing details. For more information on this error, head to: https://ai.google.dev/gemini-api/docs/rate-limits. [violations {\n",
      "}\n",
      ", links {\n",
      "  description: \"Learn more about Gemini API quotas\"\n",
      "  url: \"https://ai.google.dev/gemini-api/docs/rate-limits\"\n",
      "}\n",
      ", retry_delay {\n",
      "  seconds: 36\n",
      "}\n",
      "]\n",
      "Error during MATCH generation: 429 You exceeded your current quota, please check your plan and billing details. For more information on this error, head to: https://ai.google.dev/gemini-api/docs/rate-limits. [violations {\n",
      "}\n",
      ", links {\n",
      "  description: \"Learn more about Gemini API quotas\"\n",
      "  url: \"https://ai.google.dev/gemini-api/docs/rate-limits\"\n",
      "}\n",
      ", retry_delay {\n",
      "  seconds: 34\n",
      "}\n",
      "]\n",
      "Error during MATCH generation: 429 You exceeded your current quota, please check your plan and billing details. For more information on this error, head to: https://ai.google.dev/gemini-api/docs/rate-limits. [violations {\n",
      "}\n",
      ", links {\n",
      "  description: \"Learn more about Gemini API quotas\"\n",
      "  url: \"https://ai.google.dev/gemini-api/docs/rate-limits\"\n",
      "}\n",
      ", retry_delay {\n",
      "  seconds: 31\n",
      "}\n",
      "]\n",
      "Error during MATCH generation: 429 You exceeded your current quota, please check your plan and billing details. For more information on this error, head to: https://ai.google.dev/gemini-api/docs/rate-limits. [violations {\n",
      "}\n",
      ", links {\n",
      "  description: \"Learn more about Gemini API quotas\"\n",
      "  url: \"https://ai.google.dev/gemini-api/docs/rate-limits\"\n",
      "}\n",
      ", retry_delay {\n",
      "  seconds: 29\n",
      "}\n",
      "]\n",
      "Error during MATCH generation: 429 You exceeded your current quota, please check your plan and billing details. For more information on this error, head to: https://ai.google.dev/gemini-api/docs/rate-limits. [violations {\n",
      "}\n",
      ", links {\n",
      "  description: \"Learn more about Gemini API quotas\"\n",
      "  url: \"https://ai.google.dev/gemini-api/docs/rate-limits\"\n",
      "}\n",
      ", retry_delay {\n",
      "  seconds: 27\n",
      "}\n",
      "]\n",
      "Error during MATCH generation: 429 You exceeded your current quota, please check your plan and billing details. For more information on this error, head to: https://ai.google.dev/gemini-api/docs/rate-limits. [violations {\n",
      "}\n",
      ", links {\n",
      "  description: \"Learn more about Gemini API quotas\"\n",
      "  url: \"https://ai.google.dev/gemini-api/docs/rate-limits\"\n",
      "}\n",
      ", retry_delay {\n",
      "  seconds: 25\n",
      "}\n",
      "]\n",
      "Error during MATCH generation: 429 You exceeded your current quota, please check your plan and billing details. For more information on this error, head to: https://ai.google.dev/gemini-api/docs/rate-limits. [violations {\n",
      "}\n",
      ", links {\n",
      "  description: \"Learn more about Gemini API quotas\"\n",
      "  url: \"https://ai.google.dev/gemini-api/docs/rate-limits\"\n",
      "}\n",
      ", retry_delay {\n",
      "  seconds: 23\n",
      "}\n",
      "]\n",
      "Error during MATCH generation: 429 You exceeded your current quota, please check your plan and billing details. For more information on this error, head to: https://ai.google.dev/gemini-api/docs/rate-limits. [violations {\n",
      "}\n",
      ", links {\n",
      "  description: \"Learn more about Gemini API quotas\"\n",
      "  url: \"https://ai.google.dev/gemini-api/docs/rate-limits\"\n",
      "}\n",
      ", retry_delay {\n",
      "  seconds: 21\n",
      "}\n",
      "]\n",
      "Error during MATCH generation: 429 You exceeded your current quota, please check your plan and billing details. For more information on this error, head to: https://ai.google.dev/gemini-api/docs/rate-limits. [violations {\n",
      "}\n",
      ", links {\n",
      "  description: \"Learn more about Gemini API quotas\"\n",
      "  url: \"https://ai.google.dev/gemini-api/docs/rate-limits\"\n",
      "}\n",
      ", retry_delay {\n",
      "  seconds: 19\n",
      "}\n",
      "]\n"
     ]
    },
    {
     "ename": "KeyboardInterrupt",
     "evalue": "",
     "output_type": "error",
     "traceback": [
      "\u001b[0;31m---------------------------------------------------------------------------\u001b[0m",
      "\u001b[0;31mKeyboardInterrupt\u001b[0m                         Traceback (most recent call last)",
      "Cell \u001b[0;32mIn[68], line 19\u001b[0m\n\u001b[1;32m     17\u001b[0m     messy_batch \u001b[38;5;241m=\u001b[39m generate_messy_descriptors_openai(batch_llm_merchants)\n\u001b[1;32m     18\u001b[0m \u001b[38;5;28;01melif\u001b[39;00m llm \u001b[38;5;241m==\u001b[39m \u001b[38;5;124m\"\u001b[39m\u001b[38;5;124mGemini 1.5 Pro\u001b[39m\u001b[38;5;124m\"\u001b[39m:\n\u001b[0;32m---> 19\u001b[0m     messy_batch \u001b[38;5;241m=\u001b[39m \u001b[43mgenerate_messy_descriptors_gemini\u001b[49m\u001b[43m(\u001b[49m\u001b[43mbatch_llm_merchants\u001b[49m\u001b[43m)\u001b[49m\n\u001b[1;32m     20\u001b[0m \u001b[38;5;28;01melse\u001b[39;00m:\n\u001b[1;32m     21\u001b[0m     \u001b[38;5;28;01mraise\u001b[39;00m \u001b[38;5;167;01mValueError\u001b[39;00m(\u001b[38;5;124m\"\u001b[39m\u001b[38;5;124mUnknown LLM\u001b[39m\u001b[38;5;124m\"\u001b[39m)\n",
      "Cell \u001b[0;32mIn[34], line 21\u001b[0m, in \u001b[0;36mgenerate_messy_descriptors_gemini\u001b[0;34m(merchant_names)\u001b[0m\n\u001b[1;32m      1\u001b[0m \u001b[38;5;28;01mdef\u001b[39;00m\u001b[38;5;250m \u001b[39m\u001b[38;5;21mgenerate_messy_descriptors_gemini\u001b[39m(merchant_names: List[\u001b[38;5;28mstr\u001b[39m]) \u001b[38;5;241m-\u001b[39m\u001b[38;5;241m>\u001b[39m \u001b[38;5;28mstr\u001b[39m:\n\u001b[1;32m      2\u001b[0m     prompt \u001b[38;5;241m=\u001b[39m \u001b[38;5;124mf\u001b[39m\u001b[38;5;124m\"\"\"\u001b[39m\n\u001b[1;32m      3\u001b[0m \u001b[38;5;124m                You are helping generate synthetic messy merchant descriptors for training a machine learning model.\u001b[39m\n\u001b[1;32m      4\u001b[0m \n\u001b[0;32m   (...)\u001b[0m\n\u001b[1;32m     19\u001b[0m \u001b[38;5;124m                \u001b[39m\u001b[38;5;132;01m{\u001b[39;00m\u001b[38;5;28mchr\u001b[39m(\u001b[38;5;241m10\u001b[39m)\u001b[38;5;241m.\u001b[39mjoin(merchant_names)\u001b[38;5;132;01m}\u001b[39;00m\n\u001b[1;32m     20\u001b[0m \u001b[38;5;124m                \u001b[39m\u001b[38;5;124m\"\"\"\u001b[39m\n\u001b[0;32m---> 21\u001b[0m     response \u001b[38;5;241m=\u001b[39m \u001b[43mgemini_model\u001b[49m\u001b[38;5;241;43m.\u001b[39;49m\u001b[43mgenerate_content\u001b[49m\u001b[43m(\u001b[49m\n\u001b[1;32m     22\u001b[0m \u001b[43m        \u001b[49m\u001b[43mprompt\u001b[49m\u001b[43m,\u001b[49m\n\u001b[1;32m     23\u001b[0m \u001b[43m        \u001b[49m\u001b[43mgeneration_config\u001b[49m\u001b[38;5;241;43m=\u001b[39;49m\u001b[43m{\u001b[49m\n\u001b[1;32m     24\u001b[0m \u001b[43m            \u001b[49m\u001b[38;5;124;43m\"\u001b[39;49m\u001b[38;5;124;43mtemperature\u001b[39;49m\u001b[38;5;124;43m\"\u001b[39;49m\u001b[43m:\u001b[49m\u001b[43m \u001b[49m\u001b[38;5;241;43m0.85\u001b[39;49m\u001b[43m,\u001b[49m\n\u001b[1;32m     25\u001b[0m \u001b[43m            \u001b[49m\u001b[38;5;124;43m\"\u001b[39;49m\u001b[38;5;124;43mtop_p\u001b[39;49m\u001b[38;5;124;43m\"\u001b[39;49m\u001b[43m:\u001b[49m\u001b[43m \u001b[49m\u001b[38;5;241;43m1.0\u001b[39;49m\u001b[43m,\u001b[49m\n\u001b[1;32m     26\u001b[0m \u001b[43m            \u001b[49m\u001b[38;5;124;43m\"\u001b[39;49m\u001b[38;5;124;43mmax_output_tokens\u001b[39;49m\u001b[38;5;124;43m\"\u001b[39;49m\u001b[43m:\u001b[49m\u001b[43m \u001b[49m\u001b[38;5;241;43m4000\u001b[39;49m\u001b[43m,\u001b[49m\n\u001b[1;32m     27\u001b[0m \u001b[43m        \u001b[49m\u001b[43m}\u001b[49m\u001b[43m,\u001b[49m\n\u001b[1;32m     28\u001b[0m \u001b[43m    \u001b[49m\u001b[43m)\u001b[49m\n\u001b[1;32m     29\u001b[0m     messy_text \u001b[38;5;241m=\u001b[39m response\u001b[38;5;241m.\u001b[39mtext\n\u001b[1;32m     30\u001b[0m     \u001b[38;5;28;01mreturn\u001b[39;00m messy_text\n",
      "File \u001b[0;32m/opt/homebrew/anaconda3/envs/csye7230/lib/python3.10/site-packages/google/generativeai/generative_models.py:331\u001b[0m, in \u001b[0;36mGenerativeModel.generate_content\u001b[0;34m(self, contents, generation_config, safety_settings, stream, tools, tool_config, request_options)\u001b[0m\n\u001b[1;32m    329\u001b[0m         \u001b[38;5;28;01mreturn\u001b[39;00m generation_types\u001b[38;5;241m.\u001b[39mGenerateContentResponse\u001b[38;5;241m.\u001b[39mfrom_iterator(iterator)\n\u001b[1;32m    330\u001b[0m     \u001b[38;5;28;01melse\u001b[39;00m:\n\u001b[0;32m--> 331\u001b[0m         response \u001b[38;5;241m=\u001b[39m \u001b[38;5;28;43mself\u001b[39;49m\u001b[38;5;241;43m.\u001b[39;49m\u001b[43m_client\u001b[49m\u001b[38;5;241;43m.\u001b[39;49m\u001b[43mgenerate_content\u001b[49m\u001b[43m(\u001b[49m\n\u001b[1;32m    332\u001b[0m \u001b[43m            \u001b[49m\u001b[43mrequest\u001b[49m\u001b[43m,\u001b[49m\n\u001b[1;32m    333\u001b[0m \u001b[43m            \u001b[49m\u001b[38;5;241;43m*\u001b[39;49m\u001b[38;5;241;43m*\u001b[39;49m\u001b[43mrequest_options\u001b[49m\u001b[43m,\u001b[49m\n\u001b[1;32m    334\u001b[0m \u001b[43m        \u001b[49m\u001b[43m)\u001b[49m\n\u001b[1;32m    335\u001b[0m         \u001b[38;5;28;01mreturn\u001b[39;00m generation_types\u001b[38;5;241m.\u001b[39mGenerateContentResponse\u001b[38;5;241m.\u001b[39mfrom_response(response)\n\u001b[1;32m    336\u001b[0m \u001b[38;5;28;01mexcept\u001b[39;00m google\u001b[38;5;241m.\u001b[39mapi_core\u001b[38;5;241m.\u001b[39mexceptions\u001b[38;5;241m.\u001b[39mInvalidArgument \u001b[38;5;28;01mas\u001b[39;00m e:\n",
      "File \u001b[0;32m/opt/homebrew/anaconda3/envs/csye7230/lib/python3.10/site-packages/google/ai/generativelanguage_v1beta/services/generative_service/client.py:835\u001b[0m, in \u001b[0;36mGenerativeServiceClient.generate_content\u001b[0;34m(self, request, model, contents, retry, timeout, metadata)\u001b[0m\n\u001b[1;32m    832\u001b[0m \u001b[38;5;28mself\u001b[39m\u001b[38;5;241m.\u001b[39m_validate_universe_domain()\n\u001b[1;32m    834\u001b[0m \u001b[38;5;66;03m# Send the request.\u001b[39;00m\n\u001b[0;32m--> 835\u001b[0m response \u001b[38;5;241m=\u001b[39m \u001b[43mrpc\u001b[49m\u001b[43m(\u001b[49m\n\u001b[1;32m    836\u001b[0m \u001b[43m    \u001b[49m\u001b[43mrequest\u001b[49m\u001b[43m,\u001b[49m\n\u001b[1;32m    837\u001b[0m \u001b[43m    \u001b[49m\u001b[43mretry\u001b[49m\u001b[38;5;241;43m=\u001b[39;49m\u001b[43mretry\u001b[49m\u001b[43m,\u001b[49m\n\u001b[1;32m    838\u001b[0m \u001b[43m    \u001b[49m\u001b[43mtimeout\u001b[49m\u001b[38;5;241;43m=\u001b[39;49m\u001b[43mtimeout\u001b[49m\u001b[43m,\u001b[49m\n\u001b[1;32m    839\u001b[0m \u001b[43m    \u001b[49m\u001b[43mmetadata\u001b[49m\u001b[38;5;241;43m=\u001b[39;49m\u001b[43mmetadata\u001b[49m\u001b[43m,\u001b[49m\n\u001b[1;32m    840\u001b[0m \u001b[43m\u001b[49m\u001b[43m)\u001b[49m\n\u001b[1;32m    842\u001b[0m \u001b[38;5;66;03m# Done; return the response.\u001b[39;00m\n\u001b[1;32m    843\u001b[0m \u001b[38;5;28;01mreturn\u001b[39;00m response\n",
      "File \u001b[0;32m/opt/homebrew/anaconda3/envs/csye7230/lib/python3.10/site-packages/google/api_core/gapic_v1/method.py:131\u001b[0m, in \u001b[0;36m_GapicCallable.__call__\u001b[0;34m(self, timeout, retry, compression, *args, **kwargs)\u001b[0m\n\u001b[1;32m    128\u001b[0m \u001b[38;5;28;01mif\u001b[39;00m \u001b[38;5;28mself\u001b[39m\u001b[38;5;241m.\u001b[39m_compression \u001b[38;5;129;01mis\u001b[39;00m \u001b[38;5;129;01mnot\u001b[39;00m \u001b[38;5;28;01mNone\u001b[39;00m:\n\u001b[1;32m    129\u001b[0m     kwargs[\u001b[38;5;124m\"\u001b[39m\u001b[38;5;124mcompression\u001b[39m\u001b[38;5;124m\"\u001b[39m] \u001b[38;5;241m=\u001b[39m compression\n\u001b[0;32m--> 131\u001b[0m \u001b[38;5;28;01mreturn\u001b[39;00m \u001b[43mwrapped_func\u001b[49m\u001b[43m(\u001b[49m\u001b[38;5;241;43m*\u001b[39;49m\u001b[43margs\u001b[49m\u001b[43m,\u001b[49m\u001b[43m \u001b[49m\u001b[38;5;241;43m*\u001b[39;49m\u001b[38;5;241;43m*\u001b[39;49m\u001b[43mkwargs\u001b[49m\u001b[43m)\u001b[49m\n",
      "File \u001b[0;32m/opt/homebrew/anaconda3/envs/csye7230/lib/python3.10/site-packages/google/api_core/retry/retry_unary.py:293\u001b[0m, in \u001b[0;36mRetry.__call__.<locals>.retry_wrapped_func\u001b[0;34m(*args, **kwargs)\u001b[0m\n\u001b[1;32m    289\u001b[0m target \u001b[38;5;241m=\u001b[39m functools\u001b[38;5;241m.\u001b[39mpartial(func, \u001b[38;5;241m*\u001b[39margs, \u001b[38;5;241m*\u001b[39m\u001b[38;5;241m*\u001b[39mkwargs)\n\u001b[1;32m    290\u001b[0m sleep_generator \u001b[38;5;241m=\u001b[39m exponential_sleep_generator(\n\u001b[1;32m    291\u001b[0m     \u001b[38;5;28mself\u001b[39m\u001b[38;5;241m.\u001b[39m_initial, \u001b[38;5;28mself\u001b[39m\u001b[38;5;241m.\u001b[39m_maximum, multiplier\u001b[38;5;241m=\u001b[39m\u001b[38;5;28mself\u001b[39m\u001b[38;5;241m.\u001b[39m_multiplier\n\u001b[1;32m    292\u001b[0m )\n\u001b[0;32m--> 293\u001b[0m \u001b[38;5;28;01mreturn\u001b[39;00m \u001b[43mretry_target\u001b[49m\u001b[43m(\u001b[49m\n\u001b[1;32m    294\u001b[0m \u001b[43m    \u001b[49m\u001b[43mtarget\u001b[49m\u001b[43m,\u001b[49m\n\u001b[1;32m    295\u001b[0m \u001b[43m    \u001b[49m\u001b[38;5;28;43mself\u001b[39;49m\u001b[38;5;241;43m.\u001b[39;49m\u001b[43m_predicate\u001b[49m\u001b[43m,\u001b[49m\n\u001b[1;32m    296\u001b[0m \u001b[43m    \u001b[49m\u001b[43msleep_generator\u001b[49m\u001b[43m,\u001b[49m\n\u001b[1;32m    297\u001b[0m \u001b[43m    \u001b[49m\u001b[43mtimeout\u001b[49m\u001b[38;5;241;43m=\u001b[39;49m\u001b[38;5;28;43mself\u001b[39;49m\u001b[38;5;241;43m.\u001b[39;49m\u001b[43m_timeout\u001b[49m\u001b[43m,\u001b[49m\n\u001b[1;32m    298\u001b[0m \u001b[43m    \u001b[49m\u001b[43mon_error\u001b[49m\u001b[38;5;241;43m=\u001b[39;49m\u001b[43mon_error\u001b[49m\u001b[43m,\u001b[49m\n\u001b[1;32m    299\u001b[0m \u001b[43m\u001b[49m\u001b[43m)\u001b[49m\n",
      "File \u001b[0;32m/opt/homebrew/anaconda3/envs/csye7230/lib/python3.10/site-packages/google/api_core/retry/retry_unary.py:144\u001b[0m, in \u001b[0;36mretry_target\u001b[0;34m(target, predicate, sleep_generator, timeout, on_error, exception_factory, **kwargs)\u001b[0m\n\u001b[1;32m    142\u001b[0m \u001b[38;5;28;01mfor\u001b[39;00m sleep \u001b[38;5;129;01min\u001b[39;00m sleep_generator:\n\u001b[1;32m    143\u001b[0m     \u001b[38;5;28;01mtry\u001b[39;00m:\n\u001b[0;32m--> 144\u001b[0m         result \u001b[38;5;241m=\u001b[39m \u001b[43mtarget\u001b[49m\u001b[43m(\u001b[49m\u001b[43m)\u001b[49m\n\u001b[1;32m    145\u001b[0m         \u001b[38;5;28;01mif\u001b[39;00m inspect\u001b[38;5;241m.\u001b[39misawaitable(result):\n\u001b[1;32m    146\u001b[0m             warnings\u001b[38;5;241m.\u001b[39mwarn(_ASYNC_RETRY_WARNING)\n",
      "File \u001b[0;32m/opt/homebrew/anaconda3/envs/csye7230/lib/python3.10/site-packages/google/api_core/timeout.py:130\u001b[0m, in \u001b[0;36mTimeToDeadlineTimeout.__call__.<locals>.func_with_timeout\u001b[0;34m(*args, **kwargs)\u001b[0m\n\u001b[1;32m    126\u001b[0m         remaining_timeout \u001b[38;5;241m=\u001b[39m \u001b[38;5;28mself\u001b[39m\u001b[38;5;241m.\u001b[39m_timeout\n\u001b[1;32m    128\u001b[0m     kwargs[\u001b[38;5;124m\"\u001b[39m\u001b[38;5;124mtimeout\u001b[39m\u001b[38;5;124m\"\u001b[39m] \u001b[38;5;241m=\u001b[39m remaining_timeout\n\u001b[0;32m--> 130\u001b[0m \u001b[38;5;28;01mreturn\u001b[39;00m \u001b[43mfunc\u001b[49m\u001b[43m(\u001b[49m\u001b[38;5;241;43m*\u001b[39;49m\u001b[43margs\u001b[49m\u001b[43m,\u001b[49m\u001b[43m \u001b[49m\u001b[38;5;241;43m*\u001b[39;49m\u001b[38;5;241;43m*\u001b[39;49m\u001b[43mkwargs\u001b[49m\u001b[43m)\u001b[49m\n",
      "File \u001b[0;32m/opt/homebrew/anaconda3/envs/csye7230/lib/python3.10/site-packages/google/api_core/grpc_helpers.py:76\u001b[0m, in \u001b[0;36m_wrap_unary_errors.<locals>.error_remapped_callable\u001b[0;34m(*args, **kwargs)\u001b[0m\n\u001b[1;32m     73\u001b[0m \u001b[38;5;129m@functools\u001b[39m\u001b[38;5;241m.\u001b[39mwraps(callable_)\n\u001b[1;32m     74\u001b[0m \u001b[38;5;28;01mdef\u001b[39;00m\u001b[38;5;250m \u001b[39m\u001b[38;5;21merror_remapped_callable\u001b[39m(\u001b[38;5;241m*\u001b[39margs, \u001b[38;5;241m*\u001b[39m\u001b[38;5;241m*\u001b[39mkwargs):\n\u001b[1;32m     75\u001b[0m     \u001b[38;5;28;01mtry\u001b[39;00m:\n\u001b[0;32m---> 76\u001b[0m         \u001b[38;5;28;01mreturn\u001b[39;00m \u001b[43mcallable_\u001b[49m\u001b[43m(\u001b[49m\u001b[38;5;241;43m*\u001b[39;49m\u001b[43margs\u001b[49m\u001b[43m,\u001b[49m\u001b[43m \u001b[49m\u001b[38;5;241;43m*\u001b[39;49m\u001b[38;5;241;43m*\u001b[39;49m\u001b[43mkwargs\u001b[49m\u001b[43m)\u001b[49m\n\u001b[1;32m     77\u001b[0m     \u001b[38;5;28;01mexcept\u001b[39;00m grpc\u001b[38;5;241m.\u001b[39mRpcError \u001b[38;5;28;01mas\u001b[39;00m exc:\n\u001b[1;32m     78\u001b[0m         \u001b[38;5;28;01mraise\u001b[39;00m exceptions\u001b[38;5;241m.\u001b[39mfrom_grpc_error(exc) \u001b[38;5;28;01mfrom\u001b[39;00m\u001b[38;5;250m \u001b[39m\u001b[38;5;21;01mexc\u001b[39;00m\n",
      "File \u001b[0;32m/opt/homebrew/anaconda3/envs/csye7230/lib/python3.10/site-packages/grpc/_interceptor.py:277\u001b[0m, in \u001b[0;36m_UnaryUnaryMultiCallable.__call__\u001b[0;34m(self, request, timeout, metadata, credentials, wait_for_ready, compression)\u001b[0m\n\u001b[1;32m    268\u001b[0m \u001b[38;5;28;01mdef\u001b[39;00m\u001b[38;5;250m \u001b[39m\u001b[38;5;21m__call__\u001b[39m(\n\u001b[1;32m    269\u001b[0m     \u001b[38;5;28mself\u001b[39m,\n\u001b[1;32m    270\u001b[0m     request: Any,\n\u001b[0;32m   (...)\u001b[0m\n\u001b[1;32m    275\u001b[0m     compression: Optional[grpc\u001b[38;5;241m.\u001b[39mCompression] \u001b[38;5;241m=\u001b[39m \u001b[38;5;28;01mNone\u001b[39;00m,\n\u001b[1;32m    276\u001b[0m ) \u001b[38;5;241m-\u001b[39m\u001b[38;5;241m>\u001b[39m Any:\n\u001b[0;32m--> 277\u001b[0m     response, ignored_call \u001b[38;5;241m=\u001b[39m \u001b[38;5;28;43mself\u001b[39;49m\u001b[38;5;241;43m.\u001b[39;49m\u001b[43m_with_call\u001b[49m\u001b[43m(\u001b[49m\n\u001b[1;32m    278\u001b[0m \u001b[43m        \u001b[49m\u001b[43mrequest\u001b[49m\u001b[43m,\u001b[49m\n\u001b[1;32m    279\u001b[0m \u001b[43m        \u001b[49m\u001b[43mtimeout\u001b[49m\u001b[38;5;241;43m=\u001b[39;49m\u001b[43mtimeout\u001b[49m\u001b[43m,\u001b[49m\n\u001b[1;32m    280\u001b[0m \u001b[43m        \u001b[49m\u001b[43mmetadata\u001b[49m\u001b[38;5;241;43m=\u001b[39;49m\u001b[43mmetadata\u001b[49m\u001b[43m,\u001b[49m\n\u001b[1;32m    281\u001b[0m \u001b[43m        \u001b[49m\u001b[43mcredentials\u001b[49m\u001b[38;5;241;43m=\u001b[39;49m\u001b[43mcredentials\u001b[49m\u001b[43m,\u001b[49m\n\u001b[1;32m    282\u001b[0m \u001b[43m        \u001b[49m\u001b[43mwait_for_ready\u001b[49m\u001b[38;5;241;43m=\u001b[39;49m\u001b[43mwait_for_ready\u001b[49m\u001b[43m,\u001b[49m\n\u001b[1;32m    283\u001b[0m \u001b[43m        \u001b[49m\u001b[43mcompression\u001b[49m\u001b[38;5;241;43m=\u001b[39;49m\u001b[43mcompression\u001b[49m\u001b[43m,\u001b[49m\n\u001b[1;32m    284\u001b[0m \u001b[43m    \u001b[49m\u001b[43m)\u001b[49m\n\u001b[1;32m    285\u001b[0m     \u001b[38;5;28;01mreturn\u001b[39;00m response\n",
      "File \u001b[0;32m/opt/homebrew/anaconda3/envs/csye7230/lib/python3.10/site-packages/grpc/_interceptor.py:329\u001b[0m, in \u001b[0;36m_UnaryUnaryMultiCallable._with_call\u001b[0;34m(self, request, timeout, metadata, credentials, wait_for_ready, compression)\u001b[0m\n\u001b[1;32m    326\u001b[0m     \u001b[38;5;28;01mexcept\u001b[39;00m \u001b[38;5;167;01mException\u001b[39;00m \u001b[38;5;28;01mas\u001b[39;00m exception:  \u001b[38;5;66;03m# pylint:disable=broad-except\u001b[39;00m\n\u001b[1;32m    327\u001b[0m         \u001b[38;5;28;01mreturn\u001b[39;00m _FailureOutcome(exception, sys\u001b[38;5;241m.\u001b[39mexc_info()[\u001b[38;5;241m2\u001b[39m])\n\u001b[0;32m--> 329\u001b[0m call \u001b[38;5;241m=\u001b[39m \u001b[38;5;28;43mself\u001b[39;49m\u001b[38;5;241;43m.\u001b[39;49m\u001b[43m_interceptor\u001b[49m\u001b[38;5;241;43m.\u001b[39;49m\u001b[43mintercept_unary_unary\u001b[49m\u001b[43m(\u001b[49m\n\u001b[1;32m    330\u001b[0m \u001b[43m    \u001b[49m\u001b[43mcontinuation\u001b[49m\u001b[43m,\u001b[49m\u001b[43m \u001b[49m\u001b[43mclient_call_details\u001b[49m\u001b[43m,\u001b[49m\u001b[43m \u001b[49m\u001b[43mrequest\u001b[49m\n\u001b[1;32m    331\u001b[0m \u001b[43m\u001b[49m\u001b[43m)\u001b[49m\n\u001b[1;32m    332\u001b[0m \u001b[38;5;28;01mreturn\u001b[39;00m call\u001b[38;5;241m.\u001b[39mresult(), call\n",
      "File \u001b[0;32m/opt/homebrew/anaconda3/envs/csye7230/lib/python3.10/site-packages/google/ai/generativelanguage_v1beta/services/generative_service/transports/grpc.py:79\u001b[0m, in \u001b[0;36m_LoggingClientInterceptor.intercept_unary_unary\u001b[0;34m(self, continuation, client_call_details, request)\u001b[0m\n\u001b[1;32m     64\u001b[0m     grpc_request \u001b[38;5;241m=\u001b[39m {\n\u001b[1;32m     65\u001b[0m         \u001b[38;5;124m\"\u001b[39m\u001b[38;5;124mpayload\u001b[39m\u001b[38;5;124m\"\u001b[39m: request_payload,\n\u001b[1;32m     66\u001b[0m         \u001b[38;5;124m\"\u001b[39m\u001b[38;5;124mrequestMethod\u001b[39m\u001b[38;5;124m\"\u001b[39m: \u001b[38;5;124m\"\u001b[39m\u001b[38;5;124mgrpc\u001b[39m\u001b[38;5;124m\"\u001b[39m,\n\u001b[1;32m     67\u001b[0m         \u001b[38;5;124m\"\u001b[39m\u001b[38;5;124mmetadata\u001b[39m\u001b[38;5;124m\"\u001b[39m: \u001b[38;5;28mdict\u001b[39m(request_metadata),\n\u001b[1;32m     68\u001b[0m     }\n\u001b[1;32m     69\u001b[0m     _LOGGER\u001b[38;5;241m.\u001b[39mdebug(\n\u001b[1;32m     70\u001b[0m         \u001b[38;5;124mf\u001b[39m\u001b[38;5;124m\"\u001b[39m\u001b[38;5;124mSending request for \u001b[39m\u001b[38;5;132;01m{\u001b[39;00mclient_call_details\u001b[38;5;241m.\u001b[39mmethod\u001b[38;5;132;01m}\u001b[39;00m\u001b[38;5;124m\"\u001b[39m,\n\u001b[1;32m     71\u001b[0m         extra\u001b[38;5;241m=\u001b[39m{\n\u001b[0;32m   (...)\u001b[0m\n\u001b[1;32m     76\u001b[0m         },\n\u001b[1;32m     77\u001b[0m     )\n\u001b[0;32m---> 79\u001b[0m response \u001b[38;5;241m=\u001b[39m \u001b[43mcontinuation\u001b[49m\u001b[43m(\u001b[49m\u001b[43mclient_call_details\u001b[49m\u001b[43m,\u001b[49m\u001b[43m \u001b[49m\u001b[43mrequest\u001b[49m\u001b[43m)\u001b[49m\n\u001b[1;32m     80\u001b[0m \u001b[38;5;28;01mif\u001b[39;00m logging_enabled:  \u001b[38;5;66;03m# pragma: NO COVER\u001b[39;00m\n\u001b[1;32m     81\u001b[0m     response_metadata \u001b[38;5;241m=\u001b[39m response\u001b[38;5;241m.\u001b[39mtrailing_metadata()\n",
      "File \u001b[0;32m/opt/homebrew/anaconda3/envs/csye7230/lib/python3.10/site-packages/grpc/_interceptor.py:315\u001b[0m, in \u001b[0;36m_UnaryUnaryMultiCallable._with_call.<locals>.continuation\u001b[0;34m(new_details, request)\u001b[0m\n\u001b[1;32m    306\u001b[0m (\n\u001b[1;32m    307\u001b[0m     new_method,\n\u001b[1;32m    308\u001b[0m     new_timeout,\n\u001b[0;32m   (...)\u001b[0m\n\u001b[1;32m    312\u001b[0m     new_compression,\n\u001b[1;32m    313\u001b[0m ) \u001b[38;5;241m=\u001b[39m _unwrap_client_call_details(new_details, client_call_details)\n\u001b[1;32m    314\u001b[0m \u001b[38;5;28;01mtry\u001b[39;00m:\n\u001b[0;32m--> 315\u001b[0m     response, call \u001b[38;5;241m=\u001b[39m \u001b[38;5;28;43mself\u001b[39;49m\u001b[38;5;241;43m.\u001b[39;49m\u001b[43m_thunk\u001b[49m\u001b[43m(\u001b[49m\u001b[43mnew_method\u001b[49m\u001b[43m)\u001b[49m\u001b[38;5;241;43m.\u001b[39;49m\u001b[43mwith_call\u001b[49m\u001b[43m(\u001b[49m\n\u001b[1;32m    316\u001b[0m \u001b[43m        \u001b[49m\u001b[43mrequest\u001b[49m\u001b[43m,\u001b[49m\n\u001b[1;32m    317\u001b[0m \u001b[43m        \u001b[49m\u001b[43mtimeout\u001b[49m\u001b[38;5;241;43m=\u001b[39;49m\u001b[43mnew_timeout\u001b[49m\u001b[43m,\u001b[49m\n\u001b[1;32m    318\u001b[0m \u001b[43m        \u001b[49m\u001b[43mmetadata\u001b[49m\u001b[38;5;241;43m=\u001b[39;49m\u001b[43mnew_metadata\u001b[49m\u001b[43m,\u001b[49m\n\u001b[1;32m    319\u001b[0m \u001b[43m        \u001b[49m\u001b[43mcredentials\u001b[49m\u001b[38;5;241;43m=\u001b[39;49m\u001b[43mnew_credentials\u001b[49m\u001b[43m,\u001b[49m\n\u001b[1;32m    320\u001b[0m \u001b[43m        \u001b[49m\u001b[43mwait_for_ready\u001b[49m\u001b[38;5;241;43m=\u001b[39;49m\u001b[43mnew_wait_for_ready\u001b[49m\u001b[43m,\u001b[49m\n\u001b[1;32m    321\u001b[0m \u001b[43m        \u001b[49m\u001b[43mcompression\u001b[49m\u001b[38;5;241;43m=\u001b[39;49m\u001b[43mnew_compression\u001b[49m\u001b[43m,\u001b[49m\n\u001b[1;32m    322\u001b[0m \u001b[43m    \u001b[49m\u001b[43m)\u001b[49m\n\u001b[1;32m    323\u001b[0m     \u001b[38;5;28;01mreturn\u001b[39;00m _UnaryOutcome(response, call)\n\u001b[1;32m    324\u001b[0m \u001b[38;5;28;01mexcept\u001b[39;00m grpc\u001b[38;5;241m.\u001b[39mRpcError \u001b[38;5;28;01mas\u001b[39;00m rpc_error:\n",
      "File \u001b[0;32m/opt/homebrew/anaconda3/envs/csye7230/lib/python3.10/site-packages/grpc/_channel.py:1195\u001b[0m, in \u001b[0;36m_UnaryUnaryMultiCallable.with_call\u001b[0;34m(self, request, timeout, metadata, credentials, wait_for_ready, compression)\u001b[0m\n\u001b[1;32m   1183\u001b[0m \u001b[38;5;28;01mdef\u001b[39;00m\u001b[38;5;250m \u001b[39m\u001b[38;5;21mwith_call\u001b[39m(\n\u001b[1;32m   1184\u001b[0m     \u001b[38;5;28mself\u001b[39m,\n\u001b[1;32m   1185\u001b[0m     request: Any,\n\u001b[0;32m   (...)\u001b[0m\n\u001b[1;32m   1190\u001b[0m     compression: Optional[grpc\u001b[38;5;241m.\u001b[39mCompression] \u001b[38;5;241m=\u001b[39m \u001b[38;5;28;01mNone\u001b[39;00m,\n\u001b[1;32m   1191\u001b[0m ) \u001b[38;5;241m-\u001b[39m\u001b[38;5;241m>\u001b[39m Tuple[Any, grpc\u001b[38;5;241m.\u001b[39mCall]:\n\u001b[1;32m   1192\u001b[0m     (\n\u001b[1;32m   1193\u001b[0m         state,\n\u001b[1;32m   1194\u001b[0m         call,\n\u001b[0;32m-> 1195\u001b[0m     ) \u001b[38;5;241m=\u001b[39m \u001b[38;5;28;43mself\u001b[39;49m\u001b[38;5;241;43m.\u001b[39;49m\u001b[43m_blocking\u001b[49m\u001b[43m(\u001b[49m\n\u001b[1;32m   1196\u001b[0m \u001b[43m        \u001b[49m\u001b[43mrequest\u001b[49m\u001b[43m,\u001b[49m\u001b[43m \u001b[49m\u001b[43mtimeout\u001b[49m\u001b[43m,\u001b[49m\u001b[43m \u001b[49m\u001b[43mmetadata\u001b[49m\u001b[43m,\u001b[49m\u001b[43m \u001b[49m\u001b[43mcredentials\u001b[49m\u001b[43m,\u001b[49m\u001b[43m \u001b[49m\u001b[43mwait_for_ready\u001b[49m\u001b[43m,\u001b[49m\u001b[43m \u001b[49m\u001b[43mcompression\u001b[49m\n\u001b[1;32m   1197\u001b[0m \u001b[43m    \u001b[49m\u001b[43m)\u001b[49m\n\u001b[1;32m   1198\u001b[0m     \u001b[38;5;28;01mreturn\u001b[39;00m _end_unary_response_blocking(state, call, \u001b[38;5;28;01mTrue\u001b[39;00m, \u001b[38;5;28;01mNone\u001b[39;00m)\n",
      "File \u001b[0;32m/opt/homebrew/anaconda3/envs/csye7230/lib/python3.10/site-packages/grpc/_channel.py:1162\u001b[0m, in \u001b[0;36m_UnaryUnaryMultiCallable._blocking\u001b[0;34m(self, request, timeout, metadata, credentials, wait_for_ready, compression)\u001b[0m\n\u001b[1;32m   1145\u001b[0m state\u001b[38;5;241m.\u001b[39mtarget \u001b[38;5;241m=\u001b[39m _common\u001b[38;5;241m.\u001b[39mdecode(\u001b[38;5;28mself\u001b[39m\u001b[38;5;241m.\u001b[39m_target)\n\u001b[1;32m   1146\u001b[0m call \u001b[38;5;241m=\u001b[39m \u001b[38;5;28mself\u001b[39m\u001b[38;5;241m.\u001b[39m_channel\u001b[38;5;241m.\u001b[39msegregated_call(\n\u001b[1;32m   1147\u001b[0m     cygrpc\u001b[38;5;241m.\u001b[39mPropagationConstants\u001b[38;5;241m.\u001b[39mGRPC_PROPAGATE_DEFAULTS,\n\u001b[1;32m   1148\u001b[0m     \u001b[38;5;28mself\u001b[39m\u001b[38;5;241m.\u001b[39m_method,\n\u001b[0;32m   (...)\u001b[0m\n\u001b[1;32m   1160\u001b[0m     \u001b[38;5;28mself\u001b[39m\u001b[38;5;241m.\u001b[39m_registered_call_handle,\n\u001b[1;32m   1161\u001b[0m )\n\u001b[0;32m-> 1162\u001b[0m event \u001b[38;5;241m=\u001b[39m \u001b[43mcall\u001b[49m\u001b[38;5;241;43m.\u001b[39;49m\u001b[43mnext_event\u001b[49m\u001b[43m(\u001b[49m\u001b[43m)\u001b[49m\n\u001b[1;32m   1163\u001b[0m _handle_event(event, state, \u001b[38;5;28mself\u001b[39m\u001b[38;5;241m.\u001b[39m_response_deserializer)\n\u001b[1;32m   1164\u001b[0m \u001b[38;5;28;01mreturn\u001b[39;00m state, call\n",
      "File \u001b[0;32msrc/python/grpcio/grpc/_cython/_cygrpc/channel.pyx.pxi:388\u001b[0m, in \u001b[0;36mgrpc._cython.cygrpc.SegregatedCall.next_event\u001b[0;34m()\u001b[0m\n",
      "File \u001b[0;32msrc/python/grpcio/grpc/_cython/_cygrpc/channel.pyx.pxi:211\u001b[0m, in \u001b[0;36mgrpc._cython.cygrpc._next_call_event\u001b[0;34m()\u001b[0m\n",
      "File \u001b[0;32msrc/python/grpcio/grpc/_cython/_cygrpc/channel.pyx.pxi:205\u001b[0m, in \u001b[0;36mgrpc._cython.cygrpc._next_call_event\u001b[0;34m()\u001b[0m\n",
      "File \u001b[0;32msrc/python/grpcio/grpc/_cython/_cygrpc/completion_queue.pyx.pxi:78\u001b[0m, in \u001b[0;36mgrpc._cython.cygrpc._latent_event\u001b[0;34m()\u001b[0m\n",
      "File \u001b[0;32msrc/python/grpcio/grpc/_cython/_cygrpc/completion_queue.pyx.pxi:61\u001b[0m, in \u001b[0;36mgrpc._cython.cygrpc._internal_latent_event\u001b[0;34m()\u001b[0m\n",
      "File \u001b[0;32msrc/python/grpcio/grpc/_cython/_cygrpc/completion_queue.pyx.pxi:42\u001b[0m, in \u001b[0;36mgrpc._cython.cygrpc._next\u001b[0;34m()\u001b[0m\n",
      "\u001b[0;31mKeyboardInterrupt\u001b[0m: "
     ]
    }
   ],
   "source": [
    "all_data = []\n",
    "batch_size = 10\n",
    "NUM_MATCH = 2500\n",
    "NUM_MISMATCH = 2500\n",
    "HARD_MISMATCH_PROBABILITY = 0.5  # 50% chance to use hard mismatch\n",
    "\n",
    "for llm in LLMS:\n",
    "    print(f\"Generating data for {llm}...\")\n",
    "\n",
    "    # MATCH examples\n",
    "    matches_created = 0\n",
    "    while matches_created < NUM_MATCH:\n",
    "        # randomly sending a batch of merchants to the LLM\n",
    "        batch_llm_merchants = random.sample(LLM_MERCHANTS, batch_size)\n",
    "        try:\n",
    "            if llm == \"ChatGPT-4.1\":\n",
    "                messy_batch = generate_messy_descriptors_openai(batch_llm_merchants)\n",
    "            elif llm == \"Gemini 1.5 Pro\":\n",
    "                messy_batch = generate_messy_descriptors_gemini(batch_llm_merchants)\n",
    "            else:\n",
    "                raise ValueError(\"Unknown LLM\")\n",
    "            \n",
    "            # updating the messy_batch to be a dictionary\n",
    "            messy_batch = parse_batch_output(messy_batch)\n",
    "\n",
    "            for merchant in batch_llm_merchants:\n",
    "                descriptors = messy_batch.get(merchant, [])\n",
    "                for messy in descriptors:\n",
    "                    all_data.append({\n",
    "                        \"Messy Descriptor\": messy,\n",
    "                        \"Merchant Name\": merchant,\n",
    "                        \"Label\": \"MATCH\",\n",
    "                        \"Generated By\": llm\n",
    "                    })\n",
    "                    matches_created += 1\n",
    "                    if matches_created >= NUM_MATCH:\n",
    "                        break\n",
    "                if matches_created >= NUM_MATCH:\n",
    "                    break\n",
    "\n",
    "        except Exception as e:\n",
    "            print(f\"Error during MATCH generation: {e}\")\n",
    "            time.sleep(2)\n",
    "    \n",
    "    print(f\"Generated {matches_created} MATCH examples for {llm}...\")\n",
    "\n",
    "    # MISMATCH examples\n",
    "    mismatches_created = 0\n",
    "    while mismatches_created < NUM_MISMATCH:\n",
    "        merchant = random.choice(LLM_MERCHANTS)\n",
    "        # Get a random messy descriptor for the same merchant with the label 'MATCH'\n",
    "        match_descriptors = [entry[\"Messy Descriptor\"] for entry in all_data if entry[\"Merchant Name\"] == merchant and entry[\"Label\"] == \"MATCH\"]\n",
    "        if match_descriptors:\n",
    "            random_match_descriptor = random.choice(match_descriptors)\n",
    "        else:\n",
    "            random_index = random.randint(0, len(all_data) - 1)\n",
    "            random_match_descriptor = all_data[random_index][\"Messy Descriptor\"]\n",
    "        \n",
    "        try:\n",
    "            if random.random() < HARD_MISMATCH_PROBABILITY:\n",
    "                messy_descriptor = create_hard_mismatch_with_typos(random_match_descriptor)\n",
    "                all_data.append({\n",
    "                                    \"Messy Descriptor\": messy_descriptor,\n",
    "                                    \"Merchant Name\": merchant,\n",
    "                                    \"Label\": \"MISMATCH\",\n",
    "                                    \"Generated By\": \"hard_mismatch_logic\"\n",
    "                                })\n",
    "            else:\n",
    "                mismatch_merchant = random_mismatch_merchant(merchant, LLM_MERCHANTS)\n",
    "                all_data.append({\n",
    "                                    \"Messy Descriptor\": random_match_descriptor,\n",
    "                                    \"Merchant Name\": mismatch_merchant,\n",
    "                                    \"Label\": \"MISMATCH\",\n",
    "                                    \"Generated By\": \"random_mismatch_logic\"\n",
    "                                })\n",
    "                # if llm == \"ChatGPT\":\n",
    "                #     messy_batch = generate_messy_descriptors_openai([mismatch_merchant])\n",
    "                # elif llm == \"Gemini\":\n",
    "                #     messy_batch = generate_messy_descriptors_gemini([mismatch_merchant])\n",
    "                # else:\n",
    "                #     raise ValueError(\"Unknown LLM\")\n",
    "\n",
    "                # messy_descriptor = random.choice(messy_batch.get(mismatch_merchant, [\"UNKNOWN\"]))\n",
    "\n",
    "            \n",
    "            mismatches_created += 1\n",
    "\n",
    "        except Exception as e:\n",
    "            print(f\"Error during MISMATCH generation: {e}\")\n",
    "            time.sleep(2)\n",
    "    \n",
    "    print(f\"Generated {mismatches_created} MISMATCH examples for {llm}...\")"
   ]
  },
  {
   "cell_type": "code",
   "execution_count": 69,
   "id": "a8d3af9b",
   "metadata": {},
   "outputs": [
    {
     "data": {
      "text/plain": [
       "5350"
      ]
     },
     "execution_count": 69,
     "metadata": {},
     "output_type": "execute_result"
    }
   ],
   "source": [
    "len(all_data)"
   ]
  },
  {
   "cell_type": "code",
   "execution_count": 70,
   "id": "99e46551",
   "metadata": {},
   "outputs": [
    {
     "data": {
      "text/plain": [
       "[{'Messy Descriptor': 'EBAY*ELEC #1023 USA',\n",
       "  'Merchant Name': 'eBay Electronics USA',\n",
       "  'Label': 'MATCH',\n",
       "  'Generated By': 'ChatGPT-4.1'},\n",
       " {'Messy Descriptor': 'USA EBAY ELEC SVC-882',\n",
       "  'Merchant Name': 'eBay Electronics USA',\n",
       "  'Label': 'MATCH',\n",
       "  'Generated By': 'ChatGPT-4.1'},\n",
       " {'Messy Descriptor': 'EbayElectronicsUS*CA',\n",
       "  'Merchant Name': 'eBay Electronics USA',\n",
       "  'Label': 'MATCH',\n",
       "  'Generated By': 'ChatGPT-4.1'},\n",
       " {'Messy Descriptor': 'EBAY ELEC-TRNC USA 5548',\n",
       "  'Merchant Name': 'eBay Electronics USA',\n",
       "  'Label': 'MATCH',\n",
       "  'Generated By': 'ChatGPT-4.1'},\n",
       " {'Messy Descriptor': 'EBY ELCTRNX USA*',\n",
       "  'Merchant Name': 'eBay Electronics USA',\n",
       "  'Label': 'MATCH',\n",
       "  'Generated By': 'ChatGPT-4.1'}]"
      ]
     },
     "execution_count": 70,
     "metadata": {},
     "output_type": "execute_result"
    }
   ],
   "source": [
    "all_data[0:5]"
   ]
  },
  {
   "cell_type": "code",
   "execution_count": 71,
   "id": "0f34586d",
   "metadata": {},
   "outputs": [
    {
     "name": "stdout",
     "output_type": "stream",
     "text": [
      "Data generation complete! Saved to './data/synthetic_merchant_data.csv'.\n"
     ]
    }
   ],
   "source": [
    "# Saving the data to CSV\n",
    "\n",
    "messy_descriptor_df = pd.DataFrame(all_data)\n",
    "messy_descriptor_df.to_csv(\"./data/synthetic_merchant_data.csv\", index=False)\n",
    "\n",
    "print(\"Data generation complete! Saved to './data/synthetic_merchant_data.csv'.\")"
   ]
  },
  {
   "cell_type": "markdown",
   "id": "d8096c7b",
   "metadata": {},
   "source": [
    "### Loading the Saved Dataset"
   ]
  },
  {
   "cell_type": "code",
   "execution_count": 189,
   "id": "b1083dd1",
   "metadata": {},
   "outputs": [
    {
     "name": "stdout",
     "output_type": "stream",
     "text": [
      "Loaded 5350 records from CSV.\n"
     ]
    }
   ],
   "source": [
    "df = pd.read_csv(\"./data/synthetic_merchant_data.csv\")\n",
    "print(f\"Loaded {len(df)} records from CSV.\")"
   ]
  },
  {
   "cell_type": "markdown",
   "id": "804fe74a",
   "metadata": {},
   "source": [
    "### Splitting Data into Train, Val & Test\n",
    "Before we start viewing the data, let's split them into train, val & test.\n",
    "\n",
    "I am stratifying the data using the 'Label' column as this will ensure we have a similar amount of MATCH & MISMATCH examples in all our sets."
   ]
  },
  {
   "cell_type": "code",
   "execution_count": null,
   "id": "1a87d707",
   "metadata": {},
   "outputs": [
    {
     "name": "stdout",
     "output_type": "stream",
     "text": [
      "Train: 4280\n",
      "Validation: 535\n",
      "Test: 535\n"
     ]
    }
   ],
   "source": [
    "# First split into train and temp (val + test)\n",
    "train_df, temp_df = train_test_split(df, test_size=0.2, random_state=42, stratify=df['Label'])\n",
    "\n",
    "# Then split temp into validation and test (each 10%)\n",
    "val_df, test_df = train_test_split(temp_df, test_size=0.5, random_state=42, stratify=temp_df['Label'])\n",
    "\n",
    "# Optional: Save to files\n",
    "train_df.to_csv('./data/train.csv', index=False)\n",
    "val_df.to_csv('./data/val.csv', index=False)\n",
    "test_df.to_csv('./data/test.csv', index=False)\n",
    "\n",
    "# Print counts\n",
    "print(f\"Train: {len(train_df)}\")\n",
    "print(f\"Validation: {len(val_df)}\")\n",
    "print(f\"Test: {len(test_df)}\")\n"
   ]
  },
  {
   "cell_type": "code",
   "execution_count": 190,
   "id": "1833fc78",
   "metadata": {},
   "outputs": [],
   "source": [
    "# loading train, test & val splits\n",
    "\n",
    "train_df = pd.read_csv('./data/train.csv')\n",
    "val_df = pd.read_csv('./data/val.csv')\n",
    "test_df = pd.read_csv('./data/test.csv')"
   ]
  },
  {
   "cell_type": "markdown",
   "id": "62f1884e",
   "metadata": {},
   "source": [
    "# 3. Exploratory Data Analysis"
   ]
  },
  {
   "cell_type": "markdown",
   "id": "fedea768",
   "metadata": {},
   "source": [
    "## Data Distribution"
   ]
  },
  {
   "cell_type": "code",
   "execution_count": 138,
   "id": "be1b12ee",
   "metadata": {},
   "outputs": [
    {
     "name": "stdout",
     "output_type": "stream",
     "text": [
      "<class 'pandas.core.frame.DataFrame'>\n",
      "RangeIndex: 4280 entries, 0 to 4279\n",
      "Data columns (total 4 columns):\n",
      " #   Column            Non-Null Count  Dtype \n",
      "---  ------            --------------  ----- \n",
      " 0   Messy Descriptor  4280 non-null   object\n",
      " 1   Merchant Name     4280 non-null   object\n",
      " 2   Label             4280 non-null   object\n",
      " 3   Generated By      4280 non-null   object\n",
      "dtypes: object(4)\n",
      "memory usage: 133.9+ KB\n"
     ]
    }
   ],
   "source": [
    "train_df.info()"
   ]
  },
  {
   "cell_type": "code",
   "execution_count": 139,
   "id": "b5c13486",
   "metadata": {},
   "outputs": [
    {
     "data": {
      "text/html": [
       "<div>\n",
       "<style scoped>\n",
       "    .dataframe tbody tr th:only-of-type {\n",
       "        vertical-align: middle;\n",
       "    }\n",
       "\n",
       "    .dataframe tbody tr th {\n",
       "        vertical-align: top;\n",
       "    }\n",
       "\n",
       "    .dataframe thead th {\n",
       "        text-align: right;\n",
       "    }\n",
       "</style>\n",
       "<table border=\"1\" class=\"dataframe\">\n",
       "  <thead>\n",
       "    <tr style=\"text-align: right;\">\n",
       "      <th></th>\n",
       "      <th>Messy Descriptor</th>\n",
       "      <th>Merchant Name</th>\n",
       "      <th>Label</th>\n",
       "      <th>Generated By</th>\n",
       "    </tr>\n",
       "  </thead>\n",
       "  <tbody>\n",
       "    <tr>\n",
       "      <th>0</th>\n",
       "      <td>RedLobstr-TOR CAN 878</td>\n",
       "      <td>Red Lobster Toronto</td>\n",
       "      <td>MATCH</td>\n",
       "      <td>ChatGPT-4.1</td>\n",
       "    </tr>\n",
       "    <tr>\n",
       "      <th>1</th>\n",
       "      <td>BPSTATION*CLGRY CA</td>\n",
       "      <td>PayPal Services USA</td>\n",
       "      <td>MISMATCH</td>\n",
       "      <td>random_mismatch_logic</td>\n",
       "    </tr>\n",
       "    <tr>\n",
       "      <th>2</th>\n",
       "      <td>BP GAS STN SEATL*5099</td>\n",
       "      <td>BP Gas Station Seattle</td>\n",
       "      <td>MATCH</td>\n",
       "      <td>ChatGPT-4.1</td>\n",
       "    </tr>\n",
       "    <tr>\n",
       "      <th>3</th>\n",
       "      <td>ChicagoUBER Ride*</td>\n",
       "      <td>Uber Ride Chicago</td>\n",
       "      <td>MATCH</td>\n",
       "      <td>ChatGPT-4.1</td>\n",
       "    </tr>\n",
       "    <tr>\n",
       "      <th>4</th>\n",
       "      <td>LANDMARK*CNEMA WPG#51</td>\n",
       "      <td>Uber Ride Denver</td>\n",
       "      <td>MISMATCH</td>\n",
       "      <td>hard_mismatch_logic</td>\n",
       "    </tr>\n",
       "  </tbody>\n",
       "</table>\n",
       "</div>"
      ],
      "text/plain": [
       "        Messy Descriptor           Merchant Name     Label  \\\n",
       "0  RedLobstr-TOR CAN 878     Red Lobster Toronto     MATCH   \n",
       "1     BPSTATION*CLGRY CA     PayPal Services USA  MISMATCH   \n",
       "2  BP GAS STN SEATL*5099  BP Gas Station Seattle     MATCH   \n",
       "3      ChicagoUBER Ride*       Uber Ride Chicago     MATCH   \n",
       "4  LANDMARK*CNEMA WPG#51        Uber Ride Denver  MISMATCH   \n",
       "\n",
       "            Generated By  \n",
       "0            ChatGPT-4.1  \n",
       "1  random_mismatch_logic  \n",
       "2            ChatGPT-4.1  \n",
       "3            ChatGPT-4.1  \n",
       "4    hard_mismatch_logic  "
      ]
     },
     "execution_count": 139,
     "metadata": {},
     "output_type": "execute_result"
    }
   ],
   "source": [
    "train_df.head()"
   ]
  },
  {
   "cell_type": "code",
   "execution_count": 140,
   "id": "8ca2b2a3",
   "metadata": {},
   "outputs": [
    {
     "data": {
      "text/html": [
       "<div>\n",
       "<style scoped>\n",
       "    .dataframe tbody tr th:only-of-type {\n",
       "        vertical-align: middle;\n",
       "    }\n",
       "\n",
       "    .dataframe tbody tr th {\n",
       "        vertical-align: top;\n",
       "    }\n",
       "\n",
       "    .dataframe thead th {\n",
       "        text-align: right;\n",
       "    }\n",
       "</style>\n",
       "<table border=\"1\" class=\"dataframe\">\n",
       "  <thead>\n",
       "    <tr style=\"text-align: right;\">\n",
       "      <th></th>\n",
       "      <th>Messy Descriptor</th>\n",
       "      <th>Merchant Name</th>\n",
       "      <th>Label</th>\n",
       "      <th>Generated By</th>\n",
       "    </tr>\n",
       "  </thead>\n",
       "  <tbody>\n",
       "    <tr>\n",
       "      <th>4126</th>\n",
       "      <td>RDLBST TORON CA#</td>\n",
       "      <td>Red Lobster Toronto</td>\n",
       "      <td>MATCH</td>\n",
       "      <td>ChatGPT-4.1</td>\n",
       "    </tr>\n",
       "    <tr>\n",
       "      <th>2872</th>\n",
       "      <td>AMC-THR LOSA *#2387</td>\n",
       "      <td>AMC Theatres Los Angeles</td>\n",
       "      <td>MISMATCH</td>\n",
       "      <td>hard_mismatch_logic</td>\n",
       "    </tr>\n",
       "    <tr>\n",
       "      <th>3811</th>\n",
       "      <td>SQR INTL-SVC#US1</td>\n",
       "      <td>Square International Services</td>\n",
       "      <td>MATCH</td>\n",
       "      <td>ChatGPT-4.1</td>\n",
       "    </tr>\n",
       "    <tr>\n",
       "      <th>71</th>\n",
       "      <td>T D ONLN BNK #432</td>\n",
       "      <td>TD Online Bank</td>\n",
       "      <td>MATCH</td>\n",
       "      <td>ChatGPT-4.1</td>\n",
       "    </tr>\n",
       "    <tr>\n",
       "      <th>3449</th>\n",
       "      <td>Uber Eats-SanFran</td>\n",
       "      <td>Uber Eats San Francisco</td>\n",
       "      <td>MATCH</td>\n",
       "      <td>Gemini 1.5 Pro</td>\n",
       "    </tr>\n",
       "  </tbody>\n",
       "</table>\n",
       "</div>"
      ],
      "text/plain": [
       "         Messy Descriptor                  Merchant Name     Label  \\\n",
       "4126     RDLBST TORON CA#            Red Lobster Toronto     MATCH   \n",
       "2872  AMC-THR LOSA *#2387       AMC Theatres Los Angeles  MISMATCH   \n",
       "3811     SQR INTL-SVC#US1  Square International Services     MATCH   \n",
       "71      T D ONLN BNK #432                 TD Online Bank     MATCH   \n",
       "3449    Uber Eats-SanFran        Uber Eats San Francisco     MATCH   \n",
       "\n",
       "             Generated By  \n",
       "4126          ChatGPT-4.1  \n",
       "2872  hard_mismatch_logic  \n",
       "3811          ChatGPT-4.1  \n",
       "71            ChatGPT-4.1  \n",
       "3449       Gemini 1.5 Pro  "
      ]
     },
     "execution_count": 140,
     "metadata": {},
     "output_type": "execute_result"
    }
   ],
   "source": [
    "train_df.sample(5)"
   ]
  },
  {
   "cell_type": "code",
   "execution_count": 141,
   "id": "178cb2a4",
   "metadata": {},
   "outputs": [
    {
     "data": {
      "text/plain": [
       "310"
      ]
     },
     "execution_count": 141,
     "metadata": {},
     "output_type": "execute_result"
    }
   ],
   "source": [
    "len(train_df['Merchant Name'].unique())"
   ]
  },
  {
   "cell_type": "code",
   "execution_count": 142,
   "id": "b26dd3af",
   "metadata": {},
   "outputs": [
    {
     "data": {
      "text/plain": [
       "3287"
      ]
     },
     "execution_count": 142,
     "metadata": {},
     "output_type": "execute_result"
    }
   ],
   "source": [
    "len(train_df['Messy Descriptor'].unique())"
   ]
  },
  {
   "cell_type": "code",
   "execution_count": 143,
   "id": "71220373",
   "metadata": {},
   "outputs": [
    {
     "data": {
      "image/png": "[encoded data removed]",
      "text/plain": [
       "<Figure size 640x480 with 1 Axes>"
      ]
     },
     "metadata": {},
     "output_type": "display_data"
    }
   ],
   "source": [
    "ax = sns.countplot(data=train_df, x='Label', hue='Label', palette='pastel')\n",
    "plt.title('Distribution of Labels in Training Set')\n",
    "plt.xlabel('Label')\n",
    "plt.ylabel('Count')\n",
    "sns.despine()\n",
    "\n",
    "# add the values on top of the bars\n",
    "for p in ax.patches:\n",
    "    ax.annotate(f'{int(p.get_height())}', (p.get_x() + p.get_width() / 2., p.get_height()),\n",
    "                ha='center', va='bottom', fontsize=10, color='black', xytext=(0, 5),\n",
    "                textcoords='offset points')"
   ]
  },
  {
   "cell_type": "code",
   "execution_count": 144,
   "id": "d535c0ef",
   "metadata": {},
   "outputs": [
    {
     "data": {
      "text/plain": [
       "Generated By\n",
       "ChatGPT-4.1              2012\n",
       "random_mismatch_logic    1027\n",
       "hard_mismatch_logic       973\n",
       "Gemini 1.5 Pro            268\n",
       "Name: count, dtype: int64"
      ]
     },
     "execution_count": 144,
     "metadata": {},
     "output_type": "execute_result"
    }
   ],
   "source": [
    "train_df['Generated By'].value_counts()"
   ]
  },
  {
   "cell_type": "code",
   "execution_count": 147,
   "id": "69e97de7",
   "metadata": {},
   "outputs": [
    {
     "data": {
      "image/png": "[encoded data removed]",
      "text/plain": [
       "<Figure size 640x480 with 1 Axes>"
      ]
     },
     "metadata": {},
     "output_type": "display_data"
    }
   ],
   "source": [
    "ax = sns.countplot(data=train_df, x='Generated By', hue='Label', palette='pastel')\n",
    "plt.title('Distribution of Generation Logic in Training Set')\n",
    "plt.xlabel('Generated By')\n",
    "plt.ylabel('Count')\n",
    "\n",
    "# rotate the x label by 45 degree\n",
    "plt.xticks(rotation=45)\n",
    "\n",
    "sns.despine()"
   ]
  },
  {
   "cell_type": "markdown",
   "id": "1694fcff",
   "metadata": {},
   "source": [
    "# 4. Models"
   ]
  },
  {
   "cell_type": "markdown",
   "id": "c0d6f24f",
   "metadata": {},
   "source": [
    "## Supervised Learning Baseline with XGBoost & TF-IDF Vectorizer"
   ]
  },
  {
   "cell_type": "code",
   "execution_count": 191,
   "id": "edcfd185",
   "metadata": {},
   "outputs": [],
   "source": [
    "# returning just the descriptor & the merchant name in string format\n",
    "def preprocess(df):\n",
    "    return df[\"Messy Descriptor\"].astype(str), df[\"Merchant Name\"].astype(str)\n",
    "\n",
    "# Extract X and y\n",
    "X_train_desc, X_train_merchant = preprocess(train_df)\n",
    "X_val_desc, X_val_merchant = preprocess(val_df)\n",
    "X_test_desc, X_test_merchant = preprocess(test_df)\n",
    "\n",
    "y_train = train_df[\"Label\"].map({'MATCH': 1, 'MISMATCH': 0})\n",
    "y_val = val_df[\"Label\"].map({'MATCH': 1, 'MISMATCH': 0})\n",
    "y_test = test_df[\"Label\"].map({'MATCH': 1, 'MISMATCH': 0})"
   ]
  },
  {
   "cell_type": "code",
   "execution_count": 149,
   "id": "89421803",
   "metadata": {},
   "outputs": [
    {
     "data": {
      "text/plain": [
       "pandas.core.series.Series"
      ]
     },
     "execution_count": 149,
     "metadata": {},
     "output_type": "execute_result"
    }
   ],
   "source": [
    "type(X_train_desc)"
   ]
  },
  {
   "cell_type": "code",
   "execution_count": 150,
   "id": "1f328bb1",
   "metadata": {},
   "outputs": [
    {
     "data": {
      "text/plain": [
       "pandas.core.series.Series"
      ]
     },
     "execution_count": 150,
     "metadata": {},
     "output_type": "execute_result"
    }
   ],
   "source": [
    "type(X_train_merchant)"
   ]
  },
  {
   "cell_type": "code",
   "execution_count": 151,
   "id": "c8cd86bf",
   "metadata": {},
   "outputs": [
    {
     "data": {
      "text/plain": [
       "pandas.core.series.Series"
      ]
     },
     "execution_count": 151,
     "metadata": {},
     "output_type": "execute_result"
    }
   ],
   "source": [
    "type(y_train)"
   ]
  },
  {
   "cell_type": "markdown",
   "id": "24133f01",
   "metadata": {},
   "source": [
    "### Term Frequency - Invese Document Frequency (TF-IDF) Vectorizer"
   ]
  },
  {
   "cell_type": "code",
   "execution_count": 192,
   "id": "ac3a4d02",
   "metadata": {},
   "outputs": [],
   "source": [
    "# tf-idf will have unigrams + bigrams (1,2)\n",
    "tfidf_desc = TfidfVectorizer(ngram_range=(1,2), max_features=5000)\n",
    "tfidf_merchant = TfidfVectorizer(ngram_range=(1,2), max_features=5000)"
   ]
  },
  {
   "cell_type": "markdown",
   "id": "06660587",
   "metadata": {},
   "source": [
    "#### Fit & Transform on X_train"
   ]
  },
  {
   "cell_type": "code",
   "execution_count": 153,
   "id": "5fc9273d",
   "metadata": {},
   "outputs": [],
   "source": [
    "X_train_desc_vec = tfidf_desc.fit_transform(X_train_desc)\n",
    "X_train_merchant_vec = tfidf_merchant.fit_transform(X_train_merchant)\n",
    "X_train_vec = hstack([X_train_desc_vec, X_train_merchant_vec])"
   ]
  },
  {
   "cell_type": "code",
   "execution_count": 157,
   "id": "48b9d393",
   "metadata": {},
   "outputs": [
    {
     "data": {
      "text/plain": [
       "array([0.42071631, 0.25252697, 0.20408388, 0.43589157, 0.43589157,\n",
       "       0.38415272, 0.43589157, 0.46939793, 0.46939793, 0.29961444])"
      ]
     },
     "execution_count": 157,
     "metadata": {},
     "output_type": "execute_result"
    }
   ],
   "source": [
    "X_train_vec.data[0:10]"
   ]
  },
  {
   "cell_type": "markdown",
   "id": "2aa7d558",
   "metadata": {},
   "source": [
    "#### Transform on X_val & X_test"
   ]
  },
  {
   "cell_type": "code",
   "execution_count": 158,
   "id": "16f25e74",
   "metadata": {},
   "outputs": [],
   "source": [
    "X_val_desc_vec = tfidf_desc.transform(X_val_desc)\n",
    "X_val_merchant_vec = tfidf_merchant.transform(X_val_merchant)\n",
    "X_val_vec = hstack([X_val_desc_vec, X_val_merchant_vec])\n",
    "\n",
    "X_test_desc_vec = tfidf_desc.transform(X_test_desc)\n",
    "X_test_merchant_vec = tfidf_merchant.transform(X_test_merchant)\n",
    "X_test_vec = hstack([X_test_desc_vec, X_test_merchant_vec])"
   ]
  },
  {
   "cell_type": "markdown",
   "id": "c7c97814",
   "metadata": {},
   "source": [
    "### XGBoost Model #1"
   ]
  },
  {
   "cell_type": "code",
   "execution_count": 159,
   "id": "1f2c7b50",
   "metadata": {},
   "outputs": [],
   "source": [
    "# XGBoost Model\n",
    "xgb = XGBClassifier(\n",
    "    n_estimators=300,\n",
    "    max_depth=6,\n",
    "    learning_rate=0.1,\n",
    "    subsample=0.8,\n",
    "    colsample_bytree=0.8,\n",
    "    random_state=42,\n",
    "    reg_alpha=0.1,  # L1 regularization\n",
    "    reg_lambda=1.0, # L2 regularization\n",
    "    use_label_encoder=False, \n",
    "    eval_metric=\"logloss\")"
   ]
  },
  {
   "cell_type": "code",
   "execution_count": 160,
   "id": "fcaa8430",
   "metadata": {},
   "outputs": [
    {
     "name": "stdout",
     "output_type": "stream",
     "text": [
      "CPU times: user 5 μs, sys: 3 μs, total: 8 μs\n",
      "Wall time: 27.9 μs\n"
     ]
    },
    {
     "name": "stderr",
     "output_type": "stream",
     "text": [
      "[11:46:57] WARNING: /Users/runner/work/xgboost/xgboost/src/learner.cc:738: \n",
      "Parameters: { \"use_label_encoder\" } are not used.\n",
      "\n"
     ]
    },
    {
     "data": {
      "text/html": [
       "<style>#sk-container-id-1 {\n",
       "  /* Definition of color scheme common for light and dark mode */\n",
       "  --sklearn-color-text: #000;\n",
       "  --sklearn-color-text-muted: #666;\n",
       "  --sklearn-color-line: gray;\n",
       "  /* Definition of color scheme for unfitted estimators */\n",
       "  --sklearn-color-unfitted-level-0: #fff5e6;\n",
       "  --sklearn-color-unfitted-level-1: #f6e4d2;\n",
       "  --sklearn-color-unfitted-level-2: #ffe0b3;\n",
       "  --sklearn-color-unfitted-level-3: chocolate;\n",
       "  /* Definition of color scheme for fitted estimators */\n",
       "  --sklearn-color-fitted-level-0: #f0f8ff;\n",
       "  --sklearn-color-fitted-level-1: #d4ebff;\n",
       "  --sklearn-color-fitted-level-2: #b3dbfd;\n",
       "  --sklearn-color-fitted-level-3: cornflowerblue;\n",
       "\n",
       "  /* Specific color for light theme */\n",
       "  --sklearn-color-text-on-default-background: var(--sg-text-color, var(--theme-code-foreground, var(--jp-content-font-color1, black)));\n",
       "  --sklearn-color-background: var(--sg-background-color, var(--theme-background, var(--jp-layout-color0, white)));\n",
       "  --sklearn-color-border-box: var(--sg-text-color, var(--theme-code-foreground, var(--jp-content-font-color1, black)));\n",
       "  --sklearn-color-icon: #696969;\n",
       "\n",
       "  @media (prefers-color-scheme: dark) {\n",
       "    /* Redefinition of color scheme for dark theme */\n",
       "    --sklearn-color-text-on-default-background: var(--sg-text-color, var(--theme-code-foreground, var(--jp-content-font-color1, white)));\n",
       "    --sklearn-color-background: var(--sg-background-color, var(--theme-background, var(--jp-layout-color0, #111)));\n",
       "    --sklearn-color-border-box: var(--sg-text-color, var(--theme-code-foreground, var(--jp-content-font-color1, white)));\n",
       "    --sklearn-color-icon: #878787;\n",
       "  }\n",
       "}\n",
       "\n",
       "#sk-container-id-1 {\n",
       "  color: var(--sklearn-color-text);\n",
       "}\n",
       "\n",
       "#sk-container-id-1 pre {\n",
       "  padding: 0;\n",
       "}\n",
       "\n",
       "#sk-container-id-1 input.sk-hidden--visually {\n",
       "  border: 0;\n",
       "  clip: rect(1px 1px 1px 1px);\n",
       "  clip: rect(1px, 1px, 1px, 1px);\n",
       "  height: 1px;\n",
       "  margin: -1px;\n",
       "  overflow: hidden;\n",
       "  padding: 0;\n",
       "  position: absolute;\n",
       "  width: 1px;\n",
       "}\n",
       "\n",
       "#sk-container-id-1 div.sk-dashed-wrapped {\n",
       "  border: 1px dashed var(--sklearn-color-line);\n",
       "  margin: 0 0.4em 0.5em 0.4em;\n",
       "  box-sizing: border-box;\n",
       "  padding-bottom: 0.4em;\n",
       "  background-color: var(--sklearn-color-background);\n",
       "}\n",
       "\n",
       "#sk-container-id-1 div.sk-container {\n",
       "  /* jupyter's `normalize.less` sets `[hidden] { display: none; }`\n",
       "     but bootstrap.min.css set `[hidden] { display: none !important; }`\n",
       "     so we also need the `!important` here to be able to override the\n",
       "     default hidden behavior on the sphinx rendered scikit-learn.org.\n",
       "     See: https://github.com/scikit-learn/scikit-learn/issues/21755 */\n",
       "  display: inline-block !important;\n",
       "  position: relative;\n",
       "}\n",
       "\n",
       "#sk-container-id-1 div.sk-text-repr-fallback {\n",
       "  display: none;\n",
       "}\n",
       "\n",
       "div.sk-parallel-item,\n",
       "div.sk-serial,\n",
       "div.sk-item {\n",
       "  /* draw centered vertical line to link estimators */\n",
       "  background-image: linear-gradient(var(--sklearn-color-text-on-default-background), var(--sklearn-color-text-on-default-background));\n",
       "  background-size: 2px 100%;\n",
       "  background-repeat: no-repeat;\n",
       "  background-position: center center;\n",
       "}\n",
       "\n",
       "/* Parallel-specific style estimator block */\n",
       "\n",
       "#sk-container-id-1 div.sk-parallel-item::after {\n",
       "  content: \"\";\n",
       "  width: 100%;\n",
       "  border-bottom: 2px solid var(--sklearn-color-text-on-default-background);\n",
       "  flex-grow: 1;\n",
       "}\n",
       "\n",
       "#sk-container-id-1 div.sk-parallel {\n",
       "  display: flex;\n",
       "  align-items: stretch;\n",
       "  justify-content: center;\n",
       "  background-color: var(--sklearn-color-background);\n",
       "  position: relative;\n",
       "}\n",
       "\n",
       "#sk-container-id-1 div.sk-parallel-item {\n",
       "  display: flex;\n",
       "  flex-direction: column;\n",
       "}\n",
       "\n",
       "#sk-container-id-1 div.sk-parallel-item:first-child::after {\n",
       "  align-self: flex-end;\n",
       "  width: 50%;\n",
       "}\n",
       "\n",
       "#sk-container-id-1 div.sk-parallel-item:last-child::after {\n",
       "  align-self: flex-start;\n",
       "  width: 50%;\n",
       "}\n",
       "\n",
       "#sk-container-id-1 div.sk-parallel-item:only-child::after {\n",
       "  width: 0;\n",
       "}\n",
       "\n",
       "/* Serial-specific style estimator block */\n",
       "\n",
       "#sk-container-id-1 div.sk-serial {\n",
       "  display: flex;\n",
       "  flex-direction: column;\n",
       "  align-items: center;\n",
       "  background-color: var(--sklearn-color-background);\n",
       "  padding-right: 1em;\n",
       "  padding-left: 1em;\n",
       "}\n",
       "\n",
       "\n",
       "/* Toggleable style: style used for estimator/Pipeline/ColumnTransformer box that is\n",
       "clickable and can be expanded/collapsed.\n",
       "- Pipeline and ColumnTransformer use this feature and define the default style\n",
       "- Estimators will overwrite some part of the style using the `sk-estimator` class\n",
       "*/\n",
       "\n",
       "/* Pipeline and ColumnTransformer style (default) */\n",
       "\n",
       "#sk-container-id-1 div.sk-toggleable {\n",
       "  /* Default theme specific background. It is overwritten whether we have a\n",
       "  specific estimator or a Pipeline/ColumnTransformer */\n",
       "  background-color: var(--sklearn-color-background);\n",
       "}\n",
       "\n",
       "/* Toggleable label */\n",
       "#sk-container-id-1 label.sk-toggleable__label {\n",
       "  cursor: pointer;\n",
       "  display: flex;\n",
       "  width: 100%;\n",
       "  margin-bottom: 0;\n",
       "  padding: 0.5em;\n",
       "  box-sizing: border-box;\n",
       "  text-align: center;\n",
       "  align-items: start;\n",
       "  justify-content: space-between;\n",
       "  gap: 0.5em;\n",
       "}\n",
       "\n",
       "#sk-container-id-1 label.sk-toggleable__label .caption {\n",
       "  font-size: 0.6rem;\n",
       "  font-weight: lighter;\n",
       "  color: var(--sklearn-color-text-muted);\n",
       "}\n",
       "\n",
       "#sk-container-id-1 label.sk-toggleable__label-arrow:before {\n",
       "  /* Arrow on the left of the label */\n",
       "  content: \"▸\";\n",
       "  float: left;\n",
       "  margin-right: 0.25em;\n",
       "  color: var(--sklearn-color-icon);\n",
       "}\n",
       "\n",
       "#sk-container-id-1 label.sk-toggleable__label-arrow:hover:before {\n",
       "  color: var(--sklearn-color-text);\n",
       "}\n",
       "\n",
       "/* Toggleable content - dropdown */\n",
       "\n",
       "#sk-container-id-1 div.sk-toggleable__content {\n",
       "  max-height: 0;\n",
       "  max-width: 0;\n",
       "  overflow: hidden;\n",
       "  text-align: left;\n",
       "  /* unfitted */\n",
       "  background-color: var(--sklearn-color-unfitted-level-0);\n",
       "}\n",
       "\n",
       "#sk-container-id-1 div.sk-toggleable__content.fitted {\n",
       "  /* fitted */\n",
       "  background-color: var(--sklearn-color-fitted-level-0);\n",
       "}\n",
       "\n",
       "#sk-container-id-1 div.sk-toggleable__content pre {\n",
       "  margin: 0.2em;\n",
       "  border-radius: 0.25em;\n",
       "  color: var(--sklearn-color-text);\n",
       "  /* unfitted */\n",
       "  background-color: var(--sklearn-color-unfitted-level-0);\n",
       "}\n",
       "\n",
       "#sk-container-id-1 div.sk-toggleable__content.fitted pre {\n",
       "  /* unfitted */\n",
       "  background-color: var(--sklearn-color-fitted-level-0);\n",
       "}\n",
       "\n",
       "#sk-container-id-1 input.sk-toggleable__control:checked~div.sk-toggleable__content {\n",
       "  /* Expand drop-down */\n",
       "  max-height: 200px;\n",
       "  max-width: 100%;\n",
       "  overflow: auto;\n",
       "}\n",
       "\n",
       "#sk-container-id-1 input.sk-toggleable__control:checked~label.sk-toggleable__label-arrow:before {\n",
       "  content: \"▾\";\n",
       "}\n",
       "\n",
       "/* Pipeline/ColumnTransformer-specific style */\n",
       "\n",
       "#sk-container-id-1 div.sk-label input.sk-toggleable__control:checked~label.sk-toggleable__label {\n",
       "  color: var(--sklearn-color-text);\n",
       "  background-color: var(--sklearn-color-unfitted-level-2);\n",
       "}\n",
       "\n",
       "#sk-container-id-1 div.sk-label.fitted input.sk-toggleable__control:checked~label.sk-toggleable__label {\n",
       "  background-color: var(--sklearn-color-fitted-level-2);\n",
       "}\n",
       "\n",
       "/* Estimator-specific style */\n",
       "\n",
       "/* Colorize estimator box */\n",
       "#sk-container-id-1 div.sk-estimator input.sk-toggleable__control:checked~label.sk-toggleable__label {\n",
       "  /* unfitted */\n",
       "  background-color: var(--sklearn-color-unfitted-level-2);\n",
       "}\n",
       "\n",
       "#sk-container-id-1 div.sk-estimator.fitted input.sk-toggleable__control:checked~label.sk-toggleable__label {\n",
       "  /* fitted */\n",
       "  background-color: var(--sklearn-color-fitted-level-2);\n",
       "}\n",
       "\n",
       "#sk-container-id-1 div.sk-label label.sk-toggleable__label,\n",
       "#sk-container-id-1 div.sk-label label {\n",
       "  /* The background is the default theme color */\n",
       "  color: var(--sklearn-color-text-on-default-background);\n",
       "}\n",
       "\n",
       "/* On hover, darken the color of the background */\n",
       "#sk-container-id-1 div.sk-label:hover label.sk-toggleable__label {\n",
       "  color: var(--sklearn-color-text);\n",
       "  background-color: var(--sklearn-color-unfitted-level-2);\n",
       "}\n",
       "\n",
       "/* Label box, darken color on hover, fitted */\n",
       "#sk-container-id-1 div.sk-label.fitted:hover label.sk-toggleable__label.fitted {\n",
       "  color: var(--sklearn-color-text);\n",
       "  background-color: var(--sklearn-color-fitted-level-2);\n",
       "}\n",
       "\n",
       "/* Estimator label */\n",
       "\n",
       "#sk-container-id-1 div.sk-label label {\n",
       "  font-family: monospace;\n",
       "  font-weight: bold;\n",
       "  display: inline-block;\n",
       "  line-height: 1.2em;\n",
       "}\n",
       "\n",
       "#sk-container-id-1 div.sk-label-container {\n",
       "  text-align: center;\n",
       "}\n",
       "\n",
       "/* Estimator-specific */\n",
       "#sk-container-id-1 div.sk-estimator {\n",
       "  font-family: monospace;\n",
       "  border: 1px dotted var(--sklearn-color-border-box);\n",
       "  border-radius: 0.25em;\n",
       "  box-sizing: border-box;\n",
       "  margin-bottom: 0.5em;\n",
       "  /* unfitted */\n",
       "  background-color: var(--sklearn-color-unfitted-level-0);\n",
       "}\n",
       "\n",
       "#sk-container-id-1 div.sk-estimator.fitted {\n",
       "  /* fitted */\n",
       "  background-color: var(--sklearn-color-fitted-level-0);\n",
       "}\n",
       "\n",
       "/* on hover */\n",
       "#sk-container-id-1 div.sk-estimator:hover {\n",
       "  /* unfitted */\n",
       "  background-color: var(--sklearn-color-unfitted-level-2);\n",
       "}\n",
       "\n",
       "#sk-container-id-1 div.sk-estimator.fitted:hover {\n",
       "  /* fitted */\n",
       "  background-color: var(--sklearn-color-fitted-level-2);\n",
       "}\n",
       "\n",
       "/* Specification for estimator info (e.g. \"i\" and \"?\") */\n",
       "\n",
       "/* Common style for \"i\" and \"?\" */\n",
       "\n",
       ".sk-estimator-doc-link,\n",
       "a:link.sk-estimator-doc-link,\n",
       "a:visited.sk-estimator-doc-link {\n",
       "  float: right;\n",
       "  font-size: smaller;\n",
       "  line-height: 1em;\n",
       "  font-family: monospace;\n",
       "  background-color: var(--sklearn-color-background);\n",
       "  border-radius: 1em;\n",
       "  height: 1em;\n",
       "  width: 1em;\n",
       "  text-decoration: none !important;\n",
       "  margin-left: 0.5em;\n",
       "  text-align: center;\n",
       "  /* unfitted */\n",
       "  border: var(--sklearn-color-unfitted-level-1) 1pt solid;\n",
       "  color: var(--sklearn-color-unfitted-level-1);\n",
       "}\n",
       "\n",
       ".sk-estimator-doc-link.fitted,\n",
       "a:link.sk-estimator-doc-link.fitted,\n",
       "a:visited.sk-estimator-doc-link.fitted {\n",
       "  /* fitted */\n",
       "  border: var(--sklearn-color-fitted-level-1) 1pt solid;\n",
       "  color: var(--sklearn-color-fitted-level-1);\n",
       "}\n",
       "\n",
       "/* On hover */\n",
       "div.sk-estimator:hover .sk-estimator-doc-link:hover,\n",
       ".sk-estimator-doc-link:hover,\n",
       "div.sk-label-container:hover .sk-estimator-doc-link:hover,\n",
       ".sk-estimator-doc-link:hover {\n",
       "  /* unfitted */\n",
       "  background-color: var(--sklearn-color-unfitted-level-3);\n",
       "  color: var(--sklearn-color-background);\n",
       "  text-decoration: none;\n",
       "}\n",
       "\n",
       "div.sk-estimator.fitted:hover .sk-estimator-doc-link.fitted:hover,\n",
       ".sk-estimator-doc-link.fitted:hover,\n",
       "div.sk-label-container:hover .sk-estimator-doc-link.fitted:hover,\n",
       ".sk-estimator-doc-link.fitted:hover {\n",
       "  /* fitted */\n",
       "  background-color: var(--sklearn-color-fitted-level-3);\n",
       "  color: var(--sklearn-color-background);\n",
       "  text-decoration: none;\n",
       "}\n",
       "\n",
       "/* Span, style for the box shown on hovering the info icon */\n",
       ".sk-estimator-doc-link span {\n",
       "  display: none;\n",
       "  z-index: 9999;\n",
       "  position: relative;\n",
       "  font-weight: normal;\n",
       "  right: .2ex;\n",
       "  padding: .5ex;\n",
       "  margin: .5ex;\n",
       "  width: min-content;\n",
       "  min-width: 20ex;\n",
       "  max-width: 50ex;\n",
       "  color: var(--sklearn-color-text);\n",
       "  box-shadow: 2pt 2pt 4pt #999;\n",
       "  /* unfitted */\n",
       "  background: var(--sklearn-color-unfitted-level-0);\n",
       "  border: .5pt solid var(--sklearn-color-unfitted-level-3);\n",
       "}\n",
       "\n",
       ".sk-estimator-doc-link.fitted span {\n",
       "  /* fitted */\n",
       "  background: var(--sklearn-color-fitted-level-0);\n",
       "  border: var(--sklearn-color-fitted-level-3);\n",
       "}\n",
       "\n",
       ".sk-estimator-doc-link:hover span {\n",
       "  display: block;\n",
       "}\n",
       "\n",
       "/* \"?\"-specific style due to the `<a>` HTML tag */\n",
       "\n",
       "#sk-container-id-1 a.estimator_doc_link {\n",
       "  float: right;\n",
       "  font-size: 1rem;\n",
       "  line-height: 1em;\n",
       "  font-family: monospace;\n",
       "  background-color: var(--sklearn-color-background);\n",
       "  border-radius: 1rem;\n",
       "  height: 1rem;\n",
       "  width: 1rem;\n",
       "  text-decoration: none;\n",
       "  /* unfitted */\n",
       "  color: var(--sklearn-color-unfitted-level-1);\n",
       "  border: var(--sklearn-color-unfitted-level-1) 1pt solid;\n",
       "}\n",
       "\n",
       "#sk-container-id-1 a.estimator_doc_link.fitted {\n",
       "  /* fitted */\n",
       "  border: var(--sklearn-color-fitted-level-1) 1pt solid;\n",
       "  color: var(--sklearn-color-fitted-level-1);\n",
       "}\n",
       "\n",
       "/* On hover */\n",
       "#sk-container-id-1 a.estimator_doc_link:hover {\n",
       "  /* unfitted */\n",
       "  background-color: var(--sklearn-color-unfitted-level-3);\n",
       "  color: var(--sklearn-color-background);\n",
       "  text-decoration: none;\n",
       "}\n",
       "\n",
       "#sk-container-id-1 a.estimator_doc_link.fitted:hover {\n",
       "  /* fitted */\n",
       "  background-color: var(--sklearn-color-fitted-level-3);\n",
       "}\n",
       "</style><div id=\"sk-container-id-1\" class=\"sk-top-container\"><div class=\"sk-text-repr-fallback\"><pre>XGBClassifier(base_score=None, booster=None, callbacks=None,\n",
       "              colsample_bylevel=None, colsample_bynode=None,\n",
       "              colsample_bytree=0.8, device=None, early_stopping_rounds=None,\n",
       "              enable_categorical=False, eval_metric=&#x27;logloss&#x27;,\n",
       "              feature_types=None, feature_weights=None, gamma=None,\n",
       "              grow_policy=None, importance_type=None,\n",
       "              interaction_constraints=None, learning_rate=0.1, max_bin=None,\n",
       "              max_cat_threshold=None, max_cat_to_onehot=None,\n",
       "              max_delta_step=None, max_depth=6, max_leaves=None,\n",
       "              min_child_weight=None, missing=nan, monotone_constraints=None,\n",
       "              multi_strategy=None, n_estimators=300, n_jobs=None,\n",
       "              num_parallel_tree=None, ...)</pre><b>In a Jupyter environment, please rerun this cell to show the HTML representation or trust the notebook. <br />On GitHub, the HTML representation is unable to render, please try loading this page with nbviewer.org.</b></div><div class=\"sk-container\" hidden><div class=\"sk-item\"><div class=\"sk-estimator fitted sk-toggleable\"><input class=\"sk-toggleable__control sk-hidden--visually\" id=\"sk-estimator-id-1\" type=\"checkbox\" checked><label for=\"sk-estimator-id-1\" class=\"sk-toggleable__label fitted sk-toggleable__label-arrow\"><div><div>XGBClassifier</div></div><div><a class=\"sk-estimator-doc-link fitted\" rel=\"noreferrer\" target=\"_blank\" href=\"https://xgboost.readthedocs.io/en/release_3.0.0/python/python_api.html#xgboost.XGBClassifier\">?<span>Documentation for XGBClassifier</span></a><span class=\"sk-estimator-doc-link fitted\">i<span>Fitted</span></span></div></label><div class=\"sk-toggleable__content fitted\"><pre>XGBClassifier(base_score=None, booster=None, callbacks=None,\n",
       "              colsample_bylevel=None, colsample_bynode=None,\n",
       "              colsample_bytree=0.8, device=None, early_stopping_rounds=None,\n",
       "              enable_categorical=False, eval_metric=&#x27;logloss&#x27;,\n",
       "              feature_types=None, feature_weights=None, gamma=None,\n",
       "              grow_policy=None, importance_type=None,\n",
       "              interaction_constraints=None, learning_rate=0.1, max_bin=None,\n",
       "              max_cat_threshold=None, max_cat_to_onehot=None,\n",
       "              max_delta_step=None, max_depth=6, max_leaves=None,\n",
       "              min_child_weight=None, missing=nan, monotone_constraints=None,\n",
       "              multi_strategy=None, n_estimators=300, n_jobs=None,\n",
       "              num_parallel_tree=None, ...)</pre></div> </div></div></div></div>"
      ],
      "text/plain": [
       "XGBClassifier(base_score=None, booster=None, callbacks=None,\n",
       "              colsample_bylevel=None, colsample_bynode=None,\n",
       "              colsample_bytree=0.8, device=None, early_stopping_rounds=None,\n",
       "              enable_categorical=False, eval_metric='logloss',\n",
       "              feature_types=None, feature_weights=None, gamma=None,\n",
       "              grow_policy=None, importance_type=None,\n",
       "              interaction_constraints=None, learning_rate=0.1, max_bin=None,\n",
       "              max_cat_threshold=None, max_cat_to_onehot=None,\n",
       "              max_delta_step=None, max_depth=6, max_leaves=None,\n",
       "              min_child_weight=None, missing=nan, monotone_constraints=None,\n",
       "              multi_strategy=None, n_estimators=300, n_jobs=None,\n",
       "              num_parallel_tree=None, ...)"
      ]
     },
     "execution_count": 160,
     "metadata": {},
     "output_type": "execute_result"
    }
   ],
   "source": [
    "%time\n",
    "xgb.fit(X_train_vec, y_train)"
   ]
  },
  {
   "cell_type": "markdown",
   "id": "00b819c7",
   "metadata": {},
   "source": [
    "#### Evaluating XGBoost #1"
   ]
  },
  {
   "cell_type": "code",
   "execution_count": 162,
   "id": "8ec29643",
   "metadata": {},
   "outputs": [
    {
     "name": "stdout",
     "output_type": "stream",
     "text": [
      "Training Evaluation Results:\n",
      "               precision    recall  f1-score   support\n",
      "\n",
      "           0       0.85      0.77      0.81      2000\n",
      "           1       0.81      0.88      0.84      2280\n",
      "\n",
      "    accuracy                           0.83      4280\n",
      "   macro avg       0.83      0.82      0.82      4280\n",
      "weighted avg       0.83      0.83      0.83      4280\n",
      "\n"
     ]
    }
   ],
   "source": [
    "y_train_pred = xgb.predict(X_train_vec)\n",
    "print(\"Training Evaluation Results:\\n\", classification_report(y_train, y_train_pred))"
   ]
  },
  {
   "cell_type": "code",
   "execution_count": null,
   "id": "e1571797",
   "metadata": {},
   "outputs": [
    {
     "name": "stdout",
     "output_type": "stream",
     "text": [
      "Validation Results:\n",
      "               precision    recall  f1-score   support\n",
      "\n",
      "           0       0.66      0.53      0.59       250\n",
      "           1       0.65      0.76      0.70       285\n",
      "\n",
      "    accuracy                           0.65       535\n",
      "   macro avg       0.65      0.64      0.64       535\n",
      "weighted avg       0.65      0.65      0.65       535\n",
      "\n"
     ]
    }
   ],
   "source": [
    "# Evaluation of validation set\n",
    "y_val_pred = xgb.predict(X_val_vec)\n",
    "print(\"Validation Results:\\n\", classification_report(y_val, y_val_pred))"
   ]
  },
  {
   "cell_type": "code",
   "execution_count": 163,
   "id": "859df49e",
   "metadata": {},
   "outputs": [
    {
     "name": "stdout",
     "output_type": "stream",
     "text": [
      "Test Results:\n",
      "               precision    recall  f1-score   support\n",
      "\n",
      "           0       0.66      0.56      0.61       250\n",
      "           1       0.66      0.75      0.70       285\n",
      "\n",
      "    accuracy                           0.66       535\n",
      "   macro avg       0.66      0.66      0.66       535\n",
      "weighted avg       0.66      0.66      0.66       535\n",
      "\n"
     ]
    }
   ],
   "source": [
    "# Evaluation of test set\n",
    "y_test_pred = xgb.predict(X_test_vec)\n",
    "print(\"Test Results:\\n\", classification_report(y_test, y_test_pred))"
   ]
  },
  {
   "cell_type": "markdown",
   "id": "5664f8b3",
   "metadata": {},
   "source": [
    "Our model performs well on the training set (83% accuracy), but there's a clear gap on validation and test sets (~66% accuracy), suggesting overfitting."
   ]
  },
  {
   "cell_type": "markdown",
   "id": "d53ba447",
   "metadata": {},
   "source": [
    "### XGBoost Model #2 (Hyper-Parameter Tuned)"
   ]
  },
  {
   "cell_type": "code",
   "execution_count": null,
   "id": "97b6bd7b",
   "metadata": {},
   "outputs": [],
   "source": [
    "params = {\n",
    "    'max_depth': [3, 6],\n",
    "    'learning_rate': [0.01, 0.1],\n",
    "    'subsample': [0.8, 1.0],\n",
    "    'colsample_bytree': [0.8, 1.0],\n",
    "    'n_estimators': [100, 300]\n",
    "}"
   ]
  },
  {
   "cell_type": "code",
   "execution_count": 167,
   "id": "25d8452a",
   "metadata": {},
   "outputs": [],
   "source": [
    "xgb_2 = XGBClassifier(\n",
    "    use_label_encoder=False,\n",
    "    eval_metric='logloss',\n",
    "    random_state=42\n",
    ")"
   ]
  },
  {
   "cell_type": "code",
   "execution_count": 170,
   "id": "5599986c",
   "metadata": {},
   "outputs": [
    {
     "name": "stdout",
     "output_type": "stream",
     "text": [
      "Fitting 3 folds for each of 32 candidates, totalling 96 fits\n"
     ]
    },
    {
     "name": "stderr",
     "output_type": "stream",
     "text": [
      "[12:08:00] WARNING: /Users/runner/work/xgboost/xgboost/src/learner.cc:738: \n",
      "Parameters: { \"use_label_encoder\" } are not used.\n",
      "\n",
      "[12:08:01] WARNING: /Users/runner/work/xgboost/xgboost/src/learner.cc:738: \n",
      "Parameters: { \"use_label_encoder\" } are not used.\n",
      "\n",
      "[12:08:01] WARNING: /Users/runner/work/xgboost/xgboost/src/learner.cc:738: \n",
      "Parameters: { \"use_label_encoder\" } are not used.\n",
      "\n",
      "[12:08:01] WARNING: /Users/runner/work/xgboost/xgboost/src/learner.cc:738: \n",
      "Parameters: { \"use_label_encoder\" } are not used.\n",
      "\n",
      "[12:08:01] WARNING: /Users/runner/work/xgboost/xgboost/src/learner.cc:738: \n",
      "Parameters: { \"use_label_encoder\" } are not used.\n",
      "\n",
      "[12:08:01] WARNING: /Users/runner/work/xgboost/xgboost/src/learner.cc:738: \n",
      "Parameters: { \"use_label_encoder\" } are not used.\n",
      "\n",
      "[12:08:01] WARNING: /Users/runner/work/xgboost/xgboost/src/learner.cc:738: \n",
      "Parameters: { \"use_label_encoder\" } are not used.\n",
      "\n",
      "[12:08:02] WARNING: /Users/runner/work/xgboost/xgboost/src/learner.cc:738: \n",
      "Parameters: { \"use_label_encoder\" } are not used.\n",
      "\n",
      "[12:08:02] WARNING: /Users/runner/work/xgboost/xgboost/src/learner.cc:738: \n",
      "Parameters: { \"use_label_encoder\" } are not used.\n",
      "\n",
      "[12:08:02] WARNING: /Users/runner/work/xgboost/xgboost/src/learner.cc:738: \n",
      "Parameters: { \"use_label_encoder\" } are not used.\n",
      "\n",
      "[12:08:02] WARNING: /Users/runner/work/xgboost/xgboost/src/learner.cc:738: \n",
      "Parameters: { \"use_label_encoder\" } are not used.\n",
      "\n",
      "[12:08:03] WARNING: /Users/runner/work/xgboost/xgboost/src/learner.cc:738: \n",
      "Parameters: { \"use_label_encoder\" } are not used.\n",
      "\n",
      "[12:08:03] WARNING: /Users/runner/work/xgboost/xgboost/src/learner.cc:738: \n",
      "Parameters: { \"use_label_encoder\" } are not used.\n",
      "\n",
      "[12:08:03] WARNING: /Users/runner/work/xgboost/xgboost/src/learner.cc:738: \n",
      "Parameters: { \"use_label_encoder\" } are not used.\n",
      "\n",
      "[12:08:03] WARNING: /Users/runner/work/xgboost/xgboost/src/learner.cc:738: \n",
      "Parameters: { \"use_label_encoder\" } are not used.\n",
      "\n",
      "[12:08:04] WARNING: /Users/runner/work/xgboost/xgboost/src/learner.cc:738: \n",
      "Parameters: { \"use_label_encoder\" } are not used.\n",
      "\n",
      "[12:08:04] WARNING: /Users/runner/work/xgboost/xgboost/src/learner.cc:738: \n",
      "Parameters: { \"use_label_encoder\" } are not used.\n",
      "\n",
      "[12:08:04] WARNING: /Users/runner/work/xgboost/xgboost/src/learner.cc:738: \n",
      "Parameters: { \"use_label_encoder\" } are not used.\n",
      "\n",
      "[12:08:04] WARNING: /Users/runner/work/xgboost/xgboost/src/learner.cc:738: \n",
      "Parameters: { \"use_label_encoder\" } are not used.\n",
      "\n",
      "[12:08:05] WARNING: /Users/runner/work/xgboost/xgboost/src/learner.cc:738: \n",
      "Parameters: { \"use_label_encoder\" } are not used.\n",
      "\n",
      "[12:08:05] WARNING: /Users/runner/work/xgboost/xgboost/src/learner.cc:738: \n",
      "Parameters: { \"use_label_encoder\" } are not used.\n",
      "\n",
      "[12:08:06] WARNING: /Users/runner/work/xgboost/xgboost/src/learner.cc:738: \n",
      "Parameters: { \"use_label_encoder\" } are not used.\n",
      "\n",
      "[12:08:07] WARNING: /Users/runner/work/xgboost/xgboost/src/learner.cc:738: \n",
      "Parameters: { \"use_label_encoder\" } are not used.\n",
      "\n",
      "[12:08:07] WARNING: /Users/runner/work/xgboost/xgboost/src/learner.cc:738: \n",
      "Parameters: { \"use_label_encoder\" } are not used.\n",
      "\n",
      "[12:08:08] WARNING: /Users/runner/work/xgboost/xgboost/src/learner.cc:738: \n",
      "Parameters: { \"use_label_encoder\" } are not used.\n",
      "\n",
      "[12:08:08] WARNING: /Users/runner/work/xgboost/xgboost/src/learner.cc:738: \n",
      "Parameters: { \"use_label_encoder\" } are not used.\n",
      "\n",
      "[12:08:08] WARNING: /Users/runner/work/xgboost/xgboost/src/learner.cc:738: \n",
      "Parameters: { \"use_label_encoder\" } are not used.\n",
      "\n",
      "[12:08:08] WARNING: /Users/runner/work/xgboost/xgboost/src/learner.cc:738: \n",
      "Parameters: { \"use_label_encoder\" } are not used.\n",
      "\n",
      "[12:08:08] WARNING: /Users/runner/work/xgboost/xgboost/src/learner.cc:738: \n",
      "Parameters: { \"use_label_encoder\" } are not used.\n",
      "\n",
      "[12:08:08] WARNING: /Users/runner/work/xgboost/xgboost/src/learner.cc:738: \n",
      "Parameters: { \"use_label_encoder\" } are not used.\n",
      "\n",
      "[12:08:08] WARNING: /Users/runner/work/xgboost/xgboost/src/learner.cc:738: \n",
      "Parameters: { \"use_label_encoder\" } are not used.\n",
      "\n",
      "[12:08:09] WARNING: /Users/runner/work/xgboost/xgboost/src/learner.cc:738: \n",
      "Parameters: { \"use_label_encoder\" } are not used.\n",
      "\n",
      "[12:08:09] WARNING: /Users/runner/work/xgboost/xgboost/src/learner.cc:738: \n",
      "Parameters: { \"use_label_encoder\" } are not used.\n",
      "\n",
      "[12:08:09] WARNING: /Users/runner/work/xgboost/xgboost/src/learner.cc:738: \n",
      "Parameters: { \"use_label_encoder\" } are not used.\n",
      "\n",
      "[12:08:10] WARNING: /Users/runner/work/xgboost/xgboost/src/learner.cc:738: \n",
      "Parameters: { \"use_label_encoder\" } are not used.\n",
      "\n",
      "[12:08:10] WARNING: /Users/runner/work/xgboost/xgboost/src/learner.cc:738: \n",
      "Parameters: { \"use_label_encoder\" } are not used.\n",
      "\n",
      "[12:08:10] WARNING: /Users/runner/work/xgboost/xgboost/src/learner.cc:738: \n",
      "Parameters: { \"use_label_encoder\" } are not used.\n",
      "\n",
      "[12:08:10] WARNING: /Users/runner/work/xgboost/xgboost/src/learner.cc:738: \n",
      "Parameters: { \"use_label_encoder\" } are not used.\n",
      "\n",
      "[12:08:11] WARNING: /Users/runner/work/xgboost/xgboost/src/learner.cc:738: \n",
      "Parameters: { \"use_label_encoder\" } are not used.\n",
      "\n",
      "[12:08:11] WARNING: /Users/runner/work/xgboost/xgboost/src/learner.cc:738: \n",
      "Parameters: { \"use_label_encoder\" } are not used.\n",
      "\n",
      "[12:08:11] WARNING: /Users/runner/work/xgboost/xgboost/src/learner.cc:738: \n",
      "Parameters: { \"use_label_encoder\" } are not used.\n",
      "\n",
      "[12:08:11] WARNING: /Users/runner/work/xgboost/xgboost/src/learner.cc:738: \n",
      "Parameters: { \"use_label_encoder\" } are not used.\n",
      "\n",
      "[12:08:11] WARNING: /Users/runner/work/xgboost/xgboost/src/learner.cc:738: \n",
      "Parameters: { \"use_label_encoder\" } are not used.\n",
      "\n",
      "[12:08:12] WARNING: /Users/runner/work/xgboost/xgboost/src/learner.cc:738: \n",
      "Parameters: { \"use_label_encoder\" } are not used.\n",
      "\n",
      "[12:08:12] WARNING: /Users/runner/work/xgboost/xgboost/src/learner.cc:738: \n",
      "Parameters: { \"use_label_encoder\" } are not used.\n",
      "\n",
      "[12:08:12] WARNING: /Users/runner/work/xgboost/xgboost/src/learner.cc:738: \n",
      "Parameters: { \"use_label_encoder\" } are not used.\n",
      "\n",
      "[12:08:13] WARNING: /Users/runner/work/xgboost/xgboost/src/learner.cc:738: \n",
      "Parameters: { \"use_label_encoder\" } are not used.\n",
      "\n",
      "[12:08:14] WARNING: /Users/runner/work/xgboost/xgboost/src/learner.cc:738: \n",
      "Parameters: { \"use_label_encoder\" } are not used.\n",
      "\n",
      "[12:08:14] WARNING: /Users/runner/work/xgboost/xgboost/src/learner.cc:738: \n",
      "Parameters: { \"use_label_encoder\" } are not used.\n",
      "\n",
      "[12:08:14] WARNING: /Users/runner/work/xgboost/xgboost/src/learner.cc:738: \n",
      "Parameters: { \"use_label_encoder\" } are not used.\n",
      "\n",
      "[12:08:14] WARNING: /Users/runner/work/xgboost/xgboost/src/learner.cc:738: \n",
      "Parameters: { \"use_label_encoder\" } are not used.\n",
      "\n",
      "[12:08:15] WARNING: /Users/runner/work/xgboost/xgboost/src/learner.cc:738: \n",
      "Parameters: { \"use_label_encoder\" } are not used.\n",
      "\n",
      "[12:08:15] WARNING: /Users/runner/work/xgboost/xgboost/src/learner.cc:738: \n",
      "Parameters: { \"use_label_encoder\" } are not used.\n",
      "\n",
      "[12:08:15] WARNING: /Users/runner/work/xgboost/xgboost/src/learner.cc:738: \n",
      "Parameters: { \"use_label_encoder\" } are not used.\n",
      "\n",
      "[12:08:15] WARNING: /Users/runner/work/xgboost/xgboost/src/learner.cc:738: \n",
      "Parameters: { \"use_label_encoder\" } are not used.\n",
      "\n",
      "[12:08:15] WARNING: /Users/runner/work/xgboost/xgboost/src/learner.cc:738: \n",
      "Parameters: { \"use_label_encoder\" } are not used.\n",
      "\n",
      "[12:08:15] WARNING: /Users/runner/work/xgboost/xgboost/src/learner.cc:738: \n",
      "Parameters: { \"use_label_encoder\" } are not used.\n",
      "\n",
      "[12:08:15] WARNING: /Users/runner/work/xgboost/xgboost/src/learner.cc:738: \n",
      "Parameters: { \"use_label_encoder\" } are not used.\n",
      "\n",
      "[12:08:16] WARNING: /Users/runner/work/xgboost/xgboost/src/learner.cc:738: \n",
      "Parameters: { \"use_label_encoder\" } are not used.\n",
      "\n",
      "[12:08:16] WARNING: /Users/runner/work/xgboost/xgboost/src/learner.cc:738: \n",
      "Parameters: { \"use_label_encoder\" } are not used.\n",
      "\n",
      "[12:08:16] WARNING: /Users/runner/work/xgboost/xgboost/src/learner.cc:738: \n",
      "Parameters: { \"use_label_encoder\" } are not used.\n",
      "\n",
      "[12:08:16] WARNING: /Users/runner/work/xgboost/xgboost/src/learner.cc:738: \n",
      "Parameters: { \"use_label_encoder\" } are not used.\n",
      "\n",
      "[12:08:16] WARNING: /Users/runner/work/xgboost/xgboost/src/learner.cc:738: \n",
      "Parameters: { \"use_label_encoder\" } are not used.\n",
      "\n",
      "[12:08:16] WARNING: /Users/runner/work/xgboost/xgboost/src/learner.cc:738: \n",
      "Parameters: { \"use_label_encoder\" } are not used.\n",
      "\n",
      "[12:08:17] WARNING: /Users/runner/work/xgboost/xgboost/src/learner.cc:738: \n",
      "Parameters: { \"use_label_encoder\" } are not used.\n",
      "\n",
      "[12:08:17] WARNING: /Users/runner/work/xgboost/xgboost/src/learner.cc:738: \n",
      "Parameters: { \"use_label_encoder\" } are not used.\n",
      "\n",
      "[12:08:17] WARNING: /Users/runner/work/xgboost/xgboost/src/learner.cc:738: \n",
      "Parameters: { \"use_label_encoder\" } are not used.\n",
      "\n",
      "[12:08:17] WARNING: /Users/runner/work/xgboost/xgboost/src/learner.cc:738: \n",
      "Parameters: { \"use_label_encoder\" } are not used.\n",
      "\n",
      "[12:08:18] WARNING: /Users/runner/work/xgboost/xgboost/src/learner.cc:738: \n",
      "Parameters: { \"use_label_encoder\" } are not used.\n",
      "\n",
      "[12:08:18] WARNING: /Users/runner/work/xgboost/xgboost/src/learner.cc:738: \n",
      "Parameters: { \"use_label_encoder\" } are not used.\n",
      "\n",
      "[12:08:19] WARNING: /Users/runner/work/xgboost/xgboost/src/learner.cc:738: \n",
      "Parameters: { \"use_label_encoder\" } are not used.\n",
      "\n",
      "[12:08:19] WARNING: /Users/runner/work/xgboost/xgboost/src/learner.cc:738: \n",
      "Parameters: { \"use_label_encoder\" } are not used.\n",
      "\n",
      "[12:08:20] WARNING: /Users/runner/work/xgboost/xgboost/src/learner.cc:738: \n",
      "Parameters: { \"use_label_encoder\" } are not used.\n",
      "\n",
      "[12:08:20] WARNING: /Users/runner/work/xgboost/xgboost/src/learner.cc:738: \n",
      "Parameters: { \"use_label_encoder\" } are not used.\n",
      "\n",
      "[12:08:20] WARNING: /Users/runner/work/xgboost/xgboost/src/learner.cc:738: \n",
      "Parameters: { \"use_label_encoder\" } are not used.\n",
      "\n",
      "[12:08:20] WARNING: /Users/runner/work/xgboost/xgboost/src/learner.cc:738: \n",
      "Parameters: { \"use_label_encoder\" } are not used.\n",
      "\n",
      "[12:08:20] WARNING: /Users/runner/work/xgboost/xgboost/src/learner.cc:738: \n",
      "Parameters: { \"use_label_encoder\" } are not used.\n",
      "\n",
      "[12:08:20] WARNING: /Users/runner/work/xgboost/xgboost/src/learner.cc:738: \n",
      "Parameters: { \"use_label_encoder\" } are not used.\n",
      "\n",
      "[12:08:20] WARNING: /Users/runner/work/xgboost/xgboost/src/learner.cc:738: \n",
      "Parameters: { \"use_label_encoder\" } are not used.\n",
      "\n",
      "[12:08:20] WARNING: /Users/runner/work/xgboost/xgboost/src/learner.cc:738: \n",
      "Parameters: { \"use_label_encoder\" } are not used.\n",
      "\n",
      "[12:08:20] WARNING: /Users/runner/work/xgboost/xgboost/src/learner.cc:738: \n",
      "Parameters: { \"use_label_encoder\" } are not used.\n",
      "\n",
      "[12:08:21] WARNING: /Users/runner/work/xgboost/xgboost/src/learner.cc:738: \n",
      "Parameters: { \"use_label_encoder\" } are not used.\n",
      "\n",
      "[12:08:21] WARNING: /Users/runner/work/xgboost/xgboost/src/learner.cc:738: \n",
      "Parameters: { \"use_label_encoder\" } are not used.\n",
      "\n",
      "[12:08:21] WARNING: /Users/runner/work/xgboost/xgboost/src/learner.cc:738: \n",
      "Parameters: { \"use_label_encoder\" } are not used.\n",
      "\n",
      "[12:08:21] WARNING: /Users/runner/work/xgboost/xgboost/src/learner.cc:738: \n",
      "Parameters: { \"use_label_encoder\" } are not used.\n",
      "\n",
      "[12:08:22] WARNING: /Users/runner/work/xgboost/xgboost/src/learner.cc:738: \n",
      "Parameters: { \"use_label_encoder\" } are not used.\n",
      "\n",
      "[12:08:22] WARNING: /Users/runner/work/xgboost/xgboost/src/learner.cc:738: \n",
      "Parameters: { \"use_label_encoder\" } are not used.\n",
      "\n",
      "[12:08:22] WARNING: /Users/runner/work/xgboost/xgboost/src/learner.cc:738: \n",
      "Parameters: { \"use_label_encoder\" } are not used.\n",
      "\n",
      "[12:08:22] WARNING: /Users/runner/work/xgboost/xgboost/src/learner.cc:738: \n",
      "Parameters: { \"use_label_encoder\" } are not used.\n",
      "\n",
      "[12:08:23] WARNING: /Users/runner/work/xgboost/xgboost/src/learner.cc:738: \n",
      "Parameters: { \"use_label_encoder\" } are not used.\n",
      "\n",
      "[12:08:23] WARNING: /Users/runner/work/xgboost/xgboost/src/learner.cc:738: \n",
      "Parameters: { \"use_label_encoder\" } are not used.\n",
      "\n",
      "[12:08:23] WARNING: /Users/runner/work/xgboost/xgboost/src/learner.cc:738: \n",
      "Parameters: { \"use_label_encoder\" } are not used.\n",
      "\n",
      "[12:08:24] WARNING: /Users/runner/work/xgboost/xgboost/src/learner.cc:738: \n",
      "Parameters: { \"use_label_encoder\" } are not used.\n",
      "\n",
      "[12:08:24] WARNING: /Users/runner/work/xgboost/xgboost/src/learner.cc:738: \n",
      "Parameters: { \"use_label_encoder\" } are not used.\n",
      "\n",
      "[12:08:25] WARNING: /Users/runner/work/xgboost/xgboost/src/learner.cc:738: \n",
      "Parameters: { \"use_label_encoder\" } are not used.\n",
      "\n",
      "[12:08:25] WARNING: /Users/runner/work/xgboost/xgboost/src/learner.cc:738: \n",
      "Parameters: { \"use_label_encoder\" } are not used.\n",
      "\n",
      "[12:08:26] WARNING: /Users/runner/work/xgboost/xgboost/src/learner.cc:738: \n",
      "Parameters: { \"use_label_encoder\" } are not used.\n",
      "\n"
     ]
    },
    {
     "name": "stdout",
     "output_type": "stream",
     "text": [
      "Best Parameters: {'colsample_bytree': 1.0, 'learning_rate': 0.01, 'max_depth': 6, 'n_estimators': 300, 'subsample': 0.8}\n"
     ]
    }
   ],
   "source": [
    "grid = GridSearchCV(xgb_2, param_grid=params, scoring='f1', cv=3, verbose=1, n_jobs=1)\n",
    "grid.fit(X_train_vec, y_train)\n",
    "print(\"Best Parameters:\", grid.best_params_)"
   ]
  },
  {
   "cell_type": "code",
   "execution_count": 174,
   "id": "2a8a1f29",
   "metadata": {},
   "outputs": [
    {
     "name": "stdout",
     "output_type": "stream",
     "text": [
      "[0]\tvalidation_0-logloss:0.69039\tvalidation_1-logloss:0.69088\n",
      "[1]\tvalidation_0-logloss:0.68981\tvalidation_1-logloss:0.69062\n",
      "[2]\tvalidation_0-logloss:0.68921\tvalidation_1-logloss:0.69016\n",
      "[3]\tvalidation_0-logloss:0.68874\tvalidation_1-logloss:0.68993\n",
      "[4]\tvalidation_0-logloss:0.68814\tvalidation_1-logloss:0.68958\n",
      "[5]\tvalidation_0-logloss:0.68765\tvalidation_1-logloss:0.68940\n"
     ]
    },
    {
     "name": "stderr",
     "output_type": "stream",
     "text": [
      "[12:14:57] WARNING: /Users/runner/work/xgboost/xgboost/src/learner.cc:738: \n",
      "Parameters: { \"use_label_encoder\" } are not used.\n",
      "\n"
     ]
    },
    {
     "name": "stdout",
     "output_type": "stream",
     "text": [
      "[6]\tvalidation_0-logloss:0.68703\tvalidation_1-logloss:0.68900\n",
      "[7]\tvalidation_0-logloss:0.68650\tvalidation_1-logloss:0.68885\n",
      "[8]\tvalidation_0-logloss:0.68597\tvalidation_1-logloss:0.68848\n",
      "[9]\tvalidation_0-logloss:0.68538\tvalidation_1-logloss:0.68815\n",
      "[10]\tvalidation_0-logloss:0.68490\tvalidation_1-logloss:0.68798\n",
      "[11]\tvalidation_0-logloss:0.68442\tvalidation_1-logloss:0.68776\n",
      "[12]\tvalidation_0-logloss:0.68396\tvalidation_1-logloss:0.68760\n",
      "[13]\tvalidation_0-logloss:0.68338\tvalidation_1-logloss:0.68714\n",
      "[14]\tvalidation_0-logloss:0.68295\tvalidation_1-logloss:0.68697\n",
      "[15]\tvalidation_0-logloss:0.68242\tvalidation_1-logloss:0.68677\n",
      "[16]\tvalidation_0-logloss:0.68189\tvalidation_1-logloss:0.68652\n",
      "[17]\tvalidation_0-logloss:0.68141\tvalidation_1-logloss:0.68617\n",
      "[18]\tvalidation_0-logloss:0.68084\tvalidation_1-logloss:0.68559\n",
      "[19]\tvalidation_0-logloss:0.68029\tvalidation_1-logloss:0.68536\n",
      "[20]\tvalidation_0-logloss:0.67980\tvalidation_1-logloss:0.68516\n",
      "[21]\tvalidation_0-logloss:0.67940\tvalidation_1-logloss:0.68488\n",
      "[22]\tvalidation_0-logloss:0.67893\tvalidation_1-logloss:0.68444\n",
      "[23]\tvalidation_0-logloss:0.67854\tvalidation_1-logloss:0.68436\n",
      "[24]\tvalidation_0-logloss:0.67809\tvalidation_1-logloss:0.68406\n",
      "[25]\tvalidation_0-logloss:0.67768\tvalidation_1-logloss:0.68372\n",
      "[26]\tvalidation_0-logloss:0.67726\tvalidation_1-logloss:0.68346\n",
      "[27]\tvalidation_0-logloss:0.67693\tvalidation_1-logloss:0.68323\n",
      "[28]\tvalidation_0-logloss:0.67643\tvalidation_1-logloss:0.68297\n",
      "[29]\tvalidation_0-logloss:0.67606\tvalidation_1-logloss:0.68287\n",
      "[30]\tvalidation_0-logloss:0.67569\tvalidation_1-logloss:0.68269\n",
      "[31]\tvalidation_0-logloss:0.67530\tvalidation_1-logloss:0.68254\n",
      "[32]\tvalidation_0-logloss:0.67487\tvalidation_1-logloss:0.68226\n",
      "[33]\tvalidation_0-logloss:0.67440\tvalidation_1-logloss:0.68184\n",
      "[34]\tvalidation_0-logloss:0.67396\tvalidation_1-logloss:0.68158\n",
      "[35]\tvalidation_0-logloss:0.67355\tvalidation_1-logloss:0.68143\n",
      "[36]\tvalidation_0-logloss:0.67315\tvalidation_1-logloss:0.68117\n",
      "[37]\tvalidation_0-logloss:0.67281\tvalidation_1-logloss:0.68114\n",
      "[38]\tvalidation_0-logloss:0.67250\tvalidation_1-logloss:0.68106\n",
      "[39]\tvalidation_0-logloss:0.67202\tvalidation_1-logloss:0.68068\n",
      "[40]\tvalidation_0-logloss:0.67171\tvalidation_1-logloss:0.68046\n",
      "[41]\tvalidation_0-logloss:0.67133\tvalidation_1-logloss:0.68016\n",
      "[42]\tvalidation_0-logloss:0.67094\tvalidation_1-logloss:0.67984\n",
      "[43]\tvalidation_0-logloss:0.67067\tvalidation_1-logloss:0.67967\n",
      "[44]\tvalidation_0-logloss:0.67023\tvalidation_1-logloss:0.67937\n",
      "[45]\tvalidation_0-logloss:0.66983\tvalidation_1-logloss:0.67906\n",
      "[46]\tvalidation_0-logloss:0.66949\tvalidation_1-logloss:0.67888\n",
      "[47]\tvalidation_0-logloss:0.66901\tvalidation_1-logloss:0.67864\n",
      "[48]\tvalidation_0-logloss:0.66868\tvalidation_1-logloss:0.67850\n",
      "[49]\tvalidation_0-logloss:0.66831\tvalidation_1-logloss:0.67835\n",
      "[50]\tvalidation_0-logloss:0.66802\tvalidation_1-logloss:0.67825\n",
      "[51]\tvalidation_0-logloss:0.66757\tvalidation_1-logloss:0.67790\n",
      "[52]\tvalidation_0-logloss:0.66722\tvalidation_1-logloss:0.67783\n",
      "[53]\tvalidation_0-logloss:0.66682\tvalidation_1-logloss:0.67768\n",
      "[54]\tvalidation_0-logloss:0.66628\tvalidation_1-logloss:0.67727\n",
      "[55]\tvalidation_0-logloss:0.66587\tvalidation_1-logloss:0.67711\n",
      "[56]\tvalidation_0-logloss:0.66557\tvalidation_1-logloss:0.67686\n",
      "[57]\tvalidation_0-logloss:0.66529\tvalidation_1-logloss:0.67685\n",
      "[58]\tvalidation_0-logloss:0.66500\tvalidation_1-logloss:0.67687\n",
      "[59]\tvalidation_0-logloss:0.66458\tvalidation_1-logloss:0.67658\n",
      "[60]\tvalidation_0-logloss:0.66428\tvalidation_1-logloss:0.67647\n",
      "[61]\tvalidation_0-logloss:0.66390\tvalidation_1-logloss:0.67636\n",
      "[62]\tvalidation_0-logloss:0.66357\tvalidation_1-logloss:0.67617\n",
      "[63]\tvalidation_0-logloss:0.66333\tvalidation_1-logloss:0.67614\n",
      "[64]\tvalidation_0-logloss:0.66307\tvalidation_1-logloss:0.67602\n",
      "[65]\tvalidation_0-logloss:0.66275\tvalidation_1-logloss:0.67578\n",
      "[66]\tvalidation_0-logloss:0.66246\tvalidation_1-logloss:0.67558\n",
      "[67]\tvalidation_0-logloss:0.66214\tvalidation_1-logloss:0.67554\n",
      "[68]\tvalidation_0-logloss:0.66184\tvalidation_1-logloss:0.67542\n",
      "[69]\tvalidation_0-logloss:0.66158\tvalidation_1-logloss:0.67539\n",
      "[70]\tvalidation_0-logloss:0.66123\tvalidation_1-logloss:0.67533\n",
      "[71]\tvalidation_0-logloss:0.66100\tvalidation_1-logloss:0.67520\n",
      "[72]\tvalidation_0-logloss:0.66077\tvalidation_1-logloss:0.67517\n",
      "[73]\tvalidation_0-logloss:0.66038\tvalidation_1-logloss:0.67484\n",
      "[74]\tvalidation_0-logloss:0.66003\tvalidation_1-logloss:0.67465\n",
      "[75]\tvalidation_0-logloss:0.65981\tvalidation_1-logloss:0.67448\n",
      "[76]\tvalidation_0-logloss:0.65949\tvalidation_1-logloss:0.67433\n",
      "[77]\tvalidation_0-logloss:0.65925\tvalidation_1-logloss:0.67424\n",
      "[78]\tvalidation_0-logloss:0.65889\tvalidation_1-logloss:0.67410\n",
      "[79]\tvalidation_0-logloss:0.65853\tvalidation_1-logloss:0.67386\n",
      "[80]\tvalidation_0-logloss:0.65830\tvalidation_1-logloss:0.67374\n",
      "[81]\tvalidation_0-logloss:0.65804\tvalidation_1-logloss:0.67372\n",
      "[82]\tvalidation_0-logloss:0.65765\tvalidation_1-logloss:0.67353\n",
      "[83]\tvalidation_0-logloss:0.65733\tvalidation_1-logloss:0.67338\n",
      "[84]\tvalidation_0-logloss:0.65700\tvalidation_1-logloss:0.67305\n",
      "[85]\tvalidation_0-logloss:0.65676\tvalidation_1-logloss:0.67291\n",
      "[86]\tvalidation_0-logloss:0.65644\tvalidation_1-logloss:0.67274\n",
      "[87]\tvalidation_0-logloss:0.65619\tvalidation_1-logloss:0.67260\n",
      "[88]\tvalidation_0-logloss:0.65593\tvalidation_1-logloss:0.67246\n",
      "[89]\tvalidation_0-logloss:0.65570\tvalidation_1-logloss:0.67233\n",
      "[90]\tvalidation_0-logloss:0.65529\tvalidation_1-logloss:0.67221\n",
      "[91]\tvalidation_0-logloss:0.65497\tvalidation_1-logloss:0.67201\n",
      "[92]\tvalidation_0-logloss:0.65463\tvalidation_1-logloss:0.67197\n",
      "[93]\tvalidation_0-logloss:0.65430\tvalidation_1-logloss:0.67188\n",
      "[94]\tvalidation_0-logloss:0.65412\tvalidation_1-logloss:0.67183\n",
      "[95]\tvalidation_0-logloss:0.65388\tvalidation_1-logloss:0.67170\n",
      "[96]\tvalidation_0-logloss:0.65364\tvalidation_1-logloss:0.67160\n",
      "[97]\tvalidation_0-logloss:0.65342\tvalidation_1-logloss:0.67170\n",
      "[98]\tvalidation_0-logloss:0.65320\tvalidation_1-logloss:0.67158\n",
      "[99]\tvalidation_0-logloss:0.65289\tvalidation_1-logloss:0.67154\n",
      "[100]\tvalidation_0-logloss:0.65259\tvalidation_1-logloss:0.67139\n",
      "[101]\tvalidation_0-logloss:0.65233\tvalidation_1-logloss:0.67127\n",
      "[102]\tvalidation_0-logloss:0.65210\tvalidation_1-logloss:0.67110\n",
      "[103]\tvalidation_0-logloss:0.65192\tvalidation_1-logloss:0.67097\n",
      "[104]\tvalidation_0-logloss:0.65161\tvalidation_1-logloss:0.67084\n",
      "[105]\tvalidation_0-logloss:0.65141\tvalidation_1-logloss:0.67081\n",
      "[106]\tvalidation_0-logloss:0.65120\tvalidation_1-logloss:0.67066\n",
      "[107]\tvalidation_0-logloss:0.65094\tvalidation_1-logloss:0.67055\n",
      "[108]\tvalidation_0-logloss:0.65067\tvalidation_1-logloss:0.67062\n",
      "[109]\tvalidation_0-logloss:0.65049\tvalidation_1-logloss:0.67063\n",
      "[110]\tvalidation_0-logloss:0.65023\tvalidation_1-logloss:0.67049\n",
      "[111]\tvalidation_0-logloss:0.64992\tvalidation_1-logloss:0.67032\n",
      "[112]\tvalidation_0-logloss:0.64950\tvalidation_1-logloss:0.67005\n",
      "[113]\tvalidation_0-logloss:0.64933\tvalidation_1-logloss:0.66998\n",
      "[114]\tvalidation_0-logloss:0.64904\tvalidation_1-logloss:0.66988\n",
      "[115]\tvalidation_0-logloss:0.64880\tvalidation_1-logloss:0.66976\n",
      "[116]\tvalidation_0-logloss:0.64846\tvalidation_1-logloss:0.66964\n",
      "[117]\tvalidation_0-logloss:0.64829\tvalidation_1-logloss:0.66957\n",
      "[118]\tvalidation_0-logloss:0.64801\tvalidation_1-logloss:0.66945\n",
      "[119]\tvalidation_0-logloss:0.64769\tvalidation_1-logloss:0.66927\n",
      "[120]\tvalidation_0-logloss:0.64751\tvalidation_1-logloss:0.66921\n",
      "[121]\tvalidation_0-logloss:0.64727\tvalidation_1-logloss:0.66914\n",
      "[122]\tvalidation_0-logloss:0.64704\tvalidation_1-logloss:0.66908\n",
      "[123]\tvalidation_0-logloss:0.64676\tvalidation_1-logloss:0.66899\n",
      "[124]\tvalidation_0-logloss:0.64653\tvalidation_1-logloss:0.66898\n",
      "[125]\tvalidation_0-logloss:0.64630\tvalidation_1-logloss:0.66888\n",
      "[126]\tvalidation_0-logloss:0.64605\tvalidation_1-logloss:0.66865\n",
      "[127]\tvalidation_0-logloss:0.64581\tvalidation_1-logloss:0.66859\n",
      "[128]\tvalidation_0-logloss:0.64556\tvalidation_1-logloss:0.66833\n",
      "[129]\tvalidation_0-logloss:0.64530\tvalidation_1-logloss:0.66810\n",
      "[130]\tvalidation_0-logloss:0.64516\tvalidation_1-logloss:0.66796\n",
      "[131]\tvalidation_0-logloss:0.64499\tvalidation_1-logloss:0.66800\n",
      "[132]\tvalidation_0-logloss:0.64477\tvalidation_1-logloss:0.66810\n",
      "[133]\tvalidation_0-logloss:0.64447\tvalidation_1-logloss:0.66799\n",
      "[134]\tvalidation_0-logloss:0.64434\tvalidation_1-logloss:0.66810\n",
      "[135]\tvalidation_0-logloss:0.64399\tvalidation_1-logloss:0.66783\n",
      "[136]\tvalidation_0-logloss:0.64380\tvalidation_1-logloss:0.66781\n",
      "[137]\tvalidation_0-logloss:0.64361\tvalidation_1-logloss:0.66783\n",
      "[138]\tvalidation_0-logloss:0.64346\tvalidation_1-logloss:0.66795\n",
      "[139]\tvalidation_0-logloss:0.64318\tvalidation_1-logloss:0.66777\n",
      "[140]\tvalidation_0-logloss:0.64298\tvalidation_1-logloss:0.66767\n",
      "[141]\tvalidation_0-logloss:0.64277\tvalidation_1-logloss:0.66778\n",
      "[142]\tvalidation_0-logloss:0.64239\tvalidation_1-logloss:0.66759\n",
      "[143]\tvalidation_0-logloss:0.64218\tvalidation_1-logloss:0.66755\n",
      "[144]\tvalidation_0-logloss:0.64191\tvalidation_1-logloss:0.66747\n",
      "[145]\tvalidation_0-logloss:0.64171\tvalidation_1-logloss:0.66749\n",
      "[146]\tvalidation_0-logloss:0.64143\tvalidation_1-logloss:0.66727\n",
      "[147]\tvalidation_0-logloss:0.64121\tvalidation_1-logloss:0.66698\n",
      "[148]\tvalidation_0-logloss:0.64099\tvalidation_1-logloss:0.66691\n",
      "[149]\tvalidation_0-logloss:0.64086\tvalidation_1-logloss:0.66694\n",
      "[150]\tvalidation_0-logloss:0.64056\tvalidation_1-logloss:0.66693\n",
      "[151]\tvalidation_0-logloss:0.64031\tvalidation_1-logloss:0.66681\n",
      "[152]\tvalidation_0-logloss:0.64009\tvalidation_1-logloss:0.66674\n",
      "[153]\tvalidation_0-logloss:0.63990\tvalidation_1-logloss:0.66665\n",
      "[154]\tvalidation_0-logloss:0.63970\tvalidation_1-logloss:0.66655\n",
      "[155]\tvalidation_0-logloss:0.63954\tvalidation_1-logloss:0.66651\n",
      "[156]\tvalidation_0-logloss:0.63925\tvalidation_1-logloss:0.66638\n",
      "[157]\tvalidation_0-logloss:0.63906\tvalidation_1-logloss:0.66636\n",
      "[158]\tvalidation_0-logloss:0.63881\tvalidation_1-logloss:0.66628\n",
      "[159]\tvalidation_0-logloss:0.63867\tvalidation_1-logloss:0.66624\n",
      "[160]\tvalidation_0-logloss:0.63848\tvalidation_1-logloss:0.66616\n",
      "[161]\tvalidation_0-logloss:0.63818\tvalidation_1-logloss:0.66606\n",
      "[162]\tvalidation_0-logloss:0.63805\tvalidation_1-logloss:0.66603\n",
      "[163]\tvalidation_0-logloss:0.63768\tvalidation_1-logloss:0.66586\n",
      "[164]\tvalidation_0-logloss:0.63735\tvalidation_1-logloss:0.66567\n",
      "[165]\tvalidation_0-logloss:0.63720\tvalidation_1-logloss:0.66566\n",
      "[166]\tvalidation_0-logloss:0.63698\tvalidation_1-logloss:0.66570\n",
      "[167]\tvalidation_0-logloss:0.63668\tvalidation_1-logloss:0.66541\n",
      "[168]\tvalidation_0-logloss:0.63638\tvalidation_1-logloss:0.66516\n",
      "[169]\tvalidation_0-logloss:0.63610\tvalidation_1-logloss:0.66491\n",
      "[170]\tvalidation_0-logloss:0.63584\tvalidation_1-logloss:0.66475\n",
      "[171]\tvalidation_0-logloss:0.63565\tvalidation_1-logloss:0.66461\n",
      "[172]\tvalidation_0-logloss:0.63522\tvalidation_1-logloss:0.66432\n",
      "[173]\tvalidation_0-logloss:0.63505\tvalidation_1-logloss:0.66420\n",
      "[174]\tvalidation_0-logloss:0.63490\tvalidation_1-logloss:0.66409\n",
      "[175]\tvalidation_0-logloss:0.63464\tvalidation_1-logloss:0.66385\n",
      "[176]\tvalidation_0-logloss:0.63439\tvalidation_1-logloss:0.66369\n",
      "[177]\tvalidation_0-logloss:0.63418\tvalidation_1-logloss:0.66366\n",
      "[178]\tvalidation_0-logloss:0.63400\tvalidation_1-logloss:0.66367\n",
      "[179]\tvalidation_0-logloss:0.63388\tvalidation_1-logloss:0.66364\n",
      "[180]\tvalidation_0-logloss:0.63368\tvalidation_1-logloss:0.66362\n",
      "[181]\tvalidation_0-logloss:0.63345\tvalidation_1-logloss:0.66360\n",
      "[182]\tvalidation_0-logloss:0.63328\tvalidation_1-logloss:0.66356\n",
      "[183]\tvalidation_0-logloss:0.63308\tvalidation_1-logloss:0.66353\n",
      "[184]\tvalidation_0-logloss:0.63284\tvalidation_1-logloss:0.66331\n",
      "[185]\tvalidation_0-logloss:0.63264\tvalidation_1-logloss:0.66329\n",
      "[186]\tvalidation_0-logloss:0.63227\tvalidation_1-logloss:0.66299\n",
      "[187]\tvalidation_0-logloss:0.63202\tvalidation_1-logloss:0.66282\n",
      "[188]\tvalidation_0-logloss:0.63187\tvalidation_1-logloss:0.66269\n",
      "[189]\tvalidation_0-logloss:0.63171\tvalidation_1-logloss:0.66272\n",
      "[190]\tvalidation_0-logloss:0.63157\tvalidation_1-logloss:0.66266\n",
      "[191]\tvalidation_0-logloss:0.63144\tvalidation_1-logloss:0.66263\n",
      "[192]\tvalidation_0-logloss:0.63126\tvalidation_1-logloss:0.66261\n",
      "[193]\tvalidation_0-logloss:0.63107\tvalidation_1-logloss:0.66247\n",
      "[194]\tvalidation_0-logloss:0.63092\tvalidation_1-logloss:0.66236\n",
      "[195]\tvalidation_0-logloss:0.63077\tvalidation_1-logloss:0.66245\n",
      "[196]\tvalidation_0-logloss:0.63061\tvalidation_1-logloss:0.66223\n",
      "[197]\tvalidation_0-logloss:0.63025\tvalidation_1-logloss:0.66210\n",
      "[198]\tvalidation_0-logloss:0.63005\tvalidation_1-logloss:0.66198\n",
      "[199]\tvalidation_0-logloss:0.62987\tvalidation_1-logloss:0.66181\n",
      "[200]\tvalidation_0-logloss:0.62967\tvalidation_1-logloss:0.66174\n",
      "[201]\tvalidation_0-logloss:0.62947\tvalidation_1-logloss:0.66162\n",
      "[202]\tvalidation_0-logloss:0.62930\tvalidation_1-logloss:0.66164\n",
      "[203]\tvalidation_0-logloss:0.62888\tvalidation_1-logloss:0.66144\n",
      "[204]\tvalidation_0-logloss:0.62874\tvalidation_1-logloss:0.66144\n",
      "[205]\tvalidation_0-logloss:0.62848\tvalidation_1-logloss:0.66132\n",
      "[206]\tvalidation_0-logloss:0.62818\tvalidation_1-logloss:0.66137\n",
      "[207]\tvalidation_0-logloss:0.62796\tvalidation_1-logloss:0.66119\n",
      "[208]\tvalidation_0-logloss:0.62782\tvalidation_1-logloss:0.66118\n",
      "[209]\tvalidation_0-logloss:0.62769\tvalidation_1-logloss:0.66107\n",
      "[210]\tvalidation_0-logloss:0.62752\tvalidation_1-logloss:0.66104\n",
      "[211]\tvalidation_0-logloss:0.62738\tvalidation_1-logloss:0.66105\n",
      "[212]\tvalidation_0-logloss:0.62720\tvalidation_1-logloss:0.66102\n",
      "[213]\tvalidation_0-logloss:0.62704\tvalidation_1-logloss:0.66087\n",
      "[214]\tvalidation_0-logloss:0.62676\tvalidation_1-logloss:0.66069\n",
      "[215]\tvalidation_0-logloss:0.62661\tvalidation_1-logloss:0.66063\n",
      "[216]\tvalidation_0-logloss:0.62650\tvalidation_1-logloss:0.66070\n",
      "[217]\tvalidation_0-logloss:0.62632\tvalidation_1-logloss:0.66070\n",
      "[218]\tvalidation_0-logloss:0.62610\tvalidation_1-logloss:0.66063\n",
      "[219]\tvalidation_0-logloss:0.62585\tvalidation_1-logloss:0.66046\n",
      "[220]\tvalidation_0-logloss:0.62557\tvalidation_1-logloss:0.66034\n",
      "[221]\tvalidation_0-logloss:0.62544\tvalidation_1-logloss:0.66044\n",
      "[222]\tvalidation_0-logloss:0.62525\tvalidation_1-logloss:0.66042\n",
      "[223]\tvalidation_0-logloss:0.62506\tvalidation_1-logloss:0.66022\n",
      "[224]\tvalidation_0-logloss:0.62489\tvalidation_1-logloss:0.66010\n",
      "[225]\tvalidation_0-logloss:0.62472\tvalidation_1-logloss:0.65998\n",
      "[226]\tvalidation_0-logloss:0.62453\tvalidation_1-logloss:0.65984\n",
      "[227]\tvalidation_0-logloss:0.62439\tvalidation_1-logloss:0.65971\n",
      "[228]\tvalidation_0-logloss:0.62428\tvalidation_1-logloss:0.65970\n",
      "[229]\tvalidation_0-logloss:0.62408\tvalidation_1-logloss:0.65959\n",
      "[230]\tvalidation_0-logloss:0.62392\tvalidation_1-logloss:0.65960\n",
      "[231]\tvalidation_0-logloss:0.62371\tvalidation_1-logloss:0.65950\n",
      "[232]\tvalidation_0-logloss:0.62353\tvalidation_1-logloss:0.65959\n",
      "[233]\tvalidation_0-logloss:0.62341\tvalidation_1-logloss:0.65953\n",
      "[234]\tvalidation_0-logloss:0.62323\tvalidation_1-logloss:0.65935\n",
      "[235]\tvalidation_0-logloss:0.62306\tvalidation_1-logloss:0.65929\n",
      "[236]\tvalidation_0-logloss:0.62291\tvalidation_1-logloss:0.65919\n",
      "[237]\tvalidation_0-logloss:0.62272\tvalidation_1-logloss:0.65907\n",
      "[238]\tvalidation_0-logloss:0.62256\tvalidation_1-logloss:0.65903\n",
      "[239]\tvalidation_0-logloss:0.62233\tvalidation_1-logloss:0.65897\n",
      "[240]\tvalidation_0-logloss:0.62221\tvalidation_1-logloss:0.65889\n",
      "[241]\tvalidation_0-logloss:0.62210\tvalidation_1-logloss:0.65884\n",
      "[242]\tvalidation_0-logloss:0.62191\tvalidation_1-logloss:0.65880\n",
      "[243]\tvalidation_0-logloss:0.62172\tvalidation_1-logloss:0.65859\n",
      "[244]\tvalidation_0-logloss:0.62159\tvalidation_1-logloss:0.65856\n",
      "[245]\tvalidation_0-logloss:0.62149\tvalidation_1-logloss:0.65853\n",
      "[246]\tvalidation_0-logloss:0.62137\tvalidation_1-logloss:0.65851\n",
      "[247]\tvalidation_0-logloss:0.62123\tvalidation_1-logloss:0.65862\n",
      "[248]\tvalidation_0-logloss:0.62111\tvalidation_1-logloss:0.65855\n",
      "[249]\tvalidation_0-logloss:0.62095\tvalidation_1-logloss:0.65851\n",
      "[250]\tvalidation_0-logloss:0.62080\tvalidation_1-logloss:0.65866\n",
      "[251]\tvalidation_0-logloss:0.62064\tvalidation_1-logloss:0.65845\n",
      "[252]\tvalidation_0-logloss:0.62052\tvalidation_1-logloss:0.65836\n",
      "[253]\tvalidation_0-logloss:0.62034\tvalidation_1-logloss:0.65835\n",
      "[254]\tvalidation_0-logloss:0.62017\tvalidation_1-logloss:0.65837\n",
      "[255]\tvalidation_0-logloss:0.62006\tvalidation_1-logloss:0.65836\n",
      "[256]\tvalidation_0-logloss:0.61988\tvalidation_1-logloss:0.65818\n",
      "[257]\tvalidation_0-logloss:0.61974\tvalidation_1-logloss:0.65808\n",
      "[258]\tvalidation_0-logloss:0.61962\tvalidation_1-logloss:0.65819\n",
      "[259]\tvalidation_0-logloss:0.61952\tvalidation_1-logloss:0.65828\n",
      "[260]\tvalidation_0-logloss:0.61940\tvalidation_1-logloss:0.65825\n",
      "[261]\tvalidation_0-logloss:0.61926\tvalidation_1-logloss:0.65809\n",
      "[262]\tvalidation_0-logloss:0.61908\tvalidation_1-logloss:0.65807\n",
      "[263]\tvalidation_0-logloss:0.61893\tvalidation_1-logloss:0.65799\n",
      "[264]\tvalidation_0-logloss:0.61880\tvalidation_1-logloss:0.65794\n",
      "[265]\tvalidation_0-logloss:0.61869\tvalidation_1-logloss:0.65795\n",
      "[266]\tvalidation_0-logloss:0.61854\tvalidation_1-logloss:0.65791\n",
      "[267]\tvalidation_0-logloss:0.61840\tvalidation_1-logloss:0.65780\n",
      "[268]\tvalidation_0-logloss:0.61829\tvalidation_1-logloss:0.65789\n",
      "[269]\tvalidation_0-logloss:0.61816\tvalidation_1-logloss:0.65793\n",
      "[270]\tvalidation_0-logloss:0.61799\tvalidation_1-logloss:0.65785\n",
      "[271]\tvalidation_0-logloss:0.61786\tvalidation_1-logloss:0.65779\n",
      "[272]\tvalidation_0-logloss:0.61770\tvalidation_1-logloss:0.65784\n",
      "[273]\tvalidation_0-logloss:0.61759\tvalidation_1-logloss:0.65785\n",
      "[274]\tvalidation_0-logloss:0.61739\tvalidation_1-logloss:0.65778\n",
      "[275]\tvalidation_0-logloss:0.61714\tvalidation_1-logloss:0.65770\n",
      "[276]\tvalidation_0-logloss:0.61700\tvalidation_1-logloss:0.65764\n",
      "[277]\tvalidation_0-logloss:0.61677\tvalidation_1-logloss:0.65757\n",
      "[278]\tvalidation_0-logloss:0.61663\tvalidation_1-logloss:0.65760\n",
      "[279]\tvalidation_0-logloss:0.61650\tvalidation_1-logloss:0.65752\n",
      "[280]\tvalidation_0-logloss:0.61639\tvalidation_1-logloss:0.65739\n",
      "[281]\tvalidation_0-logloss:0.61629\tvalidation_1-logloss:0.65733\n",
      "[282]\tvalidation_0-logloss:0.61613\tvalidation_1-logloss:0.65738\n",
      "[283]\tvalidation_0-logloss:0.61599\tvalidation_1-logloss:0.65737\n",
      "[284]\tvalidation_0-logloss:0.61588\tvalidation_1-logloss:0.65734\n",
      "[285]\tvalidation_0-logloss:0.61572\tvalidation_1-logloss:0.65723\n",
      "[286]\tvalidation_0-logloss:0.61556\tvalidation_1-logloss:0.65712\n",
      "[287]\tvalidation_0-logloss:0.61544\tvalidation_1-logloss:0.65712\n",
      "[288]\tvalidation_0-logloss:0.61530\tvalidation_1-logloss:0.65703\n",
      "[289]\tvalidation_0-logloss:0.61520\tvalidation_1-logloss:0.65693\n",
      "[290]\tvalidation_0-logloss:0.61509\tvalidation_1-logloss:0.65690\n",
      "[291]\tvalidation_0-logloss:0.61494\tvalidation_1-logloss:0.65688\n",
      "[292]\tvalidation_0-logloss:0.61475\tvalidation_1-logloss:0.65689\n",
      "[293]\tvalidation_0-logloss:0.61462\tvalidation_1-logloss:0.65680\n",
      "[294]\tvalidation_0-logloss:0.61442\tvalidation_1-logloss:0.65668\n",
      "[295]\tvalidation_0-logloss:0.61427\tvalidation_1-logloss:0.65663\n",
      "[296]\tvalidation_0-logloss:0.61415\tvalidation_1-logloss:0.65661\n",
      "[297]\tvalidation_0-logloss:0.61402\tvalidation_1-logloss:0.65650\n",
      "[298]\tvalidation_0-logloss:0.61377\tvalidation_1-logloss:0.65644\n",
      "[299]\tvalidation_0-logloss:0.61354\tvalidation_1-logloss:0.65639\n"
     ]
    },
    {
     "data": {
      "text/html": [
       "<style>#sk-container-id-2 {\n",
       "  /* Definition of color scheme common for light and dark mode */\n",
       "  --sklearn-color-text: #000;\n",
       "  --sklearn-color-text-muted: #666;\n",
       "  --sklearn-color-line: gray;\n",
       "  /* Definition of color scheme for unfitted estimators */\n",
       "  --sklearn-color-unfitted-level-0: #fff5e6;\n",
       "  --sklearn-color-unfitted-level-1: #f6e4d2;\n",
       "  --sklearn-color-unfitted-level-2: #ffe0b3;\n",
       "  --sklearn-color-unfitted-level-3: chocolate;\n",
       "  /* Definition of color scheme for fitted estimators */\n",
       "  --sklearn-color-fitted-level-0: #f0f8ff;\n",
       "  --sklearn-color-fitted-level-1: #d4ebff;\n",
       "  --sklearn-color-fitted-level-2: #b3dbfd;\n",
       "  --sklearn-color-fitted-level-3: cornflowerblue;\n",
       "\n",
       "  /* Specific color for light theme */\n",
       "  --sklearn-color-text-on-default-background: var(--sg-text-color, var(--theme-code-foreground, var(--jp-content-font-color1, black)));\n",
       "  --sklearn-color-background: var(--sg-background-color, var(--theme-background, var(--jp-layout-color0, white)));\n",
       "  --sklearn-color-border-box: var(--sg-text-color, var(--theme-code-foreground, var(--jp-content-font-color1, black)));\n",
       "  --sklearn-color-icon: #696969;\n",
       "\n",
       "  @media (prefers-color-scheme: dark) {\n",
       "    /* Redefinition of color scheme for dark theme */\n",
       "    --sklearn-color-text-on-default-background: var(--sg-text-color, var(--theme-code-foreground, var(--jp-content-font-color1, white)));\n",
       "    --sklearn-color-background: var(--sg-background-color, var(--theme-background, var(--jp-layout-color0, #111)));\n",
       "    --sklearn-color-border-box: var(--sg-text-color, var(--theme-code-foreground, var(--jp-content-font-color1, white)));\n",
       "    --sklearn-color-icon: #878787;\n",
       "  }\n",
       "}\n",
       "\n",
       "#sk-container-id-2 {\n",
       "  color: var(--sklearn-color-text);\n",
       "}\n",
       "\n",
       "#sk-container-id-2 pre {\n",
       "  padding: 0;\n",
       "}\n",
       "\n",
       "#sk-container-id-2 input.sk-hidden--visually {\n",
       "  border: 0;\n",
       "  clip: rect(1px 1px 1px 1px);\n",
       "  clip: rect(1px, 1px, 1px, 1px);\n",
       "  height: 1px;\n",
       "  margin: -1px;\n",
       "  overflow: hidden;\n",
       "  padding: 0;\n",
       "  position: absolute;\n",
       "  width: 1px;\n",
       "}\n",
       "\n",
       "#sk-container-id-2 div.sk-dashed-wrapped {\n",
       "  border: 1px dashed var(--sklearn-color-line);\n",
       "  margin: 0 0.4em 0.5em 0.4em;\n",
       "  box-sizing: border-box;\n",
       "  padding-bottom: 0.4em;\n",
       "  background-color: var(--sklearn-color-background);\n",
       "}\n",
       "\n",
       "#sk-container-id-2 div.sk-container {\n",
       "  /* jupyter's `normalize.less` sets `[hidden] { display: none; }`\n",
       "     but bootstrap.min.css set `[hidden] { display: none !important; }`\n",
       "     so we also need the `!important` here to be able to override the\n",
       "     default hidden behavior on the sphinx rendered scikit-learn.org.\n",
       "     See: https://github.com/scikit-learn/scikit-learn/issues/21755 */\n",
       "  display: inline-block !important;\n",
       "  position: relative;\n",
       "}\n",
       "\n",
       "#sk-container-id-2 div.sk-text-repr-fallback {\n",
       "  display: none;\n",
       "}\n",
       "\n",
       "div.sk-parallel-item,\n",
       "div.sk-serial,\n",
       "div.sk-item {\n",
       "  /* draw centered vertical line to link estimators */\n",
       "  background-image: linear-gradient(var(--sklearn-color-text-on-default-background), var(--sklearn-color-text-on-default-background));\n",
       "  background-size: 2px 100%;\n",
       "  background-repeat: no-repeat;\n",
       "  background-position: center center;\n",
       "}\n",
       "\n",
       "/* Parallel-specific style estimator block */\n",
       "\n",
       "#sk-container-id-2 div.sk-parallel-item::after {\n",
       "  content: \"\";\n",
       "  width: 100%;\n",
       "  border-bottom: 2px solid var(--sklearn-color-text-on-default-background);\n",
       "  flex-grow: 1;\n",
       "}\n",
       "\n",
       "#sk-container-id-2 div.sk-parallel {\n",
       "  display: flex;\n",
       "  align-items: stretch;\n",
       "  justify-content: center;\n",
       "  background-color: var(--sklearn-color-background);\n",
       "  position: relative;\n",
       "}\n",
       "\n",
       "#sk-container-id-2 div.sk-parallel-item {\n",
       "  display: flex;\n",
       "  flex-direction: column;\n",
       "}\n",
       "\n",
       "#sk-container-id-2 div.sk-parallel-item:first-child::after {\n",
       "  align-self: flex-end;\n",
       "  width: 50%;\n",
       "}\n",
       "\n",
       "#sk-container-id-2 div.sk-parallel-item:last-child::after {\n",
       "  align-self: flex-start;\n",
       "  width: 50%;\n",
       "}\n",
       "\n",
       "#sk-container-id-2 div.sk-parallel-item:only-child::after {\n",
       "  width: 0;\n",
       "}\n",
       "\n",
       "/* Serial-specific style estimator block */\n",
       "\n",
       "#sk-container-id-2 div.sk-serial {\n",
       "  display: flex;\n",
       "  flex-direction: column;\n",
       "  align-items: center;\n",
       "  background-color: var(--sklearn-color-background);\n",
       "  padding-right: 1em;\n",
       "  padding-left: 1em;\n",
       "}\n",
       "\n",
       "\n",
       "/* Toggleable style: style used for estimator/Pipeline/ColumnTransformer box that is\n",
       "clickable and can be expanded/collapsed.\n",
       "- Pipeline and ColumnTransformer use this feature and define the default style\n",
       "- Estimators will overwrite some part of the style using the `sk-estimator` class\n",
       "*/\n",
       "\n",
       "/* Pipeline and ColumnTransformer style (default) */\n",
       "\n",
       "#sk-container-id-2 div.sk-toggleable {\n",
       "  /* Default theme specific background. It is overwritten whether we have a\n",
       "  specific estimator or a Pipeline/ColumnTransformer */\n",
       "  background-color: var(--sklearn-color-background);\n",
       "}\n",
       "\n",
       "/* Toggleable label */\n",
       "#sk-container-id-2 label.sk-toggleable__label {\n",
       "  cursor: pointer;\n",
       "  display: flex;\n",
       "  width: 100%;\n",
       "  margin-bottom: 0;\n",
       "  padding: 0.5em;\n",
       "  box-sizing: border-box;\n",
       "  text-align: center;\n",
       "  align-items: start;\n",
       "  justify-content: space-between;\n",
       "  gap: 0.5em;\n",
       "}\n",
       "\n",
       "#sk-container-id-2 label.sk-toggleable__label .caption {\n",
       "  font-size: 0.6rem;\n",
       "  font-weight: lighter;\n",
       "  color: var(--sklearn-color-text-muted);\n",
       "}\n",
       "\n",
       "#sk-container-id-2 label.sk-toggleable__label-arrow:before {\n",
       "  /* Arrow on the left of the label */\n",
       "  content: \"▸\";\n",
       "  float: left;\n",
       "  margin-right: 0.25em;\n",
       "  color: var(--sklearn-color-icon);\n",
       "}\n",
       "\n",
       "#sk-container-id-2 label.sk-toggleable__label-arrow:hover:before {\n",
       "  color: var(--sklearn-color-text);\n",
       "}\n",
       "\n",
       "/* Toggleable content - dropdown */\n",
       "\n",
       "#sk-container-id-2 div.sk-toggleable__content {\n",
       "  max-height: 0;\n",
       "  max-width: 0;\n",
       "  overflow: hidden;\n",
       "  text-align: left;\n",
       "  /* unfitted */\n",
       "  background-color: var(--sklearn-color-unfitted-level-0);\n",
       "}\n",
       "\n",
       "#sk-container-id-2 div.sk-toggleable__content.fitted {\n",
       "  /* fitted */\n",
       "  background-color: var(--sklearn-color-fitted-level-0);\n",
       "}\n",
       "\n",
       "#sk-container-id-2 div.sk-toggleable__content pre {\n",
       "  margin: 0.2em;\n",
       "  border-radius: 0.25em;\n",
       "  color: var(--sklearn-color-text);\n",
       "  /* unfitted */\n",
       "  background-color: var(--sklearn-color-unfitted-level-0);\n",
       "}\n",
       "\n",
       "#sk-container-id-2 div.sk-toggleable__content.fitted pre {\n",
       "  /* unfitted */\n",
       "  background-color: var(--sklearn-color-fitted-level-0);\n",
       "}\n",
       "\n",
       "#sk-container-id-2 input.sk-toggleable__control:checked~div.sk-toggleable__content {\n",
       "  /* Expand drop-down */\n",
       "  max-height: 200px;\n",
       "  max-width: 100%;\n",
       "  overflow: auto;\n",
       "}\n",
       "\n",
       "#sk-container-id-2 input.sk-toggleable__control:checked~label.sk-toggleable__label-arrow:before {\n",
       "  content: \"▾\";\n",
       "}\n",
       "\n",
       "/* Pipeline/ColumnTransformer-specific style */\n",
       "\n",
       "#sk-container-id-2 div.sk-label input.sk-toggleable__control:checked~label.sk-toggleable__label {\n",
       "  color: var(--sklearn-color-text);\n",
       "  background-color: var(--sklearn-color-unfitted-level-2);\n",
       "}\n",
       "\n",
       "#sk-container-id-2 div.sk-label.fitted input.sk-toggleable__control:checked~label.sk-toggleable__label {\n",
       "  background-color: var(--sklearn-color-fitted-level-2);\n",
       "}\n",
       "\n",
       "/* Estimator-specific style */\n",
       "\n",
       "/* Colorize estimator box */\n",
       "#sk-container-id-2 div.sk-estimator input.sk-toggleable__control:checked~label.sk-toggleable__label {\n",
       "  /* unfitted */\n",
       "  background-color: var(--sklearn-color-unfitted-level-2);\n",
       "}\n",
       "\n",
       "#sk-container-id-2 div.sk-estimator.fitted input.sk-toggleable__control:checked~label.sk-toggleable__label {\n",
       "  /* fitted */\n",
       "  background-color: var(--sklearn-color-fitted-level-2);\n",
       "}\n",
       "\n",
       "#sk-container-id-2 div.sk-label label.sk-toggleable__label,\n",
       "#sk-container-id-2 div.sk-label label {\n",
       "  /* The background is the default theme color */\n",
       "  color: var(--sklearn-color-text-on-default-background);\n",
       "}\n",
       "\n",
       "/* On hover, darken the color of the background */\n",
       "#sk-container-id-2 div.sk-label:hover label.sk-toggleable__label {\n",
       "  color: var(--sklearn-color-text);\n",
       "  background-color: var(--sklearn-color-unfitted-level-2);\n",
       "}\n",
       "\n",
       "/* Label box, darken color on hover, fitted */\n",
       "#sk-container-id-2 div.sk-label.fitted:hover label.sk-toggleable__label.fitted {\n",
       "  color: var(--sklearn-color-text);\n",
       "  background-color: var(--sklearn-color-fitted-level-2);\n",
       "}\n",
       "\n",
       "/* Estimator label */\n",
       "\n",
       "#sk-container-id-2 div.sk-label label {\n",
       "  font-family: monospace;\n",
       "  font-weight: bold;\n",
       "  display: inline-block;\n",
       "  line-height: 1.2em;\n",
       "}\n",
       "\n",
       "#sk-container-id-2 div.sk-label-container {\n",
       "  text-align: center;\n",
       "}\n",
       "\n",
       "/* Estimator-specific */\n",
       "#sk-container-id-2 div.sk-estimator {\n",
       "  font-family: monospace;\n",
       "  border: 1px dotted var(--sklearn-color-border-box);\n",
       "  border-radius: 0.25em;\n",
       "  box-sizing: border-box;\n",
       "  margin-bottom: 0.5em;\n",
       "  /* unfitted */\n",
       "  background-color: var(--sklearn-color-unfitted-level-0);\n",
       "}\n",
       "\n",
       "#sk-container-id-2 div.sk-estimator.fitted {\n",
       "  /* fitted */\n",
       "  background-color: var(--sklearn-color-fitted-level-0);\n",
       "}\n",
       "\n",
       "/* on hover */\n",
       "#sk-container-id-2 div.sk-estimator:hover {\n",
       "  /* unfitted */\n",
       "  background-color: var(--sklearn-color-unfitted-level-2);\n",
       "}\n",
       "\n",
       "#sk-container-id-2 div.sk-estimator.fitted:hover {\n",
       "  /* fitted */\n",
       "  background-color: var(--sklearn-color-fitted-level-2);\n",
       "}\n",
       "\n",
       "/* Specification for estimator info (e.g. \"i\" and \"?\") */\n",
       "\n",
       "/* Common style for \"i\" and \"?\" */\n",
       "\n",
       ".sk-estimator-doc-link,\n",
       "a:link.sk-estimator-doc-link,\n",
       "a:visited.sk-estimator-doc-link {\n",
       "  float: right;\n",
       "  font-size: smaller;\n",
       "  line-height: 1em;\n",
       "  font-family: monospace;\n",
       "  background-color: var(--sklearn-color-background);\n",
       "  border-radius: 1em;\n",
       "  height: 1em;\n",
       "  width: 1em;\n",
       "  text-decoration: none !important;\n",
       "  margin-left: 0.5em;\n",
       "  text-align: center;\n",
       "  /* unfitted */\n",
       "  border: var(--sklearn-color-unfitted-level-1) 1pt solid;\n",
       "  color: var(--sklearn-color-unfitted-level-1);\n",
       "}\n",
       "\n",
       ".sk-estimator-doc-link.fitted,\n",
       "a:link.sk-estimator-doc-link.fitted,\n",
       "a:visited.sk-estimator-doc-link.fitted {\n",
       "  /* fitted */\n",
       "  border: var(--sklearn-color-fitted-level-1) 1pt solid;\n",
       "  color: var(--sklearn-color-fitted-level-1);\n",
       "}\n",
       "\n",
       "/* On hover */\n",
       "div.sk-estimator:hover .sk-estimator-doc-link:hover,\n",
       ".sk-estimator-doc-link:hover,\n",
       "div.sk-label-container:hover .sk-estimator-doc-link:hover,\n",
       ".sk-estimator-doc-link:hover {\n",
       "  /* unfitted */\n",
       "  background-color: var(--sklearn-color-unfitted-level-3);\n",
       "  color: var(--sklearn-color-background);\n",
       "  text-decoration: none;\n",
       "}\n",
       "\n",
       "div.sk-estimator.fitted:hover .sk-estimator-doc-link.fitted:hover,\n",
       ".sk-estimator-doc-link.fitted:hover,\n",
       "div.sk-label-container:hover .sk-estimator-doc-link.fitted:hover,\n",
       ".sk-estimator-doc-link.fitted:hover {\n",
       "  /* fitted */\n",
       "  background-color: var(--sklearn-color-fitted-level-3);\n",
       "  color: var(--sklearn-color-background);\n",
       "  text-decoration: none;\n",
       "}\n",
       "\n",
       "/* Span, style for the box shown on hovering the info icon */\n",
       ".sk-estimator-doc-link span {\n",
       "  display: none;\n",
       "  z-index: 9999;\n",
       "  position: relative;\n",
       "  font-weight: normal;\n",
       "  right: .2ex;\n",
       "  padding: .5ex;\n",
       "  margin: .5ex;\n",
       "  width: min-content;\n",
       "  min-width: 20ex;\n",
       "  max-width: 50ex;\n",
       "  color: var(--sklearn-color-text);\n",
       "  box-shadow: 2pt 2pt 4pt #999;\n",
       "  /* unfitted */\n",
       "  background: var(--sklearn-color-unfitted-level-0);\n",
       "  border: .5pt solid var(--sklearn-color-unfitted-level-3);\n",
       "}\n",
       "\n",
       ".sk-estimator-doc-link.fitted span {\n",
       "  /* fitted */\n",
       "  background: var(--sklearn-color-fitted-level-0);\n",
       "  border: var(--sklearn-color-fitted-level-3);\n",
       "}\n",
       "\n",
       ".sk-estimator-doc-link:hover span {\n",
       "  display: block;\n",
       "}\n",
       "\n",
       "/* \"?\"-specific style due to the `<a>` HTML tag */\n",
       "\n",
       "#sk-container-id-2 a.estimator_doc_link {\n",
       "  float: right;\n",
       "  font-size: 1rem;\n",
       "  line-height: 1em;\n",
       "  font-family: monospace;\n",
       "  background-color: var(--sklearn-color-background);\n",
       "  border-radius: 1rem;\n",
       "  height: 1rem;\n",
       "  width: 1rem;\n",
       "  text-decoration: none;\n",
       "  /* unfitted */\n",
       "  color: var(--sklearn-color-unfitted-level-1);\n",
       "  border: var(--sklearn-color-unfitted-level-1) 1pt solid;\n",
       "}\n",
       "\n",
       "#sk-container-id-2 a.estimator_doc_link.fitted {\n",
       "  /* fitted */\n",
       "  border: var(--sklearn-color-fitted-level-1) 1pt solid;\n",
       "  color: var(--sklearn-color-fitted-level-1);\n",
       "}\n",
       "\n",
       "/* On hover */\n",
       "#sk-container-id-2 a.estimator_doc_link:hover {\n",
       "  /* unfitted */\n",
       "  background-color: var(--sklearn-color-unfitted-level-3);\n",
       "  color: var(--sklearn-color-background);\n",
       "  text-decoration: none;\n",
       "}\n",
       "\n",
       "#sk-container-id-2 a.estimator_doc_link.fitted:hover {\n",
       "  /* fitted */\n",
       "  background-color: var(--sklearn-color-fitted-level-3);\n",
       "}\n",
       "</style><div id=\"sk-container-id-2\" class=\"sk-top-container\"><div class=\"sk-text-repr-fallback\"><pre>XGBClassifier(base_score=None, booster=None, callbacks=None,\n",
       "              colsample_bylevel=None, colsample_bynode=None,\n",
       "              colsample_bytree=1.0, device=None, early_stopping_rounds=None,\n",
       "              enable_categorical=False, eval_metric=&#x27;logloss&#x27;,\n",
       "              feature_types=None, feature_weights=None, gamma=None,\n",
       "              grow_policy=None, importance_type=None,\n",
       "              interaction_constraints=None, learning_rate=0.01, max_bin=None,\n",
       "              max_cat_threshold=None, max_cat_to_onehot=None,\n",
       "              max_delta_step=None, max_depth=6, max_leaves=None,\n",
       "              min_child_weight=None, missing=nan, monotone_constraints=None,\n",
       "              multi_strategy=None, n_estimators=300, n_jobs=None,\n",
       "              num_parallel_tree=None, ...)</pre><b>In a Jupyter environment, please rerun this cell to show the HTML representation or trust the notebook. <br />On GitHub, the HTML representation is unable to render, please try loading this page with nbviewer.org.</b></div><div class=\"sk-container\" hidden><div class=\"sk-item\"><div class=\"sk-estimator fitted sk-toggleable\"><input class=\"sk-toggleable__control sk-hidden--visually\" id=\"sk-estimator-id-2\" type=\"checkbox\" checked><label for=\"sk-estimator-id-2\" class=\"sk-toggleable__label fitted sk-toggleable__label-arrow\"><div><div>XGBClassifier</div></div><div><a class=\"sk-estimator-doc-link fitted\" rel=\"noreferrer\" target=\"_blank\" href=\"https://xgboost.readthedocs.io/en/release_3.0.0/python/python_api.html#xgboost.XGBClassifier\">?<span>Documentation for XGBClassifier</span></a><span class=\"sk-estimator-doc-link fitted\">i<span>Fitted</span></span></div></label><div class=\"sk-toggleable__content fitted\"><pre>XGBClassifier(base_score=None, booster=None, callbacks=None,\n",
       "              colsample_bylevel=None, colsample_bynode=None,\n",
       "              colsample_bytree=1.0, device=None, early_stopping_rounds=None,\n",
       "              enable_categorical=False, eval_metric=&#x27;logloss&#x27;,\n",
       "              feature_types=None, feature_weights=None, gamma=None,\n",
       "              grow_policy=None, importance_type=None,\n",
       "              interaction_constraints=None, learning_rate=0.01, max_bin=None,\n",
       "              max_cat_threshold=None, max_cat_to_onehot=None,\n",
       "              max_delta_step=None, max_depth=6, max_leaves=None,\n",
       "              min_child_weight=None, missing=nan, monotone_constraints=None,\n",
       "              multi_strategy=None, n_estimators=300, n_jobs=None,\n",
       "              num_parallel_tree=None, ...)</pre></div> </div></div></div></div>"
      ],
      "text/plain": [
       "XGBClassifier(base_score=None, booster=None, callbacks=None,\n",
       "              colsample_bylevel=None, colsample_bynode=None,\n",
       "              colsample_bytree=1.0, device=None, early_stopping_rounds=None,\n",
       "              enable_categorical=False, eval_metric='logloss',\n",
       "              feature_types=None, feature_weights=None, gamma=None,\n",
       "              grow_policy=None, importance_type=None,\n",
       "              interaction_constraints=None, learning_rate=0.01, max_bin=None,\n",
       "              max_cat_threshold=None, max_cat_to_onehot=None,\n",
       "              max_delta_step=None, max_depth=6, max_leaves=None,\n",
       "              min_child_weight=None, missing=nan, monotone_constraints=None,\n",
       "              multi_strategy=None, n_estimators=300, n_jobs=None,\n",
       "              num_parallel_tree=None, ...)"
      ]
     },
     "execution_count": 174,
     "metadata": {},
     "output_type": "execute_result"
    }
   ],
   "source": [
    "# Step 2: Train with best params and track training loss\n",
    "best_xgb = grid.best_estimator_\n",
    "\n",
    "evals_result = {}\n",
    "best_xgb.fit(\n",
    "    X_train_vec, y_train,\n",
    "    eval_set=[(X_train_vec, y_train), (X_val_vec, y_val)],\n",
    "    # eval_metric='logloss', # no need for this as it is already specified before the GridSearch CV\n",
    "    verbose=True,\n",
    "    # evals_result=evals_result \n",
    ")"
   ]
  },
  {
   "cell_type": "code",
   "execution_count": 175,
   "id": "416415d5",
   "metadata": {},
   "outputs": [],
   "source": [
    "# Now accessing the eval results\n",
    "evals_result = best_xgb.evals_result_"
   ]
  },
  {
   "cell_type": "code",
   "execution_count": 178,
   "id": "d3bc49dd",
   "metadata": {},
   "outputs": [
    {
     "data": {
      "image/png": "[encoded data removed]",
      "text/plain": [
       "<Figure size 640x480 with 1 Axes>"
      ]
     },
     "metadata": {},
     "output_type": "display_data"
    }
   ],
   "source": [
    "# Step 3: Plot loss\n",
    "epochs = range(len(evals_result['validation_0']['logloss']))\n",
    "plt.plot(epochs, evals_result['validation_0']['logloss'], label='Train Loss')\n",
    "plt.plot(epochs, evals_result['validation_1']['logloss'], label='Validation Loss')\n",
    "plt.xlabel(\"Boosting Round\")\n",
    "plt.ylabel(\"Log Loss\")\n",
    "plt.title(\"XGBoost #2 Training vs Validation Loss\")\n",
    "plt.legend()\n",
    "plt.grid(True)\n",
    "plt.tight_layout()\n",
    "sns.despine()"
   ]
  },
  {
   "cell_type": "markdown",
   "id": "2b7b9b14",
   "metadata": {},
   "source": [
    "#### Evaluating XGBoost #2"
   ]
  },
  {
   "cell_type": "code",
   "execution_count": 179,
   "id": "3522d920",
   "metadata": {},
   "outputs": [
    {
     "name": "stdout",
     "output_type": "stream",
     "text": [
      "XGBoost Model #2: \n",
      "Training Evaluation Results:\n",
      "               precision    recall  f1-score   support\n",
      "\n",
      "           0       0.83      0.42      0.56      2000\n",
      "           1       0.64      0.92      0.76      2280\n",
      "\n",
      "    accuracy                           0.69      4280\n",
      "   macro avg       0.74      0.67      0.66      4280\n",
      "weighted avg       0.73      0.69      0.66      4280\n",
      "\n"
     ]
    }
   ],
   "source": [
    "y_train_pred = best_xgb.predict(X_train_vec)\n",
    "print(\"XGBoost Model #2: \\nTraining Evaluation Results:\\n\", classification_report(y_train, y_train_pred))"
   ]
  },
  {
   "cell_type": "code",
   "execution_count": 180,
   "id": "6d561a79",
   "metadata": {},
   "outputs": [
    {
     "name": "stdout",
     "output_type": "stream",
     "text": [
      "Validation Results:\n",
      "               precision    recall  f1-score   support\n",
      "\n",
      "           0       0.71      0.34      0.46       250\n",
      "           1       0.60      0.88      0.72       285\n",
      "\n",
      "    accuracy                           0.63       535\n",
      "   macro avg       0.66      0.61      0.59       535\n",
      "weighted avg       0.65      0.63      0.60       535\n",
      "\n"
     ]
    }
   ],
   "source": [
    "# Evaluation of validation set\n",
    "y_val_pred = best_xgb.predict(X_val_vec)\n",
    "print(\"Validation Results:\\n\", classification_report(y_val, y_val_pred))"
   ]
  },
  {
   "cell_type": "code",
   "execution_count": 181,
   "id": "eea4f5d2",
   "metadata": {},
   "outputs": [
    {
     "name": "stdout",
     "output_type": "stream",
     "text": [
      "Test Results:\n",
      "               precision    recall  f1-score   support\n",
      "\n",
      "           0       0.74      0.38      0.51       250\n",
      "           1       0.62      0.88      0.73       285\n",
      "\n",
      "    accuracy                           0.65       535\n",
      "   macro avg       0.68      0.63      0.62       535\n",
      "weighted avg       0.68      0.65      0.63       535\n",
      "\n"
     ]
    }
   ],
   "source": [
    "# Evaluation of test set\n",
    "y_test_pred = best_xgb.predict(X_test_vec)\n",
    "print(\"Test Results:\\n\", classification_report(y_test, y_test_pred))"
   ]
  },
  {
   "cell_type": "markdown",
   "id": "2f2dd462",
   "metadata": {},
   "source": [
    "#### Saving XGBoost Model #2"
   ]
  },
  {
   "cell_type": "code",
   "execution_count": 184,
   "id": "45100902",
   "metadata": {},
   "outputs": [
    {
     "data": {
      "text/plain": [
       "['./models/xgb_baseline_model.pkl']"
      ]
     },
     "execution_count": 184,
     "metadata": {},
     "output_type": "execute_result"
    }
   ],
   "source": [
    "joblib.dump(best_xgb, './models/xgb_baseline_model.pkl')"
   ]
  },
  {
   "cell_type": "markdown",
   "id": "e7b5f75e",
   "metadata": {},
   "source": [
    "#### Loading XGBoost Model #2"
   ]
  },
  {
   "cell_type": "code",
   "execution_count": 193,
   "id": "d8cdc45b",
   "metadata": {},
   "outputs": [],
   "source": [
    "best_xgb = joblib.load('./models/xgb_baseline_model.pkl')"
   ]
  },
  {
   "cell_type": "markdown",
   "id": "b065a7bb",
   "metadata": {},
   "source": [
    "## LLMs for MATCH/MISMATCH Classification"
   ]
  },
  {
   "cell_type": "markdown",
   "id": "3695c5d0",
   "metadata": {},
   "source": [
    "### No Shot Prompting"
   ]
  },
  {
   "cell_type": "code",
   "execution_count": 197,
   "id": "1b582c1e",
   "metadata": {},
   "outputs": [],
   "source": [
    "def classify_with_ollama(desc, merchant, model='gemma3'):\n",
    "    prompt = f\"\"\"\n",
    "Given the messy transaction descriptor and the merchant name below, predict whether they represent the same entity (MATCH) or not (MISMATCH).\n",
    "\n",
    "Messy Descriptor: {desc}\n",
    "Merchant Name: {merchant}\n",
    "\n",
    "Respond with only one word: MATCH or MISMATCH.\n",
    "\"\"\"\n",
    "    try:\n",
    "        response = ollama.chat(model=model, messages=[{\"role\": \"user\", \"content\": prompt}])\n",
    "        return response['message']['content'].strip().upper()\n",
    "    except Exception as e:\n",
    "        print(\"Error:\", e)\n",
    "        return \"ERROR\""
   ]
  },
  {
   "cell_type": "code",
   "execution_count": 198,
   "id": "054d070f",
   "metadata": {},
   "outputs": [
    {
     "data": {
      "text/plain": [
       "'MISMATCH'"
      ]
     },
     "execution_count": 198,
     "metadata": {},
     "output_type": "execute_result"
    }
   ],
   "source": [
    "classify_with_ollama(\"EBAY HOME-GDS US*\", \"Subway Store Ottawa\", \"gemma3\")"
   ]
  },
  {
   "cell_type": "code",
   "execution_count": 200,
   "id": "3840644c",
   "metadata": {},
   "outputs": [
    {
     "name": "stderr",
     "output_type": "stream",
     "text": [
      "100%|██████████| 4280/4280 [18:09<00:00,  3.93it/s]\n"
     ]
    }
   ],
   "source": [
    "llm_train_preds = []\n",
    "\n",
    "for _, row in tqdm(train_df.iterrows(), total=len(train_df)):\n",
    "    result = classify_with_ollama(row['Messy Descriptor'], row['Merchant Name'], model='gemma3')\n",
    "    # Clean & fallback\n",
    "    if result not in ['MATCH', 'MISMATCH']:\n",
    "        result = 'MISMATCH'\n",
    "    llm_train_preds.append(1 if result == 'MATCH' else 0)"
   ]
  },
  {
   "cell_type": "code",
   "execution_count": 203,
   "id": "5e88daed",
   "metadata": {},
   "outputs": [
    {
     "name": "stdout",
     "output_type": "stream",
     "text": [
      "Gemma3 LLM Evaluation on Train Set:\n",
      "              precision    recall  f1-score   support\n",
      "\n",
      "           0       1.00      0.52      0.68      2000\n",
      "           1       0.70      1.00      0.83      2280\n",
      "\n",
      "    accuracy                           0.78      4280\n",
      "   macro avg       0.85      0.76      0.75      4280\n",
      "weighted avg       0.84      0.78      0.76      4280\n",
      "\n"
     ]
    }
   ],
   "source": [
    "print(\"Gemma3 LLM Evaluation on Train Set:\")\n",
    "print(classification_report(y_train, llm_train_preds))"
   ]
  },
  {
   "cell_type": "code",
   "execution_count": null,
   "id": "d5c62b19",
   "metadata": {},
   "outputs": [
    {
     "name": "stderr",
     "output_type": "stream",
     "text": [
      "100%|██████████| 535/535 [02:21<00:00,  3.77it/s]\n"
     ]
    }
   ],
   "source": [
    "llm_val_preds = []\n",
    "\n",
    "for _, row in tqdm(val_df.iterrows(), total=len(val_df)):\n",
    "    result = classify_with_ollama(row['Messy Descriptor'], row['Merchant Name'], model='gemma3')\n",
    "    # Clean & fallback\n",
    "    if result not in ['MATCH', 'MISMATCH']:\n",
    "        result = 'MISMATCH'\n",
    "    llm_val_preds.append(1 if result == 'MATCH' else 0)"
   ]
  },
  {
   "cell_type": "code",
   "execution_count": 206,
   "id": "e3d3f4b4",
   "metadata": {},
   "outputs": [
    {
     "name": "stdout",
     "output_type": "stream",
     "text": [
      "Gemma3 LLM Evaluation on Validation Set:\n",
      "              precision    recall  f1-score   support\n",
      "\n",
      "           0       0.99      0.54      0.70       250\n",
      "           1       0.71      1.00      0.83       285\n",
      "\n",
      "    accuracy                           0.79       535\n",
      "   macro avg       0.85      0.77      0.77       535\n",
      "weighted avg       0.84      0.79      0.77       535\n",
      "\n"
     ]
    }
   ],
   "source": [
    "print(\"Gemma3 LLM Evaluation on Validation Set:\")\n",
    "print(classification_report(y_val, llm_val_preds))"
   ]
  },
  {
   "cell_type": "code",
   "execution_count": 207,
   "id": "13188fef",
   "metadata": {},
   "outputs": [
    {
     "name": "stderr",
     "output_type": "stream",
     "text": [
      "100%|██████████| 535/535 [02:19<00:00,  3.84it/s]\n"
     ]
    }
   ],
   "source": [
    "llm_test_preds = []\n",
    "\n",
    "for _, row in tqdm(test_df.iterrows(), total=len(test_df)):\n",
    "    result = classify_with_ollama(row['Messy Descriptor'], row['Merchant Name'], model='gemma3')\n",
    "    # Clean & fallback\n",
    "    if result not in ['MATCH', 'MISMATCH']:\n",
    "        result = 'MISMATCH'\n",
    "    llm_test_preds.append(1 if result == 'MATCH' else 0)"
   ]
  },
  {
   "cell_type": "code",
   "execution_count": 208,
   "id": "38a4f461",
   "metadata": {},
   "outputs": [
    {
     "name": "stdout",
     "output_type": "stream",
     "text": [
      "Gemma3 LLM Evaluation on Test Set:\n",
      "              precision    recall  f1-score   support\n",
      "\n",
      "           0       1.00      0.48      0.65       250\n",
      "           1       0.69      1.00      0.82       285\n",
      "\n",
      "    accuracy                           0.76       535\n",
      "   macro avg       0.84      0.74      0.73       535\n",
      "weighted avg       0.83      0.76      0.74       535\n",
      "\n"
     ]
    }
   ],
   "source": [
    "print(\"Gemma3 LLM Evaluation on Test Set:\")\n",
    "print(classification_report(y_test, llm_test_preds))"
   ]
  },
  {
   "cell_type": "markdown",
   "id": "09f37d7f",
   "metadata": {},
   "source": [
    "# 5. Evaluation and Results"
   ]
  },
  {
   "cell_type": "markdown",
   "id": "ff81c005",
   "metadata": {},
   "source": [
    "# 6. Challenges and Insights "
   ]
  },
  {
   "cell_type": "markdown",
   "id": "261018d6",
   "metadata": {},
   "source": [
    "## Future Improvement Areas"
   ]
  },
  {
   "cell_type": "markdown",
   "id": "9bf23ada",
   "metadata": {},
   "source": [
    "# 7. Conclusion"
   ]
  }
 ],
 "metadata": {
  "kernelspec": {
   "display_name": "csye7230",
   "language": "python",
   "name": "python3"
  },
  "language_info": {
   "codemirror_mode": {
    "name": "ipython",
    "version": 3
   },
   "file_extension": ".py",
   "mimetype": "text/x-python",
   "name": "python",
   "nbconvert_exporter": "python",
   "pygments_lexer": "ipython3",
   "version": "3.10.16"
  }
 },
 "nbformat": 4,
 "nbformat_minor": 5
}
